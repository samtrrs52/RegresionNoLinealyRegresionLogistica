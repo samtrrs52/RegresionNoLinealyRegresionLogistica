{
  "nbformat": 4,
  "nbformat_minor": 0,
  "metadata": {
    "colab": {
      "provenance": [],
      "include_colab_link": true
    },
    "kernelspec": {
      "name": "python3",
      "display_name": "Python 3"
    },
    "language_info": {
      "name": "python"
    }
  },
  "cells": [
    {
      "cell_type": "markdown",
      "metadata": {
        "id": "view-in-github",
        "colab_type": "text"
      },
      "source": [
        "<a href=\"https://colab.research.google.com/github/samtrrs52/RegresionNoLinealyRegresionLogistica/blob/main/Actividad_7_1.ipynb\" target=\"_parent\"><img src=\"https://colab.research.google.com/assets/colab-badge.svg\" alt=\"Open In Colab\"/></a>"
      ]
    },
    {
      "cell_type": "markdown",
      "source": [
        "# **Actividad 7.1 (Regresión No Lineal)**\n",
        "\n",
        "### **Integrantes**: EQUIPO 6\n",
        "* Said Arturo Flores Nieto A01703477\n",
        "* José Samuel Torres Pacheco A01707617\n",
        "* María Fernanda Hernández Elizarraga A01706592\n",
        "* Paola Plascencia Rey A01707495\n"
      ],
      "metadata": {
        "id": "j2qCakgd6Oqi"
      }
    },
    {
      "cell_type": "code",
      "source": [
        "import pandas as pd\n",
        "import matplotlib.pyplot as plt\n",
        "import scipy.special as special\n",
        "from scipy.optimize import curve_fit\n",
        "import seaborn as sns\n",
        "from sklearn.metrics import r2_score"
      ],
      "metadata": {
        "id": "_orzxli96PLD"
      },
      "execution_count": null,
      "outputs": []
    },
    {
      "cell_type": "code",
      "execution_count": null,
      "metadata": {
        "id": "tn7DwXb657GC"
      },
      "outputs": [],
      "source": [
        "gyc20 = pd.read_excel(\"Gastos y costos 20-23.xlsx\", sheet_name = '2020', index_col = 2, header = 5)\n",
        "gyc21 = pd.read_excel(\"Gastos y costos 20-23.xlsx\", sheet_name = '2021', index_col = 2, header = 3)\n",
        "gyc22 = pd.read_excel(\"Gastos y costos 20-23.xlsx\", sheet_name = '2022', index_col = 2, header = 3)\n",
        "gyc23 = pd.read_excel(\"Gastos y costos 20-23.xlsx\", sheet_name = '2023', index_col = 2, header = 3)"
      ]
    },
    {
      "cell_type": "code",
      "source": [
        "print(\"\\033[1m\" + \"\\n DATOS NULOS DE GASTOS Y COSTOS 2020: \" + str(len(gyc20)) + \"\\033[0m\")\n",
        "print(len(gyc20)-gyc20.count())\n",
        "print(\"\\033[1m\" + \"\\n DATOS NULOS DE GASTOS Y COSTOS 2021: \" + str(len(gyc21)) + \"\\033[0m\")\n",
        "print(len(gyc21)-gyc21.count())\n",
        "print(\"\\033[1m\" + \"\\n DATOS NULOS DE GASTOS Y COSTOS 2022: \" + str(len(gyc22)) + \"\\033[0m\")\n",
        "print(len(gyc22)-gyc22.count())\n",
        "print(\"\\033[1m\" + \"\\n DATOS NULOS DE GASTOS Y COSTOS 2023: \" + str(len(gyc23)) + \"\\033[0m\")\n",
        "print(len(gyc23)-gyc23.count())"
      ],
      "metadata": {
        "id": "ck-oTjV76jkq",
        "colab": {
          "base_uri": "https://localhost:8080/"
        },
        "outputId": "c60af186-e597-4b01-a980-5a9eddf21462"
      },
      "execution_count": null,
      "outputs": [
        {
          "output_type": "stream",
          "name": "stdout",
          "text": [
            "\u001b[1m\n",
            " DATOS NULOS DE GASTOS Y COSTOS 2020: 3342\u001b[0m\n",
            "FECHA             0\n",
            "FOLIO           189\n",
            "RFC               0\n",
            "PROVEEDOR         0\n",
            "TIPO GASTO        0\n",
            "GASTO          2502\n",
            "DESCRIPCION       0\n",
            "TC              391\n",
            "IMPORTE          34\n",
            "IVA             268\n",
            "RET ISR           0\n",
            "RET IVA           0\n",
            "TOTAL MX          0\n",
            "TOTAL SAT         0\n",
            "TIPO              1\n",
            "STATUS            0\n",
            "POLIZA         3321\n",
            "Columna1          0\n",
            "dtype: int64\n",
            "\u001b[1m\n",
            " DATOS NULOS DE GASTOS Y COSTOS 2021: 3035\u001b[0m\n",
            "FECHA             0\n",
            "FOLIO           147\n",
            "RFC               0\n",
            "PROVEEDOR         0\n",
            "TIPO GASTO        0\n",
            "DESCRIPCION       0\n",
            "MP              654\n",
            "TC                0\n",
            "IMPORTE           0\n",
            "IVA               0\n",
            "RET ISR           0\n",
            "RET IVA           0\n",
            "TOTAL MX          0\n",
            "TOTAL SAT         0\n",
            "TIPO              0\n",
            "STATUS            0\n",
            "POLIZA         2372\n",
            "dtype: int64\n",
            "\u001b[1m\n",
            " DATOS NULOS DE GASTOS Y COSTOS 2022: 2577\u001b[0m\n",
            "Fecha             0\n",
            "Folio           102\n",
            "RFC               0\n",
            "Proveedor         0\n",
            "TIPO GASTO        0\n",
            "Descripción       0\n",
            "MP              553\n",
            "TC              636\n",
            "Importe           0\n",
            "IVA               0\n",
            "RET ISR           0\n",
            "RET IVA           0\n",
            "Otros          2577\n",
            "TOTAL MX          0\n",
            "TOTAL SAT         0\n",
            "Tipo              0\n",
            "Status            0\n",
            "Poliza          801\n",
            "dtype: int64\n",
            "\u001b[1m\n",
            " DATOS NULOS DE GASTOS Y COSTOS 2023: 397\u001b[0m\n",
            "Fecha            0\n",
            "Folio           13\n",
            "RFC              0\n",
            "Proveedor        0\n",
            "TIPO GASTO       8\n",
            "Descripción      0\n",
            "MP              71\n",
            "FP              71\n",
            "TC               0\n",
            "Importe          0\n",
            "IVA              0\n",
            "RET ISR          0\n",
            "RET IVA          0\n",
            "Otros          397\n",
            "TOTAL MX         0\n",
            "TOTAL SAT        0\n",
            "Tipo             0\n",
            "Status           0\n",
            "Poliza         115\n",
            "dtype: int64\n"
          ]
        }
      ]
    },
    {
      "cell_type": "code",
      "source": [
        "gyc20['FOLIO'] = gyc20['FOLIO'].fillna('--')\n",
        "gyc20['TC'] = gyc20['TC'].fillna('--')\n",
        "gyc20['POLIZA'] = gyc20['POLIZA'].fillna('--')\n",
        "gyc20['TIPO'] = gyc20['TIPO'].fillna('--')\n",
        "gyc20[['IMPORTE', 'IVA', 'GASTO']] = gyc20[['IMPORTE', 'IVA','GASTO']].fillna(0)\n",
        "\n",
        "gyc21 = gyc21.fillna('--')\n",
        "gyc22 = gyc22.fillna('--')\n",
        "gyc23 = gyc23.fillna('--')"
      ],
      "metadata": {
        "id": "UKmpJtzA6nI0"
      },
      "execution_count": null,
      "outputs": []
    },
    {
      "cell_type": "code",
      "source": [
        "print(\"\\033[1m\" + \"\\n DATOS NULOS DE GASTOS Y COSTOS 2020: \" + str(len(gyc20)) + \"\\033[0m\")\n",
        "print(len(gyc20)-gyc20.count())\n",
        "print(\"\\033[1m\" + \"\\n DATOS NULOS DE GASTOS Y COSTOS 2021: \" + str(len(gyc21)) + \"\\033[0m\")\n",
        "print(len(gyc21)-gyc21.count())\n",
        "print(\"\\033[1m\" + \"\\n DATOS NULOS DE GASTOS Y COSTOS 2022: \" + str(len(gyc22)) + \"\\033[0m\")\n",
        "print(len(gyc22)-gyc22.count())\n",
        "print(\"\\033[1m\" + \"\\n DATOS NULOS DE GASTOS Y COSTOS 2023: \" + str(len(gyc23)) + \"\\033[0m\")\n",
        "print(len(gyc23)-gyc23.count())"
      ],
      "metadata": {
        "id": "pE8Yi90y6v1a",
        "colab": {
          "base_uri": "https://localhost:8080/"
        },
        "outputId": "67fdaa6a-3fb9-48b6-c80d-8f00b66b8ee0"
      },
      "execution_count": null,
      "outputs": [
        {
          "output_type": "stream",
          "name": "stdout",
          "text": [
            "\u001b[1m\n",
            " DATOS NULOS DE GASTOS Y COSTOS 2020: 3342\u001b[0m\n",
            "FECHA          0\n",
            "FOLIO          0\n",
            "RFC            0\n",
            "PROVEEDOR      0\n",
            "TIPO GASTO     0\n",
            "GASTO          0\n",
            "DESCRIPCION    0\n",
            "TC             0\n",
            "IMPORTE        0\n",
            "IVA            0\n",
            "RET ISR        0\n",
            "RET IVA        0\n",
            "TOTAL MX       0\n",
            "TOTAL SAT      0\n",
            "TIPO           0\n",
            "STATUS         0\n",
            "POLIZA         0\n",
            "Columna1       0\n",
            "dtype: int64\n",
            "\u001b[1m\n",
            " DATOS NULOS DE GASTOS Y COSTOS 2021: 3035\u001b[0m\n",
            "FECHA          0\n",
            "FOLIO          0\n",
            "RFC            0\n",
            "PROVEEDOR      0\n",
            "TIPO GASTO     0\n",
            "DESCRIPCION    0\n",
            "MP             0\n",
            "TC             0\n",
            "IMPORTE        0\n",
            "IVA            0\n",
            "RET ISR        0\n",
            "RET IVA        0\n",
            "TOTAL MX       0\n",
            "TOTAL SAT      0\n",
            "TIPO           0\n",
            "STATUS         0\n",
            "POLIZA         0\n",
            "dtype: int64\n",
            "\u001b[1m\n",
            " DATOS NULOS DE GASTOS Y COSTOS 2022: 2577\u001b[0m\n",
            "Fecha          0\n",
            "Folio          0\n",
            "RFC            0\n",
            "Proveedor      0\n",
            "TIPO GASTO     0\n",
            "Descripción    0\n",
            "MP             0\n",
            "TC             0\n",
            "Importe        0\n",
            "IVA            0\n",
            "RET ISR        0\n",
            "RET IVA        0\n",
            "Otros          0\n",
            "TOTAL MX       0\n",
            "TOTAL SAT      0\n",
            "Tipo           0\n",
            "Status         0\n",
            "Poliza         0\n",
            "dtype: int64\n",
            "\u001b[1m\n",
            " DATOS NULOS DE GASTOS Y COSTOS 2023: 397\u001b[0m\n",
            "Fecha          0\n",
            "Folio          0\n",
            "RFC            0\n",
            "Proveedor      0\n",
            "TIPO GASTO     0\n",
            "Descripción    0\n",
            "MP             0\n",
            "FP             0\n",
            "TC             0\n",
            "Importe        0\n",
            "IVA            0\n",
            "RET ISR        0\n",
            "RET IVA        0\n",
            "Otros          0\n",
            "TOTAL MX       0\n",
            "TOTAL SAT      0\n",
            "Tipo           0\n",
            "Status         0\n",
            "Poliza         0\n",
            "dtype: int64\n"
          ]
        }
      ]
    },
    {
      "cell_type": "code",
      "source": [
        "#Graficamos todas las dispersiones entre todas las variables\n",
        "sns.pairplot(gyc20)"
      ],
      "metadata": {
        "id": "pesqYBPy60TD",
        "colab": {
          "base_uri": "https://localhost:8080/",
          "height": 1000
        },
        "outputId": "9ede8595-d08b-49c7-ad53-616de1346f58"
      },
      "execution_count": null,
      "outputs": [
        {
          "output_type": "execute_result",
          "data": {
            "text/plain": [
              "<seaborn.axisgrid.PairGrid at 0x7f0e4dd17550>"
            ]
          },
          "metadata": {},
          "execution_count": 6
        },
        {
          "output_type": "display_data",
          "data": {
            "text/plain": [
              "<Figure size 1750x1750 with 56 Axes>"
            ],
            "image/png": "[encoded data removed]"
          },
          "metadata": {}
        }
      ]
    },
    {
      "cell_type": "code",
      "source": [
        "corr = []\n",
        "det = []\n",
        "n_m = []"
      ],
      "metadata": {
        "id": "TMxo6IDAMKJs"
      },
      "execution_count": null,
      "outputs": []
    },
    {
      "cell_type": "markdown",
      "source": [
        "##**2020**"
      ],
      "metadata": {
        "id": "TQsyjXp8ldFS"
      }
    },
    {
      "cell_type": "code",
      "source": [
        "#Declaramos las variables dependientes e independientes para la regresión No lineal\n",
        "Vars_Indep= gyc20[['IVA']]\n",
        "Var_Dep= gyc20['TOTAL MX']"
      ],
      "metadata": {
        "id": "1O1bCBqp8bqH"
      },
      "execution_count": null,
      "outputs": []
    },
    {
      "cell_type": "code",
      "source": [
        "#Redefinimos las variables \n",
        "x= Vars_Indep\n",
        "y= Var_Dep"
      ],
      "metadata": {
        "id": "D4GQ6K9283wZ"
      },
      "execution_count": null,
      "outputs": []
    },
    {
      "cell_type": "markdown",
      "source": [
        "###**MODELO 1**"
      ],
      "metadata": {
        "id": "YcFytQJ79eG1"
      }
    },
    {
      "cell_type": "code",
      "source": [
        "def  func1 (x, a, b, c):\n",
        "     return a*x**2 + b*x + c"
      ],
      "metadata": {
        "id": "VkroAdDZlal0"
      },
      "execution_count": null,
      "outputs": []
    },
    {
      "cell_type": "code",
      "source": [
        "#Ajustamos los parámetros de la función curve_fit\n",
        "parametros, covs= curve_fit(func1, gyc20['IVA'], gyc20['TOTAL MX'])"
      ],
      "metadata": {
        "id": "_sZhZfGal0LK"
      },
      "execution_count": null,
      "outputs": []
    },
    {
      "cell_type": "code",
      "source": [
        "#Obtenemos los coeficientes del modelo de regresión no lineal\n",
        "parametros"
      ],
      "metadata": {
        "id": "bSCce0xSl2Mi",
        "colab": {
          "base_uri": "https://localhost:8080/"
        },
        "outputId": "4fbbac1d-d698-4568-b795-5feac2e07174"
      },
      "execution_count": null,
      "outputs": [
        {
          "output_type": "execute_result",
          "data": {
            "text/plain": [
              "array([-1.58751480e-04,  8.02350803e+00,  7.56503677e+00])"
            ]
          },
          "metadata": {},
          "execution_count": 12
        }
      ]
    },
    {
      "cell_type": "code",
      "source": [
        "#Creamos el modelo de predicción con los parámetros obtenidos \n",
        "parametros, _ = curve_fit(func1, gyc20['IVA'], gyc20['TOTAL MX'])\n",
        "a, b, c = parametros[ 0 ], parametros[ 1 ], parametros[ 2 ]\n",
        "yfit1 = a * x ** 2 + b * x + c"
      ],
      "metadata": {
        "id": "5-LYx1lTmA44"
      },
      "execution_count": null,
      "outputs": []
    },
    {
      "cell_type": "code",
      "source": [
        "#Calculamos las predicciones y reestructuramos el vector de predicciones\n",
        "#x= x.reshape(51, 1)\n",
        "#y = y.reshape(51, 1)\n",
        "#yfit1 = yfit1.reshape(51, 1)\n",
        "yfit1"
      ],
      "metadata": {
        "id": "97P9JO5WmD7I",
        "colab": {
          "base_uri": "https://localhost:8080/",
          "height": 455
        },
        "outputId": "a07d24b8-d17e-4722-b3df-b2d36319d293"
      },
      "execution_count": null,
      "outputs": [
        {
          "output_type": "execute_result",
          "data": {
            "text/plain": [
              "                                               IVA\n",
              "UUID                                              \n",
              "BD20F436-72CC-4BE2-AD37-5999D71AA391  17244.206566\n",
              "85AEAC2E-6395-44A0-9CB9-754D06893375    635.632291\n",
              "BD0DFE85-D776-41CB-9C5C-4FA7923E687A    257.743952\n",
              "EF4504D6-830D-415C-AF03-80CF54C5E28E  13271.637401\n",
              "EC2F4AA4-BA64-4E2E-A5B7-4EBBE042D6D3      7.565037\n",
              "...                                            ...\n",
              "80BCB1D8-673F-495B-9C2A-4AC9F9CB38E5    169.655293\n",
              "D4C7C1FB-03A7-4046-A2BD-03EBE7DA861E   2919.503092\n",
              "FFCEE7D4-1F38-4D44-BE02-EB042DAACEE7    217.752126\n",
              "8DFF4F01-2F8B-4085-B116-05A314108B02      7.565037\n",
              "F18225D6-4024-4F03-A15A-D18917386D59      7.565037\n",
              "\n",
              "[3342 rows x 1 columns]"
            ],
            "text/html": [
              "\n",
              "  <div id=\"df-a5f716b5-ef2c-444a-b1c7-dc70fba42b3e\">\n",
              "    <div class=\"colab-df-container\">\n",
              "      <div>\n",
              "<style scoped>\n",
              "    .dataframe tbody tr th:only-of-type {\n",
              "        vertical-align: middle;\n",
              "    }\n",
              "\n",
              "    .dataframe tbody tr th {\n",
              "        vertical-align: top;\n",
              "    }\n",
              "\n",
              "    .dataframe thead th {\n",
              "        text-align: right;\n",
              "    }\n",
              "</style>\n",
              "<table border=\"1\" class=\"dataframe\">\n",
              "  <thead>\n",
              "    <tr style=\"text-align: right;\">\n",
              "      <th></th>\n",
              "      <th>IVA</th>\n",
              "    </tr>\n",
              "    <tr>\n",
              "      <th>UUID</th>\n",
              "      <th></th>\n",
              "    </tr>\n",
              "  </thead>\n",
              "  <tbody>\n",
              "    <tr>\n",
              "      <th>BD20F436-72CC-4BE2-AD37-5999D71AA391</th>\n",
              "      <td>17244.206566</td>\n",
              "    </tr>\n",
              "    <tr>\n",
              "      <th>85AEAC2E-6395-44A0-9CB9-754D06893375</th>\n",
              "      <td>635.632291</td>\n",
              "    </tr>\n",
              "    <tr>\n",
              "      <th>BD0DFE85-D776-41CB-9C5C-4FA7923E687A</th>\n",
              "      <td>257.743952</td>\n",
              "    </tr>\n",
              "    <tr>\n",
              "      <th>EF4504D6-830D-415C-AF03-80CF54C5E28E</th>\n",
              "      <td>13271.637401</td>\n",
              "    </tr>\n",
              "    <tr>\n",
              "      <th>EC2F4AA4-BA64-4E2E-A5B7-4EBBE042D6D3</th>\n",
              "      <td>7.565037</td>\n",
              "    </tr>\n",
              "    <tr>\n",
              "      <th>...</th>\n",
              "      <td>...</td>\n",
              "    </tr>\n",
              "    <tr>\n",
              "      <th>80BCB1D8-673F-495B-9C2A-4AC9F9CB38E5</th>\n",
              "      <td>169.655293</td>\n",
              "    </tr>\n",
              "    <tr>\n",
              "      <th>D4C7C1FB-03A7-4046-A2BD-03EBE7DA861E</th>\n",
              "      <td>2919.503092</td>\n",
              "    </tr>\n",
              "    <tr>\n",
              "      <th>FFCEE7D4-1F38-4D44-BE02-EB042DAACEE7</th>\n",
              "      <td>217.752126</td>\n",
              "    </tr>\n",
              "    <tr>\n",
              "      <th>8DFF4F01-2F8B-4085-B116-05A314108B02</th>\n",
              "      <td>7.565037</td>\n",
              "    </tr>\n",
              "    <tr>\n",
              "      <th>F18225D6-4024-4F03-A15A-D18917386D59</th>\n",
              "      <td>7.565037</td>\n",
              "    </tr>\n",
              "  </tbody>\n",
              "</table>\n",
              "<p>3342 rows × 1 columns</p>\n",
              "</div>\n",
              "      <button class=\"colab-df-convert\" onclick=\"convertToInteractive('df-a5f716b5-ef2c-444a-b1c7-dc70fba42b3e')\"\n",
              "              title=\"Convert this dataframe to an interactive table.\"\n",
              "              style=\"display:none;\">\n",
              "        \n",
              "  <svg xmlns=\"http://www.w3.org/2000/svg\" height=\"24px\"viewBox=\"0 0 24 24\"\n",
              "       width=\"24px\">\n",
              "    <path d=\"M0 0h24v24H0V0z\" fill=\"none\"/>\n",
              "    <path d=\"M18.56 5.44l.94 2.06.94-2.06 2.06-.94-2.06-.94-.94-2.06-.94 2.06-2.06.94zm-11 1L8.5 8.5l.94-2.06 2.06-.94-2.06-.94L8.5 2.5l-.94 2.06-2.06.94zm10 10l.94 2.06.94-2.06 2.06-.94-2.06-.94-.94-2.06-.94 2.06-2.06.94z\"/><path d=\"M17.41 7.96l-1.37-1.37c-.4-.4-.92-.59-1.43-.59-.52 0-1.04.2-1.43.59L10.3 9.45l-7.72 7.72c-.78.78-.78 2.05 0 2.83L4 21.41c.39.39.9.59 1.41.59.51 0 1.02-.2 1.41-.59l7.78-7.78 2.81-2.81c.8-.78.8-2.07 0-2.86zM5.41 20L4 18.59l7.72-7.72 1.47 1.35L5.41 20z\"/>\n",
              "  </svg>\n",
              "      </button>\n",
              "      \n",
              "  <style>\n",
              "    .colab-df-container {\n",
              "      display:flex;\n",
              "      flex-wrap:wrap;\n",
              "      gap: 12px;\n",
              "    }\n",
              "\n",
              "    .colab-df-convert {\n",
              "      background-color: #E8F0FE;\n",
              "      border: none;\n",
              "      border-radius: 50%;\n",
              "      cursor: pointer;\n",
              "      display: none;\n",
              "      fill: #1967D2;\n",
              "      height: 32px;\n",
              "      padding: 0 0 0 0;\n",
              "      width: 32px;\n",
              "    }\n",
              "\n",
              "    .colab-df-convert:hover {\n",
              "      background-color: #E2EBFA;\n",
              "      box-shadow: 0px 1px 2px rgba(60, 64, 67, 0.3), 0px 1px 3px 1px rgba(60, 64, 67, 0.15);\n",
              "      fill: #174EA6;\n",
              "    }\n",
              "\n",
              "    [theme=dark] .colab-df-convert {\n",
              "      background-color: #3B4455;\n",
              "      fill: #D2E3FC;\n",
              "    }\n",
              "\n",
              "    [theme=dark] .colab-df-convert:hover {\n",
              "      background-color: #434B5C;\n",
              "      box-shadow: 0px 1px 3px 1px rgba(0, 0, 0, 0.15);\n",
              "      filter: drop-shadow(0px 1px 2px rgba(0, 0, 0, 0.3));\n",
              "      fill: #FFFFFF;\n",
              "    }\n",
              "  </style>\n",
              "\n",
              "      <script>\n",
              "        const buttonEl =\n",
              "          document.querySelector('#df-a5f716b5-ef2c-444a-b1c7-dc70fba42b3e button.colab-df-convert');\n",
              "        buttonEl.style.display =\n",
              "          google.colab.kernel.accessAllowed ? 'block' : 'none';\n",
              "\n",
              "        async function convertToInteractive(key) {\n",
              "          const element = document.querySelector('#df-a5f716b5-ef2c-444a-b1c7-dc70fba42b3e');\n",
              "          const dataTable =\n",
              "            await google.colab.kernel.invokeFunction('convertToInteractive',\n",
              "                                                     [key], {});\n",
              "          if (!dataTable) return;\n",
              "\n",
              "          const docLinkHtml = 'Like what you see? Visit the ' +\n",
              "            '<a target=\"_blank\" href=https://colab.research.google.com/notebooks/data_table.ipynb>data table notebook</a>'\n",
              "            + ' to learn more about interactive tables.';\n",
              "          element.innerHTML = '';\n",
              "          dataTable['output_type'] = 'display_data';\n",
              "          await google.colab.output.renderOutput(dataTable, element);\n",
              "          const docLink = document.createElement('div');\n",
              "          docLink.innerHTML = docLinkHtml;\n",
              "          element.appendChild(docLink);\n",
              "        }\n",
              "      </script>\n",
              "    </div>\n",
              "  </div>\n",
              "  "
            ]
          },
          "metadata": {},
          "execution_count": 14
        }
      ]
    },
    {
      "cell_type": "code",
      "source": [
        "#Graficamos las predicciones y los datos originales para realizar la comparación\n",
        "plt.plot(x, y, 'bo', label=\"y-original\")\n",
        "plt.plot(x, yfit1, label=\"y=a*x^2+b*x+c\")\n",
        "plt.xlabel('x')\n",
        "plt.ylabel('y')\n",
        "plt.legend(loc='best', fancybox=True, shadow=True)\n",
        "plt.grid(True)\n",
        "plt.show() "
      ],
      "metadata": {
        "id": "bBVTnlR5mD1P",
        "colab": {
          "base_uri": "https://localhost:8080/",
          "height": 449
        },
        "outputId": "2cd6ccb9-26b4-406f-9772-77eeee7fa75e"
      },
      "execution_count": null,
      "outputs": [
        {
          "output_type": "display_data",
          "data": {
            "text/plain": [
              "<Figure size 640x480 with 1 Axes>"
            ],
            "image/png": "[encoded data removed]"
          },
          "metadata": {}
        }
      ]
    },
    {
      "cell_type": "code",
      "source": [
        "#Calculamos el coeficiente de determinación del modelo\n",
        "\n",
        "R2 = r2_score(y, yfit1) \n",
        "R2"
      ],
      "metadata": {
        "id": "-5q6nlnMmPH7",
        "colab": {
          "base_uri": "https://localhost:8080/"
        },
        "outputId": "90a089d6-0a04-4c13-88cc-3384da7f3994"
      },
      "execution_count": null,
      "outputs": [
        {
          "output_type": "execute_result",
          "data": {
            "text/plain": [
              "0.9331579819188495"
            ]
          },
          "metadata": {},
          "execution_count": 16
        }
      ]
    },
    {
      "cell_type": "code",
      "source": [
        "import numpy as np\n",
        "\n",
        "det.append(R2)\n",
        "corr.append(np.sqrt(R2))\n",
        "n_m.append(\"M1 2020\")"
      ],
      "metadata": {
        "id": "-9r_kBrfMSV6"
      },
      "execution_count": null,
      "outputs": []
    },
    {
      "cell_type": "markdown",
      "source": [
        "###**MODELO 2**"
      ],
      "metadata": {
        "id": "h-g1aCe-Bq-W"
      }
    },
    {
      "cell_type": "code",
      "source": [
        "def  func2 (x, a, b, c):\n",
        "     return a*x**3 + b*x + c"
      ],
      "metadata": {
        "id": "4nyYLJ9hB6QI"
      },
      "execution_count": null,
      "outputs": []
    },
    {
      "cell_type": "code",
      "source": [
        "#Ajustamos los parámetros de la función curve_fit\n",
        "parametros2, covs= curve_fit(func2, gyc20['IVA'], gyc20['TOTAL MX'])"
      ],
      "metadata": {
        "id": "sWsHjwryB6QI"
      },
      "execution_count": null,
      "outputs": []
    },
    {
      "cell_type": "code",
      "source": [
        "#Obtenemos los coeficientes del modelo de regresión no lineal\n",
        "parametros2"
      ],
      "metadata": {
        "id": "EliKC_Z_B6QJ",
        "colab": {
          "base_uri": "https://localhost:8080/"
        },
        "outputId": "3620c4e7-b9eb-42e7-8cd9-d1be3edf0dde"
      },
      "execution_count": null,
      "outputs": [
        {
          "output_type": "execute_result",
          "data": {
            "text/plain": [
              "array([-3.64563802e-09,  7.29752802e+00,  1.42702373e+02])"
            ]
          },
          "metadata": {},
          "execution_count": 20
        }
      ]
    },
    {
      "cell_type": "code",
      "source": [
        "#Creamos el modelo de predicción con los parámetros obtenidos \n",
        "parametros2, _ = curve_fit(func2, gyc20['IVA'], gyc20['TOTAL MX'])\n",
        "a2, b2, c2 = parametros2[ 0 ], parametros2[ 1 ], parametros2[ 2 ]\n",
        "yfit2 = a2 * x ** 3 + b2 * x + c2"
      ],
      "metadata": {
        "id": "ck8wYpOMB6QJ"
      },
      "execution_count": null,
      "outputs": []
    },
    {
      "cell_type": "code",
      "source": [
        "#Calculamos las predicciones y reestructuramos el vector de predicciones\n",
        "#x= x.reshape(51, 1)\n",
        "#y = y.reshape(51, 1)\n",
        "#yfit1 = yfit1.reshape(51, 1)\n",
        "yfit2"
      ],
      "metadata": {
        "id": "Ymsts5A3B6QJ",
        "colab": {
          "base_uri": "https://localhost:8080/",
          "height": 455
        },
        "outputId": "bbe3557a-4034-4201-fcf5-757dc745e9fa"
      },
      "execution_count": null,
      "outputs": [
        {
          "output_type": "execute_result",
          "data": {
            "text/plain": [
              "                                               IVA\n",
              "UUID                                              \n",
              "BD20F436-72CC-4BE2-AD37-5999D71AA391  16508.157729\n",
              "85AEAC2E-6395-44A0-9CB9-754D06893375    714.826813\n",
              "BD0DFE85-D776-41CB-9C5C-4FA7923E687A    370.385137\n",
              "EF4504D6-830D-415C-AF03-80CF54C5E28E  12611.093093\n",
              "EC2F4AA4-BA64-4E2E-A5B7-4EBBE042D6D3    142.702373\n",
              "...                                            ...\n",
              "80BCB1D8-673F-495B-9C2A-4AC9F9CB38E5    290.185384\n",
              "D4C7C1FB-03A7-4046-A2BD-03EBE7DA861E   2810.281582\n",
              "FFCEE7D4-1F38-4D44-BE02-EB042DAACEE7    333.970517\n",
              "8DFF4F01-2F8B-4085-B116-05A314108B02    142.702373\n",
              "F18225D6-4024-4F03-A15A-D18917386D59    142.702373\n",
              "\n",
              "[3342 rows x 1 columns]"
            ],
            "text/html": [
              "\n",
              "  <div id=\"df-19df15ed-cb45-449b-95ac-1bb55c7aa4dc\">\n",
              "    <div class=\"colab-df-container\">\n",
              "      <div>\n",
              "<style scoped>\n",
              "    .dataframe tbody tr th:only-of-type {\n",
              "        vertical-align: middle;\n",
              "    }\n",
              "\n",
              "    .dataframe tbody tr th {\n",
              "        vertical-align: top;\n",
              "    }\n",
              "\n",
              "    .dataframe thead th {\n",
              "        text-align: right;\n",
              "    }\n",
              "</style>\n",
              "<table border=\"1\" class=\"dataframe\">\n",
              "  <thead>\n",
              "    <tr style=\"text-align: right;\">\n",
              "      <th></th>\n",
              "      <th>IVA</th>\n",
              "    </tr>\n",
              "    <tr>\n",
              "      <th>UUID</th>\n",
              "      <th></th>\n",
              "    </tr>\n",
              "  </thead>\n",
              "  <tbody>\n",
              "    <tr>\n",
              "      <th>BD20F436-72CC-4BE2-AD37-5999D71AA391</th>\n",
              "      <td>16508.157729</td>\n",
              "    </tr>\n",
              "    <tr>\n",
              "      <th>85AEAC2E-6395-44A0-9CB9-754D06893375</th>\n",
              "      <td>714.826813</td>\n",
              "    </tr>\n",
              "    <tr>\n",
              "      <th>BD0DFE85-D776-41CB-9C5C-4FA7923E687A</th>\n",
              "      <td>370.385137</td>\n",
              "    </tr>\n",
              "    <tr>\n",
              "      <th>EF4504D6-830D-415C-AF03-80CF54C5E28E</th>\n",
              "      <td>12611.093093</td>\n",
              "    </tr>\n",
              "    <tr>\n",
              "      <th>EC2F4AA4-BA64-4E2E-A5B7-4EBBE042D6D3</th>\n",
              "      <td>142.702373</td>\n",
              "    </tr>\n",
              "    <tr>\n",
              "      <th>...</th>\n",
              "      <td>...</td>\n",
              "    </tr>\n",
              "    <tr>\n",
              "      <th>80BCB1D8-673F-495B-9C2A-4AC9F9CB38E5</th>\n",
              "      <td>290.185384</td>\n",
              "    </tr>\n",
              "    <tr>\n",
              "      <th>D4C7C1FB-03A7-4046-A2BD-03EBE7DA861E</th>\n",
              "      <td>2810.281582</td>\n",
              "    </tr>\n",
              "    <tr>\n",
              "      <th>FFCEE7D4-1F38-4D44-BE02-EB042DAACEE7</th>\n",
              "      <td>333.970517</td>\n",
              "    </tr>\n",
              "    <tr>\n",
              "      <th>8DFF4F01-2F8B-4085-B116-05A314108B02</th>\n",
              "      <td>142.702373</td>\n",
              "    </tr>\n",
              "    <tr>\n",
              "      <th>F18225D6-4024-4F03-A15A-D18917386D59</th>\n",
              "      <td>142.702373</td>\n",
              "    </tr>\n",
              "  </tbody>\n",
              "</table>\n",
              "<p>3342 rows × 1 columns</p>\n",
              "</div>\n",
              "      <button class=\"colab-df-convert\" onclick=\"convertToInteractive('df-19df15ed-cb45-449b-95ac-1bb55c7aa4dc')\"\n",
              "              title=\"Convert this dataframe to an interactive table.\"\n",
              "              style=\"display:none;\">\n",
              "        \n",
              "  <svg xmlns=\"http://www.w3.org/2000/svg\" height=\"24px\"viewBox=\"0 0 24 24\"\n",
              "       width=\"24px\">\n",
              "    <path d=\"M0 0h24v24H0V0z\" fill=\"none\"/>\n",
              "    <path d=\"M18.56 5.44l.94 2.06.94-2.06 2.06-.94-2.06-.94-.94-2.06-.94 2.06-2.06.94zm-11 1L8.5 8.5l.94-2.06 2.06-.94-2.06-.94L8.5 2.5l-.94 2.06-2.06.94zm10 10l.94 2.06.94-2.06 2.06-.94-2.06-.94-.94-2.06-.94 2.06-2.06.94z\"/><path d=\"M17.41 7.96l-1.37-1.37c-.4-.4-.92-.59-1.43-.59-.52 0-1.04.2-1.43.59L10.3 9.45l-7.72 7.72c-.78.78-.78 2.05 0 2.83L4 21.41c.39.39.9.59 1.41.59.51 0 1.02-.2 1.41-.59l7.78-7.78 2.81-2.81c.8-.78.8-2.07 0-2.86zM5.41 20L4 18.59l7.72-7.72 1.47 1.35L5.41 20z\"/>\n",
              "  </svg>\n",
              "      </button>\n",
              "      \n",
              "  <style>\n",
              "    .colab-df-container {\n",
              "      display:flex;\n",
              "      flex-wrap:wrap;\n",
              "      gap: 12px;\n",
              "    }\n",
              "\n",
              "    .colab-df-convert {\n",
              "      background-color: #E8F0FE;\n",
              "      border: none;\n",
              "      border-radius: 50%;\n",
              "      cursor: pointer;\n",
              "      display: none;\n",
              "      fill: #1967D2;\n",
              "      height: 32px;\n",
              "      padding: 0 0 0 0;\n",
              "      width: 32px;\n",
              "    }\n",
              "\n",
              "    .colab-df-convert:hover {\n",
              "      background-color: #E2EBFA;\n",
              "      box-shadow: 0px 1px 2px rgba(60, 64, 67, 0.3), 0px 1px 3px 1px rgba(60, 64, 67, 0.15);\n",
              "      fill: #174EA6;\n",
              "    }\n",
              "\n",
              "    [theme=dark] .colab-df-convert {\n",
              "      background-color: #3B4455;\n",
              "      fill: #D2E3FC;\n",
              "    }\n",
              "\n",
              "    [theme=dark] .colab-df-convert:hover {\n",
              "      background-color: #434B5C;\n",
              "      box-shadow: 0px 1px 3px 1px rgba(0, 0, 0, 0.15);\n",
              "      filter: drop-shadow(0px 1px 2px rgba(0, 0, 0, 0.3));\n",
              "      fill: #FFFFFF;\n",
              "    }\n",
              "  </style>\n",
              "\n",
              "      <script>\n",
              "        const buttonEl =\n",
              "          document.querySelector('#df-19df15ed-cb45-449b-95ac-1bb55c7aa4dc button.colab-df-convert');\n",
              "        buttonEl.style.display =\n",
              "          google.colab.kernel.accessAllowed ? 'block' : 'none';\n",
              "\n",
              "        async function convertToInteractive(key) {\n",
              "          const element = document.querySelector('#df-19df15ed-cb45-449b-95ac-1bb55c7aa4dc');\n",
              "          const dataTable =\n",
              "            await google.colab.kernel.invokeFunction('convertToInteractive',\n",
              "                                                     [key], {});\n",
              "          if (!dataTable) return;\n",
              "\n",
              "          const docLinkHtml = 'Like what you see? Visit the ' +\n",
              "            '<a target=\"_blank\" href=https://colab.research.google.com/notebooks/data_table.ipynb>data table notebook</a>'\n",
              "            + ' to learn more about interactive tables.';\n",
              "          element.innerHTML = '';\n",
              "          dataTable['output_type'] = 'display_data';\n",
              "          await google.colab.output.renderOutput(dataTable, element);\n",
              "          const docLink = document.createElement('div');\n",
              "          docLink.innerHTML = docLinkHtml;\n",
              "          element.appendChild(docLink);\n",
              "        }\n",
              "      </script>\n",
              "    </div>\n",
              "  </div>\n",
              "  "
            ]
          },
          "metadata": {},
          "execution_count": 22
        }
      ]
    },
    {
      "cell_type": "code",
      "source": [
        "#Graficamos las predicciones y los datos originales para realizar la comparación\n",
        "plt.plot(x, y, 'bo', label=\"y-original\")\n",
        "plt.plot(x, yfit2, label=\"Y= ax^3 + bx + c\")\n",
        "plt.xlabel('x')\n",
        "plt.ylabel('y')\n",
        "plt.legend(loc='best', fancybox=True, shadow=True)\n",
        "plt.grid(True)\n",
        "plt.show() "
      ],
      "metadata": {
        "id": "XUIkn8F1B6QK",
        "colab": {
          "base_uri": "https://localhost:8080/",
          "height": 449
        },
        "outputId": "c3092b54-9801-4243-a8cc-c4ed5b709432"
      },
      "execution_count": null,
      "outputs": [
        {
          "output_type": "display_data",
          "data": {
            "text/plain": [
              "<Figure size 640x480 with 1 Axes>"
            ],
            "image/png": "[encoded data removed]"
          },
          "metadata": {}
        }
      ]
    },
    {
      "cell_type": "code",
      "source": [
        "#Calculamos el coeficiente de determinación del modelo\n",
        "\n",
        "R2_2 = r2_score(y, yfit2) \n",
        "R2_2"
      ],
      "metadata": {
        "id": "3WPtKfXXB6QK",
        "colab": {
          "base_uri": "https://localhost:8080/"
        },
        "outputId": "35bb17f2-c18e-4d3b-fd81-dffbc8e41fee"
      },
      "execution_count": null,
      "outputs": [
        {
          "output_type": "execute_result",
          "data": {
            "text/plain": [
              "0.9516887387264038"
            ]
          },
          "metadata": {},
          "execution_count": 24
        }
      ]
    },
    {
      "cell_type": "code",
      "source": [
        "det.append(R2_2)\n",
        "corr.append(np.sqrt(R2_2))\n",
        "n_m.append(\"M2 2020\")"
      ],
      "metadata": {
        "id": "coVGpubnM3pt"
      },
      "execution_count": null,
      "outputs": []
    },
    {
      "cell_type": "markdown",
      "source": [
        "##**2021**"
      ],
      "metadata": {
        "id": "QAjV_w64DbzA"
      }
    },
    {
      "cell_type": "code",
      "source": [
        "#Declaramos las variables dependientes e independientes para la regresión No lineal\n",
        "Vars_Indep= gyc21[['IVA']]\n",
        "Var_Dep= gyc21['TOTAL MX']"
      ],
      "metadata": {
        "id": "FjuaM9_PDbzI"
      },
      "execution_count": null,
      "outputs": []
    },
    {
      "cell_type": "code",
      "source": [
        "#Redefinimos las variables \n",
        "x= Vars_Indep\n",
        "y= Var_Dep"
      ],
      "metadata": {
        "id": "IjRfz-9lDbzJ"
      },
      "execution_count": null,
      "outputs": []
    },
    {
      "cell_type": "markdown",
      "source": [
        "###**MODELO 1**"
      ],
      "metadata": {
        "id": "Qe2s9MnuDbzJ"
      }
    },
    {
      "cell_type": "code",
      "source": [
        "def  func3 (x, a, b, c):\n",
        "     return a*x**2 + b*x + c"
      ],
      "metadata": {
        "id": "hnNdS-HJDbzJ"
      },
      "execution_count": null,
      "outputs": []
    },
    {
      "cell_type": "code",
      "source": [
        "#Ajustamos los parámetros de la función curve_fit\n",
        "parametros3, covs= curve_fit(func3, gyc21['IVA'], gyc21['TOTAL MX'])"
      ],
      "metadata": {
        "id": "6-b3H5rhDbzJ"
      },
      "execution_count": null,
      "outputs": []
    },
    {
      "cell_type": "code",
      "source": [
        "#Obtenemos los coeficientes del modelo de regresión no lineal\n",
        "parametros3"
      ],
      "metadata": {
        "id": "rZKkrfHXDbzJ",
        "colab": {
          "base_uri": "https://localhost:8080/"
        },
        "outputId": "7022b55c-cfc6-4eff-8704-c9594f454fb6"
      },
      "execution_count": null,
      "outputs": [
        {
          "output_type": "execute_result",
          "data": {
            "text/plain": [
              "array([1.17615828e-05, 6.74758103e+00, 7.08455144e+02])"
            ]
          },
          "metadata": {},
          "execution_count": 30
        }
      ]
    },
    {
      "cell_type": "code",
      "source": [
        "#Creamos el modelo de predicción con los parámetros obtenidos \n",
        "parametros3, _ = curve_fit(func3, gyc21['IVA'], gyc21['TOTAL MX'])\n",
        "a3, b3, c3 = parametros3[ 0 ], parametros3[ 1 ], parametros3[ 2 ]\n",
        "yfit3 = a3 * x ** 2 + b3 * x + c3"
      ],
      "metadata": {
        "id": "r6X0I4TDDbzK"
      },
      "execution_count": null,
      "outputs": []
    },
    {
      "cell_type": "code",
      "source": [
        "#Calculamos las predicciones y reestructuramos el vector de predicciones\n",
        "#x= x.reshape(51, 1)\n",
        "#y = y.reshape(51, 1)\n",
        "#yfit1 = yfit1.reshape(51, 1)\n",
        "yfit3"
      ],
      "metadata": {
        "id": "pIwqLWQiDbzK",
        "colab": {
          "base_uri": "https://localhost:8080/",
          "height": 455
        },
        "outputId": "ce80c2fc-2289-41a8-b3a8-89c36d602d67"
      },
      "execution_count": null,
      "outputs": [
        {
          "output_type": "execute_result",
          "data": {
            "text/plain": [
              "                                              IVA\n",
              "UUID                                             \n",
              "71B4C8B9-8DAA-47CC-AD47-9DD90AA5AF6B  1237.537790\n",
              "B8AEDE83-CC76-404C-A611-6B5A87BA561F  1080.957455\n",
              "19B9B2C2-DF58-E24D-B43A-3FC4D5A929E7  4433.931845\n",
              "EAB26414-DD9A-4E8F-9F5C-05FE24D98E48  6711.070690\n",
              "C16F79B5-FB35-4BFC-AF84-708B24F500BB  6711.747537\n",
              "...                                           ...\n",
              "83F82167-0D14-144E-9D76-045C95F25DDD   708.455144\n",
              "B1C60AE0-02BC-4A33-9513-A280F72B5D06   708.455144\n",
              "255F4A25-5753-4208-8F6B-0B59E5AE4741  5475.268792\n",
              "D8226E4F-9241-44C3-86A4-CDE9BC932528   708.455144\n",
              "41770F35-39EF-41A4-8DF4-EE9586CF4549   708.455144\n",
              "\n",
              "[3035 rows x 1 columns]"
            ],
            "text/html": [
              "\n",
              "  <div id=\"df-cab39c8f-474d-4fdf-8a42-3e3304d93f59\">\n",
              "    <div class=\"colab-df-container\">\n",
              "      <div>\n",
              "<style scoped>\n",
              "    .dataframe tbody tr th:only-of-type {\n",
              "        vertical-align: middle;\n",
              "    }\n",
              "\n",
              "    .dataframe tbody tr th {\n",
              "        vertical-align: top;\n",
              "    }\n",
              "\n",
              "    .dataframe thead th {\n",
              "        text-align: right;\n",
              "    }\n",
              "</style>\n",
              "<table border=\"1\" class=\"dataframe\">\n",
              "  <thead>\n",
              "    <tr style=\"text-align: right;\">\n",
              "      <th></th>\n",
              "      <th>IVA</th>\n",
              "    </tr>\n",
              "    <tr>\n",
              "      <th>UUID</th>\n",
              "      <th></th>\n",
              "    </tr>\n",
              "  </thead>\n",
              "  <tbody>\n",
              "    <tr>\n",
              "      <th>71B4C8B9-8DAA-47CC-AD47-9DD90AA5AF6B</th>\n",
              "      <td>1237.537790</td>\n",
              "    </tr>\n",
              "    <tr>\n",
              "      <th>B8AEDE83-CC76-404C-A611-6B5A87BA561F</th>\n",
              "      <td>1080.957455</td>\n",
              "    </tr>\n",
              "    <tr>\n",
              "      <th>19B9B2C2-DF58-E24D-B43A-3FC4D5A929E7</th>\n",
              "      <td>4433.931845</td>\n",
              "    </tr>\n",
              "    <tr>\n",
              "      <th>EAB26414-DD9A-4E8F-9F5C-05FE24D98E48</th>\n",
              "      <td>6711.070690</td>\n",
              "    </tr>\n",
              "    <tr>\n",
              "      <th>C16F79B5-FB35-4BFC-AF84-708B24F500BB</th>\n",
              "      <td>6711.747537</td>\n",
              "    </tr>\n",
              "    <tr>\n",
              "      <th>...</th>\n",
              "      <td>...</td>\n",
              "    </tr>\n",
              "    <tr>\n",
              "      <th>83F82167-0D14-144E-9D76-045C95F25DDD</th>\n",
              "      <td>708.455144</td>\n",
              "    </tr>\n",
              "    <tr>\n",
              "      <th>B1C60AE0-02BC-4A33-9513-A280F72B5D06</th>\n",
              "      <td>708.455144</td>\n",
              "    </tr>\n",
              "    <tr>\n",
              "      <th>255F4A25-5753-4208-8F6B-0B59E5AE4741</th>\n",
              "      <td>5475.268792</td>\n",
              "    </tr>\n",
              "    <tr>\n",
              "      <th>D8226E4F-9241-44C3-86A4-CDE9BC932528</th>\n",
              "      <td>708.455144</td>\n",
              "    </tr>\n",
              "    <tr>\n",
              "      <th>41770F35-39EF-41A4-8DF4-EE9586CF4549</th>\n",
              "      <td>708.455144</td>\n",
              "    </tr>\n",
              "  </tbody>\n",
              "</table>\n",
              "<p>3035 rows × 1 columns</p>\n",
              "</div>\n",
              "      <button class=\"colab-df-convert\" onclick=\"convertToInteractive('df-cab39c8f-474d-4fdf-8a42-3e3304d93f59')\"\n",
              "              title=\"Convert this dataframe to an interactive table.\"\n",
              "              style=\"display:none;\">\n",
              "        \n",
              "  <svg xmlns=\"http://www.w3.org/2000/svg\" height=\"24px\"viewBox=\"0 0 24 24\"\n",
              "       width=\"24px\">\n",
              "    <path d=\"M0 0h24v24H0V0z\" fill=\"none\"/>\n",
              "    <path d=\"M18.56 5.44l.94 2.06.94-2.06 2.06-.94-2.06-.94-.94-2.06-.94 2.06-2.06.94zm-11 1L8.5 8.5l.94-2.06 2.06-.94-2.06-.94L8.5 2.5l-.94 2.06-2.06.94zm10 10l.94 2.06.94-2.06 2.06-.94-2.06-.94-.94-2.06-.94 2.06-2.06.94z\"/><path d=\"M17.41 7.96l-1.37-1.37c-.4-.4-.92-.59-1.43-.59-.52 0-1.04.2-1.43.59L10.3 9.45l-7.72 7.72c-.78.78-.78 2.05 0 2.83L4 21.41c.39.39.9.59 1.41.59.51 0 1.02-.2 1.41-.59l7.78-7.78 2.81-2.81c.8-.78.8-2.07 0-2.86zM5.41 20L4 18.59l7.72-7.72 1.47 1.35L5.41 20z\"/>\n",
              "  </svg>\n",
              "      </button>\n",
              "      \n",
              "  <style>\n",
              "    .colab-df-container {\n",
              "      display:flex;\n",
              "      flex-wrap:wrap;\n",
              "      gap: 12px;\n",
              "    }\n",
              "\n",
              "    .colab-df-convert {\n",
              "      background-color: #E8F0FE;\n",
              "      border: none;\n",
              "      border-radius: 50%;\n",
              "      cursor: pointer;\n",
              "      display: none;\n",
              "      fill: #1967D2;\n",
              "      height: 32px;\n",
              "      padding: 0 0 0 0;\n",
              "      width: 32px;\n",
              "    }\n",
              "\n",
              "    .colab-df-convert:hover {\n",
              "      background-color: #E2EBFA;\n",
              "      box-shadow: 0px 1px 2px rgba(60, 64, 67, 0.3), 0px 1px 3px 1px rgba(60, 64, 67, 0.15);\n",
              "      fill: #174EA6;\n",
              "    }\n",
              "\n",
              "    [theme=dark] .colab-df-convert {\n",
              "      background-color: #3B4455;\n",
              "      fill: #D2E3FC;\n",
              "    }\n",
              "\n",
              "    [theme=dark] .colab-df-convert:hover {\n",
              "      background-color: #434B5C;\n",
              "      box-shadow: 0px 1px 3px 1px rgba(0, 0, 0, 0.15);\n",
              "      filter: drop-shadow(0px 1px 2px rgba(0, 0, 0, 0.3));\n",
              "      fill: #FFFFFF;\n",
              "    }\n",
              "  </style>\n",
              "\n",
              "      <script>\n",
              "        const buttonEl =\n",
              "          document.querySelector('#df-cab39c8f-474d-4fdf-8a42-3e3304d93f59 button.colab-df-convert');\n",
              "        buttonEl.style.display =\n",
              "          google.colab.kernel.accessAllowed ? 'block' : 'none';\n",
              "\n",
              "        async function convertToInteractive(key) {\n",
              "          const element = document.querySelector('#df-cab39c8f-474d-4fdf-8a42-3e3304d93f59');\n",
              "          const dataTable =\n",
              "            await google.colab.kernel.invokeFunction('convertToInteractive',\n",
              "                                                     [key], {});\n",
              "          if (!dataTable) return;\n",
              "\n",
              "          const docLinkHtml = 'Like what you see? Visit the ' +\n",
              "            '<a target=\"_blank\" href=https://colab.research.google.com/notebooks/data_table.ipynb>data table notebook</a>'\n",
              "            + ' to learn more about interactive tables.';\n",
              "          element.innerHTML = '';\n",
              "          dataTable['output_type'] = 'display_data';\n",
              "          await google.colab.output.renderOutput(dataTable, element);\n",
              "          const docLink = document.createElement('div');\n",
              "          docLink.innerHTML = docLinkHtml;\n",
              "          element.appendChild(docLink);\n",
              "        }\n",
              "      </script>\n",
              "    </div>\n",
              "  </div>\n",
              "  "
            ]
          },
          "metadata": {},
          "execution_count": 32
        }
      ]
    },
    {
      "cell_type": "code",
      "source": [
        "#Graficamos las predicciones y los datos originales para realizar la comparación\n",
        "plt.plot(x, y, 'bo', label=\"y-original\")\n",
        "plt.plot(x, yfit3, label=\"y=a*x^2+b*x+c\")\n",
        "plt.xlabel('x')\n",
        "plt.ylabel('y')\n",
        "plt.legend(loc='best', fancybox=True, shadow=True)\n",
        "plt.grid(True)\n",
        "plt.show() "
      ],
      "metadata": {
        "id": "TQDr-dDbDbzK",
        "colab": {
          "base_uri": "https://localhost:8080/",
          "height": 449
        },
        "outputId": "caef87aa-4225-47ab-f7a5-2e8277948757"
      },
      "execution_count": null,
      "outputs": [
        {
          "output_type": "display_data",
          "data": {
            "text/plain": [
              "<Figure size 640x480 with 1 Axes>"
            ],
            "image/png": "[encoded data removed]"
          },
          "metadata": {}
        }
      ]
    },
    {
      "cell_type": "code",
      "source": [
        "#Calculamos el coeficiente de determinación del modelo\n",
        "\n",
        "R2_3 = r2_score(y, yfit3) \n",
        "R2_3"
      ],
      "metadata": {
        "id": "u5C1He33DbzK",
        "colab": {
          "base_uri": "https://localhost:8080/"
        },
        "outputId": "ee9d159a-b341-4917-febd-056032e88fac"
      },
      "execution_count": null,
      "outputs": [
        {
          "output_type": "execute_result",
          "data": {
            "text/plain": [
              "0.9028388872975792"
            ]
          },
          "metadata": {},
          "execution_count": 34
        }
      ]
    },
    {
      "cell_type": "code",
      "source": [
        "det.append(R2_3)\n",
        "corr.append(np.sqrt(R2_3))\n",
        "n_m.append(\"M1 2021\")"
      ],
      "metadata": {
        "id": "vhUGcDBKM62s"
      },
      "execution_count": null,
      "outputs": []
    },
    {
      "cell_type": "markdown",
      "source": [
        "###**MODELO 2**"
      ],
      "metadata": {
        "id": "mghAdJ2SDbzL"
      }
    },
    {
      "cell_type": "code",
      "source": [
        "def  func4 (x, a, b, c):\n",
        "     return a*x**3 + b*x + c"
      ],
      "metadata": {
        "id": "TQWKgovdDbzL"
      },
      "execution_count": null,
      "outputs": []
    },
    {
      "cell_type": "code",
      "source": [
        "#Ajustamos los parámetros de la función curve_fit\n",
        "parametros4, covs= curve_fit(func4, gyc21['IVA'], gyc21['TOTAL MX'])"
      ],
      "metadata": {
        "id": "lPc0zW0ADbzL"
      },
      "execution_count": null,
      "outputs": []
    },
    {
      "cell_type": "code",
      "source": [
        "#Obtenemos los coeficientes del modelo de regresión no lineal\n",
        "parametros4"
      ],
      "metadata": {
        "id": "bdnxohWGDbzL",
        "colab": {
          "base_uri": "https://localhost:8080/"
        },
        "outputId": "9f29df93-d504-4f81-c825-f5361fa8731b"
      },
      "execution_count": null,
      "outputs": [
        {
          "output_type": "execute_result",
          "data": {
            "text/plain": [
              "array([1.87206240e-10, 6.85081279e+00, 6.71137052e+02])"
            ]
          },
          "metadata": {},
          "execution_count": 38
        }
      ]
    },
    {
      "cell_type": "code",
      "source": [
        "#Creamos el modelo de predicción con los parámetros obtenidos \n",
        "parametros4, _ = curve_fit(func4, gyc21['IVA'], gyc21['TOTAL MX'])\n",
        "a4, b4, c4 = parametros4[ 0 ], parametros4[ 1 ], parametros4[ 2 ]\n",
        "yfit4 = a4 * x ** 3 + b4 * x + c4"
      ],
      "metadata": {
        "id": "L3_jJ6sQDbzM"
      },
      "execution_count": null,
      "outputs": []
    },
    {
      "cell_type": "code",
      "source": [
        "#Calculamos las predicciones y reestructuramos el vector de predicciones\n",
        "#x= x.reshape(51, 1)\n",
        "#y = y.reshape(51, 1)\n",
        "#yfit1 = yfit1.reshape(51, 1)\n",
        "yfit4"
      ],
      "metadata": {
        "id": "ajctydERDbzM",
        "colab": {
          "base_uri": "https://localhost:8080/",
          "height": 455
        },
        "outputId": "7b786739-b326-48a7-b4c1-23f70e9fdd94"
      },
      "execution_count": null,
      "outputs": [
        {
          "output_type": "execute_result",
          "data": {
            "text/plain": [
              "                                              IVA\n",
              "UUID                                             \n",
              "71B4C8B9-8DAA-47CC-AD47-9DD90AA5AF6B  1208.240865\n",
              "B8AEDE83-CC76-404C-A611-6B5A87BA561F  1049.301949\n",
              "19B9B2C2-DF58-E24D-B43A-3FC4D5A929E7  4450.008298\n",
              "EAB26414-DD9A-4E8F-9F5C-05FE24D98E48  6756.297176\n",
              "C16F79B5-FB35-4BFC-AF84-708B24F500BB  6756.982301\n",
              "...                                           ...\n",
              "83F82167-0D14-144E-9D76-045C95F25DDD   671.137052\n",
              "B1C60AE0-02BC-4A33-9513-A280F72B5D06   671.137052\n",
              "255F4A25-5753-4208-8F6B-0B59E5AE4741  5504.999302\n",
              "D8226E4F-9241-44C3-86A4-CDE9BC932528   671.137052\n",
              "41770F35-39EF-41A4-8DF4-EE9586CF4549   671.137052\n",
              "\n",
              "[3035 rows x 1 columns]"
            ],
            "text/html": [
              "\n",
              "  <div id=\"df-c69fea0b-9089-4a27-8021-2caa58a95e1a\">\n",
              "    <div class=\"colab-df-container\">\n",
              "      <div>\n",
              "<style scoped>\n",
              "    .dataframe tbody tr th:only-of-type {\n",
              "        vertical-align: middle;\n",
              "    }\n",
              "\n",
              "    .dataframe tbody tr th {\n",
              "        vertical-align: top;\n",
              "    }\n",
              "\n",
              "    .dataframe thead th {\n",
              "        text-align: right;\n",
              "    }\n",
              "</style>\n",
              "<table border=\"1\" class=\"dataframe\">\n",
              "  <thead>\n",
              "    <tr style=\"text-align: right;\">\n",
              "      <th></th>\n",
              "      <th>IVA</th>\n",
              "    </tr>\n",
              "    <tr>\n",
              "      <th>UUID</th>\n",
              "      <th></th>\n",
              "    </tr>\n",
              "  </thead>\n",
              "  <tbody>\n",
              "    <tr>\n",
              "      <th>71B4C8B9-8DAA-47CC-AD47-9DD90AA5AF6B</th>\n",
              "      <td>1208.240865</td>\n",
              "    </tr>\n",
              "    <tr>\n",
              "      <th>B8AEDE83-CC76-404C-A611-6B5A87BA561F</th>\n",
              "      <td>1049.301949</td>\n",
              "    </tr>\n",
              "    <tr>\n",
              "      <th>19B9B2C2-DF58-E24D-B43A-3FC4D5A929E7</th>\n",
              "      <td>4450.008298</td>\n",
              "    </tr>\n",
              "    <tr>\n",
              "      <th>EAB26414-DD9A-4E8F-9F5C-05FE24D98E48</th>\n",
              "      <td>6756.297176</td>\n",
              "    </tr>\n",
              "    <tr>\n",
              "      <th>C16F79B5-FB35-4BFC-AF84-708B24F500BB</th>\n",
              "      <td>6756.982301</td>\n",
              "    </tr>\n",
              "    <tr>\n",
              "      <th>...</th>\n",
              "      <td>...</td>\n",
              "    </tr>\n",
              "    <tr>\n",
              "      <th>83F82167-0D14-144E-9D76-045C95F25DDD</th>\n",
              "      <td>671.137052</td>\n",
              "    </tr>\n",
              "    <tr>\n",
              "      <th>B1C60AE0-02BC-4A33-9513-A280F72B5D06</th>\n",
              "      <td>671.137052</td>\n",
              "    </tr>\n",
              "    <tr>\n",
              "      <th>255F4A25-5753-4208-8F6B-0B59E5AE4741</th>\n",
              "      <td>5504.999302</td>\n",
              "    </tr>\n",
              "    <tr>\n",
              "      <th>D8226E4F-9241-44C3-86A4-CDE9BC932528</th>\n",
              "      <td>671.137052</td>\n",
              "    </tr>\n",
              "    <tr>\n",
              "      <th>41770F35-39EF-41A4-8DF4-EE9586CF4549</th>\n",
              "      <td>671.137052</td>\n",
              "    </tr>\n",
              "  </tbody>\n",
              "</table>\n",
              "<p>3035 rows × 1 columns</p>\n",
              "</div>\n",
              "      <button class=\"colab-df-convert\" onclick=\"convertToInteractive('df-c69fea0b-9089-4a27-8021-2caa58a95e1a')\"\n",
              "              title=\"Convert this dataframe to an interactive table.\"\n",
              "              style=\"display:none;\">\n",
              "        \n",
              "  <svg xmlns=\"http://www.w3.org/2000/svg\" height=\"24px\"viewBox=\"0 0 24 24\"\n",
              "       width=\"24px\">\n",
              "    <path d=\"M0 0h24v24H0V0z\" fill=\"none\"/>\n",
              "    <path d=\"M18.56 5.44l.94 2.06.94-2.06 2.06-.94-2.06-.94-.94-2.06-.94 2.06-2.06.94zm-11 1L8.5 8.5l.94-2.06 2.06-.94-2.06-.94L8.5 2.5l-.94 2.06-2.06.94zm10 10l.94 2.06.94-2.06 2.06-.94-2.06-.94-.94-2.06-.94 2.06-2.06.94z\"/><path d=\"M17.41 7.96l-1.37-1.37c-.4-.4-.92-.59-1.43-.59-.52 0-1.04.2-1.43.59L10.3 9.45l-7.72 7.72c-.78.78-.78 2.05 0 2.83L4 21.41c.39.39.9.59 1.41.59.51 0 1.02-.2 1.41-.59l7.78-7.78 2.81-2.81c.8-.78.8-2.07 0-2.86zM5.41 20L4 18.59l7.72-7.72 1.47 1.35L5.41 20z\"/>\n",
              "  </svg>\n",
              "      </button>\n",
              "      \n",
              "  <style>\n",
              "    .colab-df-container {\n",
              "      display:flex;\n",
              "      flex-wrap:wrap;\n",
              "      gap: 12px;\n",
              "    }\n",
              "\n",
              "    .colab-df-convert {\n",
              "      background-color: #E8F0FE;\n",
              "      border: none;\n",
              "      border-radius: 50%;\n",
              "      cursor: pointer;\n",
              "      display: none;\n",
              "      fill: #1967D2;\n",
              "      height: 32px;\n",
              "      padding: 0 0 0 0;\n",
              "      width: 32px;\n",
              "    }\n",
              "\n",
              "    .colab-df-convert:hover {\n",
              "      background-color: #E2EBFA;\n",
              "      box-shadow: 0px 1px 2px rgba(60, 64, 67, 0.3), 0px 1px 3px 1px rgba(60, 64, 67, 0.15);\n",
              "      fill: #174EA6;\n",
              "    }\n",
              "\n",
              "    [theme=dark] .colab-df-convert {\n",
              "      background-color: #3B4455;\n",
              "      fill: #D2E3FC;\n",
              "    }\n",
              "\n",
              "    [theme=dark] .colab-df-convert:hover {\n",
              "      background-color: #434B5C;\n",
              "      box-shadow: 0px 1px 3px 1px rgba(0, 0, 0, 0.15);\n",
              "      filter: drop-shadow(0px 1px 2px rgba(0, 0, 0, 0.3));\n",
              "      fill: #FFFFFF;\n",
              "    }\n",
              "  </style>\n",
              "\n",
              "      <script>\n",
              "        const buttonEl =\n",
              "          document.querySelector('#df-c69fea0b-9089-4a27-8021-2caa58a95e1a button.colab-df-convert');\n",
              "        buttonEl.style.display =\n",
              "          google.colab.kernel.accessAllowed ? 'block' : 'none';\n",
              "\n",
              "        async function convertToInteractive(key) {\n",
              "          const element = document.querySelector('#df-c69fea0b-9089-4a27-8021-2caa58a95e1a');\n",
              "          const dataTable =\n",
              "            await google.colab.kernel.invokeFunction('convertToInteractive',\n",
              "                                                     [key], {});\n",
              "          if (!dataTable) return;\n",
              "\n",
              "          const docLinkHtml = 'Like what you see? Visit the ' +\n",
              "            '<a target=\"_blank\" href=https://colab.research.google.com/notebooks/data_table.ipynb>data table notebook</a>'\n",
              "            + ' to learn more about interactive tables.';\n",
              "          element.innerHTML = '';\n",
              "          dataTable['output_type'] = 'display_data';\n",
              "          await google.colab.output.renderOutput(dataTable, element);\n",
              "          const docLink = document.createElement('div');\n",
              "          docLink.innerHTML = docLinkHtml;\n",
              "          element.appendChild(docLink);\n",
              "        }\n",
              "      </script>\n",
              "    </div>\n",
              "  </div>\n",
              "  "
            ]
          },
          "metadata": {},
          "execution_count": 40
        }
      ]
    },
    {
      "cell_type": "code",
      "source": [
        "#Graficamos las predicciones y los datos originales para realizar la comparación\n",
        "plt.plot(x, y, 'bo', label=\"y-original\")\n",
        "plt.plot(x, yfit4, label=\"Y= ax^3 + bx + c\")\n",
        "plt.xlabel('x')\n",
        "plt.ylabel('y')\n",
        "plt.legend(loc='best', fancybox=True, shadow=True)\n",
        "plt.grid(True)\n",
        "plt.show() "
      ],
      "metadata": {
        "id": "FpYlJdrdDbzM",
        "colab": {
          "base_uri": "https://localhost:8080/",
          "height": 449
        },
        "outputId": "72c0135d-fd68-486a-ef0b-c0e9e4244244"
      },
      "execution_count": null,
      "outputs": [
        {
          "output_type": "display_data",
          "data": {
            "text/plain": [
              "<Figure size 640x480 with 1 Axes>"
            ],
            "image/png": "[encoded data removed]"
          },
          "metadata": {}
        }
      ]
    },
    {
      "cell_type": "code",
      "source": [
        "#Calculamos el coeficiente de determinación del modelo\n",
        "\n",
        "R2_4 = r2_score(y, yfit4) \n",
        "R2_4"
      ],
      "metadata": {
        "id": "tXw46LyRDbzN",
        "colab": {
          "base_uri": "https://localhost:8080/"
        },
        "outputId": "8e68bb98-1ed8-4a92-e192-3cd2e83830e1"
      },
      "execution_count": null,
      "outputs": [
        {
          "output_type": "execute_result",
          "data": {
            "text/plain": [
              "0.9025848565890544"
            ]
          },
          "metadata": {},
          "execution_count": 42
        }
      ]
    },
    {
      "cell_type": "code",
      "source": [
        "det.append(R2_4)\n",
        "corr.append(np.sqrt(R2_4))\n",
        "n_m.append(\"M2 2021\")"
      ],
      "metadata": {
        "id": "bP-LGSbpNF4_"
      },
      "execution_count": null,
      "outputs": []
    },
    {
      "cell_type": "markdown",
      "source": [
        "##**2022**"
      ],
      "metadata": {
        "id": "_fb-_LbUGZI9"
      }
    },
    {
      "cell_type": "code",
      "source": [
        "#Declaramos las variables dependientes e independientes para la regresión No lineal\n",
        "Vars_Indep= gyc22[['IVA']]\n",
        "Var_Dep= gyc22['TOTAL MX']"
      ],
      "metadata": {
        "id": "mr6Z6Or1Gmfs"
      },
      "execution_count": null,
      "outputs": []
    },
    {
      "cell_type": "code",
      "source": [
        "#Redefinimos las variables \n",
        "x= Vars_Indep\n",
        "y= Var_Dep"
      ],
      "metadata": {
        "id": "EhHevNIdGrC2"
      },
      "execution_count": null,
      "outputs": []
    },
    {
      "cell_type": "markdown",
      "source": [
        "###**Modelo 1**"
      ],
      "metadata": {
        "id": "tkssIQMrGvC1"
      }
    },
    {
      "cell_type": "code",
      "source": [
        "def  func5 (x, a, b, c):\n",
        "     return a*x**2 + b*x + c"
      ],
      "metadata": {
        "id": "VrTjzx7WGuyu"
      },
      "execution_count": null,
      "outputs": []
    },
    {
      "cell_type": "code",
      "source": [
        "#Ajustamos los parámetros de la función curve_fit\n",
        "parametros5, covs= curve_fit(func5, gyc22['IVA'], gyc22['TOTAL MX'])"
      ],
      "metadata": {
        "id": "l7zAYYDpGzMu"
      },
      "execution_count": null,
      "outputs": []
    },
    {
      "cell_type": "code",
      "source": [
        "#Obtenemos los coeficientes del modelo de regresión no lineal\n",
        "parametros5"
      ],
      "metadata": {
        "id": "rGIMEUiwG5R0",
        "colab": {
          "base_uri": "https://localhost:8080/"
        },
        "outputId": "2bc1f6ff-3b1d-4777-9a0f-7efa1626c644"
      },
      "execution_count": null,
      "outputs": [
        {
          "output_type": "execute_result",
          "data": {
            "text/plain": [
              "array([1.56201968e-05, 6.58274857e+00, 1.14179660e+03])"
            ]
          },
          "metadata": {},
          "execution_count": 48
        }
      ]
    },
    {
      "cell_type": "code",
      "source": [
        "#Creamos el modelo de predicción con los parámetros obtenidos \n",
        "parametros5, _ = curve_fit(func5, gyc22['IVA'], gyc22['TOTAL MX'])\n",
        "a5, b5, c5 = parametros5[ 0 ], parametros5[ 1 ], parametros5[ 2 ]\n",
        "yfit5 = a5 * x ** 2 + b5 * x + c5"
      ],
      "metadata": {
        "id": "OPFy4iGkG6Y5"
      },
      "execution_count": null,
      "outputs": []
    },
    {
      "cell_type": "code",
      "source": [
        "#Creamos el modelo de predicción con los parámetros obtenidos\n",
        "yfit5"
      ],
      "metadata": {
        "id": "Y6OIUyMkG_fP",
        "colab": {
          "base_uri": "https://localhost:8080/",
          "height": 455
        },
        "outputId": "df1fa86c-fa20-4000-cbf0-56b7ac61dace"
      },
      "execution_count": null,
      "outputs": [
        {
          "output_type": "execute_result",
          "data": {
            "text/plain": [
              "                                              IVA\n",
              "UUID                                             \n",
              "9DA0E63F-1D47-441F-93D7-C2E05AE4D35E  7001.048855\n",
              "7E00E776-A839-4D57-B291-411109164B2F  7001.709904\n",
              "BB6585C1-3B54-4130-AFD0-1867C3764821  1141.796600\n",
              "B5E4B4EB-6C2F-11EC-BB9D-00155D014009  1141.796600\n",
              "BB6756D1-6CCD-11EC-947D-00155D014407  1141.796600\n",
              "...                                           ...\n",
              "E90DA089-3C3B-45C8-A19C-B8810D222F60  1141.796600\n",
              "D720ED7C-F370-4236-B269-8873ABB78745  4544.765475\n",
              "0AFD3EB5-F3DD-43EB-B9FA-79D793CFF417  1141.796600\n",
              "E3CA1DA8-581A-5844-80D2-CF0317B3BBEA  1141.796600\n",
              "17178BA2-9CCE-54F8-A4B8-3E5F98D4DB8E  1141.796600\n",
              "\n",
              "[2577 rows x 1 columns]"
            ],
            "text/html": [
              "\n",
              "  <div id=\"df-8ec8c50f-ac95-40ab-a8d6-650a267cd952\">\n",
              "    <div class=\"colab-df-container\">\n",
              "      <div>\n",
              "<style scoped>\n",
              "    .dataframe tbody tr th:only-of-type {\n",
              "        vertical-align: middle;\n",
              "    }\n",
              "\n",
              "    .dataframe tbody tr th {\n",
              "        vertical-align: top;\n",
              "    }\n",
              "\n",
              "    .dataframe thead th {\n",
              "        text-align: right;\n",
              "    }\n",
              "</style>\n",
              "<table border=\"1\" class=\"dataframe\">\n",
              "  <thead>\n",
              "    <tr style=\"text-align: right;\">\n",
              "      <th></th>\n",
              "      <th>IVA</th>\n",
              "    </tr>\n",
              "    <tr>\n",
              "      <th>UUID</th>\n",
              "      <th></th>\n",
              "    </tr>\n",
              "  </thead>\n",
              "  <tbody>\n",
              "    <tr>\n",
              "      <th>9DA0E63F-1D47-441F-93D7-C2E05AE4D35E</th>\n",
              "      <td>7001.048855</td>\n",
              "    </tr>\n",
              "    <tr>\n",
              "      <th>7E00E776-A839-4D57-B291-411109164B2F</th>\n",
              "      <td>7001.709904</td>\n",
              "    </tr>\n",
              "    <tr>\n",
              "      <th>BB6585C1-3B54-4130-AFD0-1867C3764821</th>\n",
              "      <td>1141.796600</td>\n",
              "    </tr>\n",
              "    <tr>\n",
              "      <th>B5E4B4EB-6C2F-11EC-BB9D-00155D014009</th>\n",
              "      <td>1141.796600</td>\n",
              "    </tr>\n",
              "    <tr>\n",
              "      <th>BB6756D1-6CCD-11EC-947D-00155D014407</th>\n",
              "      <td>1141.796600</td>\n",
              "    </tr>\n",
              "    <tr>\n",
              "      <th>...</th>\n",
              "      <td>...</td>\n",
              "    </tr>\n",
              "    <tr>\n",
              "      <th>E90DA089-3C3B-45C8-A19C-B8810D222F60</th>\n",
              "      <td>1141.796600</td>\n",
              "    </tr>\n",
              "    <tr>\n",
              "      <th>D720ED7C-F370-4236-B269-8873ABB78745</th>\n",
              "      <td>4544.765475</td>\n",
              "    </tr>\n",
              "    <tr>\n",
              "      <th>0AFD3EB5-F3DD-43EB-B9FA-79D793CFF417</th>\n",
              "      <td>1141.796600</td>\n",
              "    </tr>\n",
              "    <tr>\n",
              "      <th>E3CA1DA8-581A-5844-80D2-CF0317B3BBEA</th>\n",
              "      <td>1141.796600</td>\n",
              "    </tr>\n",
              "    <tr>\n",
              "      <th>17178BA2-9CCE-54F8-A4B8-3E5F98D4DB8E</th>\n",
              "      <td>1141.796600</td>\n",
              "    </tr>\n",
              "  </tbody>\n",
              "</table>\n",
              "<p>2577 rows × 1 columns</p>\n",
              "</div>\n",
              "      <button class=\"colab-df-convert\" onclick=\"convertToInteractive('df-8ec8c50f-ac95-40ab-a8d6-650a267cd952')\"\n",
              "              title=\"Convert this dataframe to an interactive table.\"\n",
              "              style=\"display:none;\">\n",
              "        \n",
              "  <svg xmlns=\"http://www.w3.org/2000/svg\" height=\"24px\"viewBox=\"0 0 24 24\"\n",
              "       width=\"24px\">\n",
              "    <path d=\"M0 0h24v24H0V0z\" fill=\"none\"/>\n",
              "    <path d=\"M18.56 5.44l.94 2.06.94-2.06 2.06-.94-2.06-.94-.94-2.06-.94 2.06-2.06.94zm-11 1L8.5 8.5l.94-2.06 2.06-.94-2.06-.94L8.5 2.5l-.94 2.06-2.06.94zm10 10l.94 2.06.94-2.06 2.06-.94-2.06-.94-.94-2.06-.94 2.06-2.06.94z\"/><path d=\"M17.41 7.96l-1.37-1.37c-.4-.4-.92-.59-1.43-.59-.52 0-1.04.2-1.43.59L10.3 9.45l-7.72 7.72c-.78.78-.78 2.05 0 2.83L4 21.41c.39.39.9.59 1.41.59.51 0 1.02-.2 1.41-.59l7.78-7.78 2.81-2.81c.8-.78.8-2.07 0-2.86zM5.41 20L4 18.59l7.72-7.72 1.47 1.35L5.41 20z\"/>\n",
              "  </svg>\n",
              "      </button>\n",
              "      \n",
              "  <style>\n",
              "    .colab-df-container {\n",
              "      display:flex;\n",
              "      flex-wrap:wrap;\n",
              "      gap: 12px;\n",
              "    }\n",
              "\n",
              "    .colab-df-convert {\n",
              "      background-color: #E8F0FE;\n",
              "      border: none;\n",
              "      border-radius: 50%;\n",
              "      cursor: pointer;\n",
              "      display: none;\n",
              "      fill: #1967D2;\n",
              "      height: 32px;\n",
              "      padding: 0 0 0 0;\n",
              "      width: 32px;\n",
              "    }\n",
              "\n",
              "    .colab-df-convert:hover {\n",
              "      background-color: #E2EBFA;\n",
              "      box-shadow: 0px 1px 2px rgba(60, 64, 67, 0.3), 0px 1px 3px 1px rgba(60, 64, 67, 0.15);\n",
              "      fill: #174EA6;\n",
              "    }\n",
              "\n",
              "    [theme=dark] .colab-df-convert {\n",
              "      background-color: #3B4455;\n",
              "      fill: #D2E3FC;\n",
              "    }\n",
              "\n",
              "    [theme=dark] .colab-df-convert:hover {\n",
              "      background-color: #434B5C;\n",
              "      box-shadow: 0px 1px 3px 1px rgba(0, 0, 0, 0.15);\n",
              "      filter: drop-shadow(0px 1px 2px rgba(0, 0, 0, 0.3));\n",
              "      fill: #FFFFFF;\n",
              "    }\n",
              "  </style>\n",
              "\n",
              "      <script>\n",
              "        const buttonEl =\n",
              "          document.querySelector('#df-8ec8c50f-ac95-40ab-a8d6-650a267cd952 button.colab-df-convert');\n",
              "        buttonEl.style.display =\n",
              "          google.colab.kernel.accessAllowed ? 'block' : 'none';\n",
              "\n",
              "        async function convertToInteractive(key) {\n",
              "          const element = document.querySelector('#df-8ec8c50f-ac95-40ab-a8d6-650a267cd952');\n",
              "          const dataTable =\n",
              "            await google.colab.kernel.invokeFunction('convertToInteractive',\n",
              "                                                     [key], {});\n",
              "          if (!dataTable) return;\n",
              "\n",
              "          const docLinkHtml = 'Like what you see? Visit the ' +\n",
              "            '<a target=\"_blank\" href=https://colab.research.google.com/notebooks/data_table.ipynb>data table notebook</a>'\n",
              "            + ' to learn more about interactive tables.';\n",
              "          element.innerHTML = '';\n",
              "          dataTable['output_type'] = 'display_data';\n",
              "          await google.colab.output.renderOutput(dataTable, element);\n",
              "          const docLink = document.createElement('div');\n",
              "          docLink.innerHTML = docLinkHtml;\n",
              "          element.appendChild(docLink);\n",
              "        }\n",
              "      </script>\n",
              "    </div>\n",
              "  </div>\n",
              "  "
            ]
          },
          "metadata": {},
          "execution_count": 50
        }
      ]
    },
    {
      "cell_type": "code",
      "source": [
        "#Graficamos las predicciones y los datos originales para realizar la comparación\n",
        "plt.plot(x, y, 'bo', label=\"y-original\")\n",
        "plt.plot(x, yfit5, label=\"y=a*x^2+b*x+c\")\n",
        "plt.xlabel('x')\n",
        "plt.ylabel('y')\n",
        "plt.legend(loc='best', fancybox=True, shadow=True)\n",
        "plt.grid(True)\n",
        "plt.show() "
      ],
      "metadata": {
        "id": "wp1VcelPHDVV",
        "colab": {
          "base_uri": "https://localhost:8080/",
          "height": 454
        },
        "outputId": "2368e29c-2fbd-4cdc-e9f6-90dd57767b70"
      },
      "execution_count": null,
      "outputs": [
        {
          "output_type": "display_data",
          "data": {
            "text/plain": [
              "<Figure size 640x480 with 1 Axes>"
            ],
            "image/png": "[encoded data removed]"
          },
          "metadata": {}
        }
      ]
    },
    {
      "cell_type": "code",
      "source": [
        "#Calculamos el coeficiente de determinación del modelo\n",
        "R2_5 = r2_score(y, yfit5) \n",
        "R2_5"
      ],
      "metadata": {
        "id": "JkBZc2WLHHmB",
        "colab": {
          "base_uri": "https://localhost:8080/"
        },
        "outputId": "ac75f768-f730-40f6-fd00-8ee9cee7f8ef"
      },
      "execution_count": null,
      "outputs": [
        {
          "output_type": "execute_result",
          "data": {
            "text/plain": [
              "0.8397849221560656"
            ]
          },
          "metadata": {},
          "execution_count": 52
        }
      ]
    },
    {
      "cell_type": "code",
      "source": [
        "det.append(R2_5)\n",
        "corr.append(np.sqrt(R2_5))\n",
        "n_m.append(\"M1 2022\")"
      ],
      "metadata": {
        "id": "a38GUuLtNJTo"
      },
      "execution_count": null,
      "outputs": []
    },
    {
      "cell_type": "markdown",
      "source": [
        "###**Modelo 2**"
      ],
      "metadata": {
        "id": "zuJomlb0HRCu"
      }
    },
    {
      "cell_type": "code",
      "source": [
        "import numpy as np"
      ],
      "metadata": {
        "id": "TFMOdvDYHWny"
      },
      "execution_count": null,
      "outputs": []
    },
    {
      "cell_type": "code",
      "source": [
        "def func6(x, a, b, c):\n",
        "    return a*x**3 + b*x + c"
      ],
      "metadata": {
        "id": "9NbWSH5PHNm9"
      },
      "execution_count": null,
      "outputs": []
    },
    {
      "cell_type": "code",
      "source": [
        "#Ajustamos los parámetros de la función curve_fit\n",
        "parametros6, covs= curve_fit(func6, gyc22['IVA'], gyc22['TOTAL MX'])"
      ],
      "metadata": {
        "id": "MEqs754xHfkI"
      },
      "execution_count": null,
      "outputs": []
    },
    {
      "cell_type": "code",
      "source": [
        "#Obtenemos los coeficientes del modelo de regresión no lineal\n",
        "parametros6"
      ],
      "metadata": {
        "id": "wpssME1CHfkI",
        "colab": {
          "base_uri": "https://localhost:8080/"
        },
        "outputId": "12c28fd7-7876-427f-d5da-2bdce1c0affc"
      },
      "execution_count": null,
      "outputs": [
        {
          "output_type": "execute_result",
          "data": {
            "text/plain": [
              "array([2.85013894e-10, 6.69685179e+00, 1.10956691e+03])"
            ]
          },
          "metadata": {},
          "execution_count": 57
        }
      ]
    },
    {
      "cell_type": "code",
      "source": [
        "#Creamos el modelo de predicción con los parámetros obtenidos \n",
        "parametros6, _ = curve_fit(func6, gyc22['IVA'], gyc22['TOTAL MX'])\n",
        "a6, b6, c6 = parametros6[ 0 ], parametros6[ 1 ], parametros6[ 2 ]\n",
        "yfit6 = a6 * x ** 3 + b6 * x + c6"
      ],
      "metadata": {
        "id": "AmnKLgOgHfkJ"
      },
      "execution_count": null,
      "outputs": []
    },
    {
      "cell_type": "code",
      "source": [
        "#Creamos el modelo de predicción con los parámetros obtenidos\n",
        "yfit6"
      ],
      "metadata": {
        "id": "om9k-KQrHfkJ",
        "colab": {
          "base_uri": "https://localhost:8080/",
          "height": 455
        },
        "outputId": "561e479d-425b-437e-9632-5b7b715d77c3"
      },
      "execution_count": null,
      "outputs": [
        {
          "output_type": "execute_result",
          "data": {
            "text/plain": [
              "                                              IVA\n",
              "UUID                                             \n",
              "9DA0E63F-1D47-441F-93D7-C2E05AE4D35E  7058.044333\n",
              "7E00E776-A839-4D57-B291-411109164B2F  7058.714085\n",
              "BB6585C1-3B54-4130-AFD0-1867C3764821  1109.566915\n",
              "B5E4B4EB-6C2F-11EC-BB9D-00155D014009  1109.566915\n",
              "BB6756D1-6CCD-11EC-947D-00155D014407  1109.566915\n",
              "...                                           ...\n",
              "E90DA089-3C3B-45C8-A19C-B8810D222F60  1109.566915\n",
              "D720ED7C-F370-4236-B269-8873ABB78745  4567.324660\n",
              "0AFD3EB5-F3DD-43EB-B9FA-79D793CFF417  1109.566915\n",
              "E3CA1DA8-581A-5844-80D2-CF0317B3BBEA  1109.566915\n",
              "17178BA2-9CCE-54F8-A4B8-3E5F98D4DB8E  1109.566915\n",
              "\n",
              "[2577 rows x 1 columns]"
            ],
            "text/html": [
              "\n",
              "  <div id=\"df-a1f8d0f7-5564-41e0-887c-fc8b0ee67a2f\">\n",
              "    <div class=\"colab-df-container\">\n",
              "      <div>\n",
              "<style scoped>\n",
              "    .dataframe tbody tr th:only-of-type {\n",
              "        vertical-align: middle;\n",
              "    }\n",
              "\n",
              "    .dataframe tbody tr th {\n",
              "        vertical-align: top;\n",
              "    }\n",
              "\n",
              "    .dataframe thead th {\n",
              "        text-align: right;\n",
              "    }\n",
              "</style>\n",
              "<table border=\"1\" class=\"dataframe\">\n",
              "  <thead>\n",
              "    <tr style=\"text-align: right;\">\n",
              "      <th></th>\n",
              "      <th>IVA</th>\n",
              "    </tr>\n",
              "    <tr>\n",
              "      <th>UUID</th>\n",
              "      <th></th>\n",
              "    </tr>\n",
              "  </thead>\n",
              "  <tbody>\n",
              "    <tr>\n",
              "      <th>9DA0E63F-1D47-441F-93D7-C2E05AE4D35E</th>\n",
              "      <td>7058.044333</td>\n",
              "    </tr>\n",
              "    <tr>\n",
              "      <th>7E00E776-A839-4D57-B291-411109164B2F</th>\n",
              "      <td>7058.714085</td>\n",
              "    </tr>\n",
              "    <tr>\n",
              "      <th>BB6585C1-3B54-4130-AFD0-1867C3764821</th>\n",
              "      <td>1109.566915</td>\n",
              "    </tr>\n",
              "    <tr>\n",
              "      <th>B5E4B4EB-6C2F-11EC-BB9D-00155D014009</th>\n",
              "      <td>1109.566915</td>\n",
              "    </tr>\n",
              "    <tr>\n",
              "      <th>BB6756D1-6CCD-11EC-947D-00155D014407</th>\n",
              "      <td>1109.566915</td>\n",
              "    </tr>\n",
              "    <tr>\n",
              "      <th>...</th>\n",
              "      <td>...</td>\n",
              "    </tr>\n",
              "    <tr>\n",
              "      <th>E90DA089-3C3B-45C8-A19C-B8810D222F60</th>\n",
              "      <td>1109.566915</td>\n",
              "    </tr>\n",
              "    <tr>\n",
              "      <th>D720ED7C-F370-4236-B269-8873ABB78745</th>\n",
              "      <td>4567.324660</td>\n",
              "    </tr>\n",
              "    <tr>\n",
              "      <th>0AFD3EB5-F3DD-43EB-B9FA-79D793CFF417</th>\n",
              "      <td>1109.566915</td>\n",
              "    </tr>\n",
              "    <tr>\n",
              "      <th>E3CA1DA8-581A-5844-80D2-CF0317B3BBEA</th>\n",
              "      <td>1109.566915</td>\n",
              "    </tr>\n",
              "    <tr>\n",
              "      <th>17178BA2-9CCE-54F8-A4B8-3E5F98D4DB8E</th>\n",
              "      <td>1109.566915</td>\n",
              "    </tr>\n",
              "  </tbody>\n",
              "</table>\n",
              "<p>2577 rows × 1 columns</p>\n",
              "</div>\n",
              "      <button class=\"colab-df-convert\" onclick=\"convertToInteractive('df-a1f8d0f7-5564-41e0-887c-fc8b0ee67a2f')\"\n",
              "              title=\"Convert this dataframe to an interactive table.\"\n",
              "              style=\"display:none;\">\n",
              "        \n",
              "  <svg xmlns=\"http://www.w3.org/2000/svg\" height=\"24px\"viewBox=\"0 0 24 24\"\n",
              "       width=\"24px\">\n",
              "    <path d=\"M0 0h24v24H0V0z\" fill=\"none\"/>\n",
              "    <path d=\"M18.56 5.44l.94 2.06.94-2.06 2.06-.94-2.06-.94-.94-2.06-.94 2.06-2.06.94zm-11 1L8.5 8.5l.94-2.06 2.06-.94-2.06-.94L8.5 2.5l-.94 2.06-2.06.94zm10 10l.94 2.06.94-2.06 2.06-.94-2.06-.94-.94-2.06-.94 2.06-2.06.94z\"/><path d=\"M17.41 7.96l-1.37-1.37c-.4-.4-.92-.59-1.43-.59-.52 0-1.04.2-1.43.59L10.3 9.45l-7.72 7.72c-.78.78-.78 2.05 0 2.83L4 21.41c.39.39.9.59 1.41.59.51 0 1.02-.2 1.41-.59l7.78-7.78 2.81-2.81c.8-.78.8-2.07 0-2.86zM5.41 20L4 18.59l7.72-7.72 1.47 1.35L5.41 20z\"/>\n",
              "  </svg>\n",
              "      </button>\n",
              "      \n",
              "  <style>\n",
              "    .colab-df-container {\n",
              "      display:flex;\n",
              "      flex-wrap:wrap;\n",
              "      gap: 12px;\n",
              "    }\n",
              "\n",
              "    .colab-df-convert {\n",
              "      background-color: #E8F0FE;\n",
              "      border: none;\n",
              "      border-radius: 50%;\n",
              "      cursor: pointer;\n",
              "      display: none;\n",
              "      fill: #1967D2;\n",
              "      height: 32px;\n",
              "      padding: 0 0 0 0;\n",
              "      width: 32px;\n",
              "    }\n",
              "\n",
              "    .colab-df-convert:hover {\n",
              "      background-color: #E2EBFA;\n",
              "      box-shadow: 0px 1px 2px rgba(60, 64, 67, 0.3), 0px 1px 3px 1px rgba(60, 64, 67, 0.15);\n",
              "      fill: #174EA6;\n",
              "    }\n",
              "\n",
              "    [theme=dark] .colab-df-convert {\n",
              "      background-color: #3B4455;\n",
              "      fill: #D2E3FC;\n",
              "    }\n",
              "\n",
              "    [theme=dark] .colab-df-convert:hover {\n",
              "      background-color: #434B5C;\n",
              "      box-shadow: 0px 1px 3px 1px rgba(0, 0, 0, 0.15);\n",
              "      filter: drop-shadow(0px 1px 2px rgba(0, 0, 0, 0.3));\n",
              "      fill: #FFFFFF;\n",
              "    }\n",
              "  </style>\n",
              "\n",
              "      <script>\n",
              "        const buttonEl =\n",
              "          document.querySelector('#df-a1f8d0f7-5564-41e0-887c-fc8b0ee67a2f button.colab-df-convert');\n",
              "        buttonEl.style.display =\n",
              "          google.colab.kernel.accessAllowed ? 'block' : 'none';\n",
              "\n",
              "        async function convertToInteractive(key) {\n",
              "          const element = document.querySelector('#df-a1f8d0f7-5564-41e0-887c-fc8b0ee67a2f');\n",
              "          const dataTable =\n",
              "            await google.colab.kernel.invokeFunction('convertToInteractive',\n",
              "                                                     [key], {});\n",
              "          if (!dataTable) return;\n",
              "\n",
              "          const docLinkHtml = 'Like what you see? Visit the ' +\n",
              "            '<a target=\"_blank\" href=https://colab.research.google.com/notebooks/data_table.ipynb>data table notebook</a>'\n",
              "            + ' to learn more about interactive tables.';\n",
              "          element.innerHTML = '';\n",
              "          dataTable['output_type'] = 'display_data';\n",
              "          await google.colab.output.renderOutput(dataTable, element);\n",
              "          const docLink = document.createElement('div');\n",
              "          docLink.innerHTML = docLinkHtml;\n",
              "          element.appendChild(docLink);\n",
              "        }\n",
              "      </script>\n",
              "    </div>\n",
              "  </div>\n",
              "  "
            ]
          },
          "metadata": {},
          "execution_count": 59
        }
      ]
    },
    {
      "cell_type": "code",
      "source": [
        "#Graficamos las predicciones y los datos originales para realizar la comparación\n",
        "plt.plot(x, y, 'bo', label=\"y-original\")\n",
        "plt.plot(x, yfit6, label=\"y=a*x^3+b*x+c\")\n",
        "plt.xlabel('x')\n",
        "plt.ylabel('y')\n",
        "plt.legend(loc='best', fancybox=True, shadow=True)\n",
        "plt.grid(True)\n",
        "plt.show() "
      ],
      "metadata": {
        "id": "oo-srwi8HfkJ",
        "colab": {
          "base_uri": "https://localhost:8080/",
          "height": 455
        },
        "outputId": "0040338f-cf50-48aa-f117-6e45100e0f84"
      },
      "execution_count": null,
      "outputs": [
        {
          "output_type": "display_data",
          "data": {
            "text/plain": [
              "<Figure size 640x480 with 1 Axes>"
            ],
            "image/png": "[encoded data removed]"
          },
          "metadata": {}
        }
      ]
    },
    {
      "cell_type": "code",
      "source": [
        "#Calculamos el coeficiente de determinación del modelo\n",
        "R2_6 = r2_score(y, yfit6) \n",
        "R2_6"
      ],
      "metadata": {
        "id": "VjG3ELkuHfkK",
        "colab": {
          "base_uri": "https://localhost:8080/"
        },
        "outputId": "3f9c88c3-8c8c-4652-c061-ef8fcde09a7a"
      },
      "execution_count": null,
      "outputs": [
        {
          "output_type": "execute_result",
          "data": {
            "text/plain": [
              "0.8395142610165441"
            ]
          },
          "metadata": {},
          "execution_count": 61
        }
      ]
    },
    {
      "cell_type": "code",
      "source": [
        "det.append(R2_6)\n",
        "corr.append(np.sqrt(abs(R2_6)))\n",
        "n_m.append(\"M2 2022\")"
      ],
      "metadata": {
        "id": "BH-pY3DONMaO"
      },
      "execution_count": null,
      "outputs": []
    },
    {
      "cell_type": "markdown",
      "source": [
        "##**2023**"
      ],
      "metadata": {
        "id": "lwmX_WB5Ix4N"
      }
    },
    {
      "cell_type": "code",
      "source": [
        "#Declaramos las variables dependientes e independientes para la regresión No lineal\n",
        "Vars_Indep= gyc23[['IVA']]\n",
        "Var_Dep= gyc23['TOTAL MX']"
      ],
      "metadata": {
        "id": "9O5lGeADIx4W"
      },
      "execution_count": null,
      "outputs": []
    },
    {
      "cell_type": "code",
      "source": [
        "#Redefinimos las variables \n",
        "x= Vars_Indep\n",
        "y= Var_Dep"
      ],
      "metadata": {
        "id": "Eri94jMXIx4W"
      },
      "execution_count": null,
      "outputs": []
    },
    {
      "cell_type": "markdown",
      "source": [
        "###**Modelo 1**"
      ],
      "metadata": {
        "id": "5x7nKvAbIx4W"
      }
    },
    {
      "cell_type": "code",
      "source": [
        "def  func7 (x, a, b, c):\n",
        "     return a*x**2 + b*x + c"
      ],
      "metadata": {
        "id": "7-yXB3wBIx4X"
      },
      "execution_count": null,
      "outputs": []
    },
    {
      "cell_type": "code",
      "source": [
        "#Ajustamos los parámetros de la función curve_fit\n",
        "parametros7, covs= curve_fit(func7, gyc23['IVA'], gyc23['TOTAL MX'])"
      ],
      "metadata": {
        "id": "27Mpioy2Ix4X"
      },
      "execution_count": null,
      "outputs": []
    },
    {
      "cell_type": "code",
      "source": [
        "#Obtenemos los coeficientes del modelo de regresión no lineal\n",
        "parametros7"
      ],
      "metadata": {
        "id": "NooAi2I9Ix4X",
        "colab": {
          "base_uri": "https://localhost:8080/"
        },
        "outputId": "5ba5d6bf-ae8e-4617-bdde-62e194ad1106"
      },
      "execution_count": null,
      "outputs": [
        {
          "output_type": "execute_result",
          "data": {
            "text/plain": [
              "array([1.34872548e-04, 6.02538887e+00, 1.16341135e+03])"
            ]
          },
          "metadata": {},
          "execution_count": 67
        }
      ]
    },
    {
      "cell_type": "code",
      "source": [
        "#Creamos el modelo de predicción con los parámetros obtenidos \n",
        "parametros7, _ = curve_fit(func7, gyc23['IVA'], gyc23['TOTAL MX'])\n",
        "a7, b7, c7 = parametros7[ 0 ], parametros7[ 1 ], parametros7[ 2 ]\n",
        "yfit7 = a7 * x ** 2 + b7 * x + c7"
      ],
      "metadata": {
        "id": "FKhiusnKIx4X"
      },
      "execution_count": null,
      "outputs": []
    },
    {
      "cell_type": "code",
      "source": [
        "#Creamos el modelo de predicción con los parámetros obtenidos\n",
        "yfit7"
      ],
      "metadata": {
        "id": "ao4ksnPNIx4X",
        "colab": {
          "base_uri": "https://localhost:8080/",
          "height": 455
        },
        "outputId": "371e969a-d438-498f-8279-cb4bf44dce4d"
      },
      "execution_count": null,
      "outputs": [
        {
          "output_type": "execute_result",
          "data": {
            "text/plain": [
              "                                              IVA\n",
              "UUID                                             \n",
              "49536321-60A4-523E-A32F-E8BDF5C2276E  1163.411348\n",
              "20FBB63B-D550-512F-9668-EEC6F983CEB7  1163.411348\n",
              "DB8C4388-D4E0-4F0C-A09C-77C773257F44  6621.687895\n",
              "A81A63F5-D5EC-4601-803E-375AF9CC5021  6622.314395\n",
              "DCC10492-DE51-4C87-8430-5676FBF81931  9560.744299\n",
              "...                                           ...\n",
              "3E97C399-6747-4BCA-8436-ED4B0933DF33  1163.411348\n",
              "B7132758-F800-4797-B1D6-CC61AFFEE444  1163.411348\n",
              "D1E2DC1E-9FFB-46C6-82E4-B350B83CB6F7  5337.942782\n",
              "6249FE27-6FA6-4EFB-910E-3CD67A0E29A1  1163.411348\n",
              "439A9230-277E-5563-818C-7630B0E8D706  1163.411348\n",
              "\n",
              "[397 rows x 1 columns]"
            ],
            "text/html": [
              "\n",
              "  <div id=\"df-e2949782-f058-4bbe-8d2d-4ecc64ac21d6\">\n",
              "    <div class=\"colab-df-container\">\n",
              "      <div>\n",
              "<style scoped>\n",
              "    .dataframe tbody tr th:only-of-type {\n",
              "        vertical-align: middle;\n",
              "    }\n",
              "\n",
              "    .dataframe tbody tr th {\n",
              "        vertical-align: top;\n",
              "    }\n",
              "\n",
              "    .dataframe thead th {\n",
              "        text-align: right;\n",
              "    }\n",
              "</style>\n",
              "<table border=\"1\" class=\"dataframe\">\n",
              "  <thead>\n",
              "    <tr style=\"text-align: right;\">\n",
              "      <th></th>\n",
              "      <th>IVA</th>\n",
              "    </tr>\n",
              "    <tr>\n",
              "      <th>UUID</th>\n",
              "      <th></th>\n",
              "    </tr>\n",
              "  </thead>\n",
              "  <tbody>\n",
              "    <tr>\n",
              "      <th>49536321-60A4-523E-A32F-E8BDF5C2276E</th>\n",
              "      <td>1163.411348</td>\n",
              "    </tr>\n",
              "    <tr>\n",
              "      <th>20FBB63B-D550-512F-9668-EEC6F983CEB7</th>\n",
              "      <td>1163.411348</td>\n",
              "    </tr>\n",
              "    <tr>\n",
              "      <th>DB8C4388-D4E0-4F0C-A09C-77C773257F44</th>\n",
              "      <td>6621.687895</td>\n",
              "    </tr>\n",
              "    <tr>\n",
              "      <th>A81A63F5-D5EC-4601-803E-375AF9CC5021</th>\n",
              "      <td>6622.314395</td>\n",
              "    </tr>\n",
              "    <tr>\n",
              "      <th>DCC10492-DE51-4C87-8430-5676FBF81931</th>\n",
              "      <td>9560.744299</td>\n",
              "    </tr>\n",
              "    <tr>\n",
              "      <th>...</th>\n",
              "      <td>...</td>\n",
              "    </tr>\n",
              "    <tr>\n",
              "      <th>3E97C399-6747-4BCA-8436-ED4B0933DF33</th>\n",
              "      <td>1163.411348</td>\n",
              "    </tr>\n",
              "    <tr>\n",
              "      <th>B7132758-F800-4797-B1D6-CC61AFFEE444</th>\n",
              "      <td>1163.411348</td>\n",
              "    </tr>\n",
              "    <tr>\n",
              "      <th>D1E2DC1E-9FFB-46C6-82E4-B350B83CB6F7</th>\n",
              "      <td>5337.942782</td>\n",
              "    </tr>\n",
              "    <tr>\n",
              "      <th>6249FE27-6FA6-4EFB-910E-3CD67A0E29A1</th>\n",
              "      <td>1163.411348</td>\n",
              "    </tr>\n",
              "    <tr>\n",
              "      <th>439A9230-277E-5563-818C-7630B0E8D706</th>\n",
              "      <td>1163.411348</td>\n",
              "    </tr>\n",
              "  </tbody>\n",
              "</table>\n",
              "<p>397 rows × 1 columns</p>\n",
              "</div>\n",
              "      <button class=\"colab-df-convert\" onclick=\"convertToInteractive('df-e2949782-f058-4bbe-8d2d-4ecc64ac21d6')\"\n",
              "              title=\"Convert this dataframe to an interactive table.\"\n",
              "              style=\"display:none;\">\n",
              "        \n",
              "  <svg xmlns=\"http://www.w3.org/2000/svg\" height=\"24px\"viewBox=\"0 0 24 24\"\n",
              "       width=\"24px\">\n",
              "    <path d=\"M0 0h24v24H0V0z\" fill=\"none\"/>\n",
              "    <path d=\"M18.56 5.44l.94 2.06.94-2.06 2.06-.94-2.06-.94-.94-2.06-.94 2.06-2.06.94zm-11 1L8.5 8.5l.94-2.06 2.06-.94-2.06-.94L8.5 2.5l-.94 2.06-2.06.94zm10 10l.94 2.06.94-2.06 2.06-.94-2.06-.94-.94-2.06-.94 2.06-2.06.94z\"/><path d=\"M17.41 7.96l-1.37-1.37c-.4-.4-.92-.59-1.43-.59-.52 0-1.04.2-1.43.59L10.3 9.45l-7.72 7.72c-.78.78-.78 2.05 0 2.83L4 21.41c.39.39.9.59 1.41.59.51 0 1.02-.2 1.41-.59l7.78-7.78 2.81-2.81c.8-.78.8-2.07 0-2.86zM5.41 20L4 18.59l7.72-7.72 1.47 1.35L5.41 20z\"/>\n",
              "  </svg>\n",
              "      </button>\n",
              "      \n",
              "  <style>\n",
              "    .colab-df-container {\n",
              "      display:flex;\n",
              "      flex-wrap:wrap;\n",
              "      gap: 12px;\n",
              "    }\n",
              "\n",
              "    .colab-df-convert {\n",
              "      background-color: #E8F0FE;\n",
              "      border: none;\n",
              "      border-radius: 50%;\n",
              "      cursor: pointer;\n",
              "      display: none;\n",
              "      fill: #1967D2;\n",
              "      height: 32px;\n",
              "      padding: 0 0 0 0;\n",
              "      width: 32px;\n",
              "    }\n",
              "\n",
              "    .colab-df-convert:hover {\n",
              "      background-color: #E2EBFA;\n",
              "      box-shadow: 0px 1px 2px rgba(60, 64, 67, 0.3), 0px 1px 3px 1px rgba(60, 64, 67, 0.15);\n",
              "      fill: #174EA6;\n",
              "    }\n",
              "\n",
              "    [theme=dark] .colab-df-convert {\n",
              "      background-color: #3B4455;\n",
              "      fill: #D2E3FC;\n",
              "    }\n",
              "\n",
              "    [theme=dark] .colab-df-convert:hover {\n",
              "      background-color: #434B5C;\n",
              "      box-shadow: 0px 1px 3px 1px rgba(0, 0, 0, 0.15);\n",
              "      filter: drop-shadow(0px 1px 2px rgba(0, 0, 0, 0.3));\n",
              "      fill: #FFFFFF;\n",
              "    }\n",
              "  </style>\n",
              "\n",
              "      <script>\n",
              "        const buttonEl =\n",
              "          document.querySelector('#df-e2949782-f058-4bbe-8d2d-4ecc64ac21d6 button.colab-df-convert');\n",
              "        buttonEl.style.display =\n",
              "          google.colab.kernel.accessAllowed ? 'block' : 'none';\n",
              "\n",
              "        async function convertToInteractive(key) {\n",
              "          const element = document.querySelector('#df-e2949782-f058-4bbe-8d2d-4ecc64ac21d6');\n",
              "          const dataTable =\n",
              "            await google.colab.kernel.invokeFunction('convertToInteractive',\n",
              "                                                     [key], {});\n",
              "          if (!dataTable) return;\n",
              "\n",
              "          const docLinkHtml = 'Like what you see? Visit the ' +\n",
              "            '<a target=\"_blank\" href=https://colab.research.google.com/notebooks/data_table.ipynb>data table notebook</a>'\n",
              "            + ' to learn more about interactive tables.';\n",
              "          element.innerHTML = '';\n",
              "          dataTable['output_type'] = 'display_data';\n",
              "          await google.colab.output.renderOutput(dataTable, element);\n",
              "          const docLink = document.createElement('div');\n",
              "          docLink.innerHTML = docLinkHtml;\n",
              "          element.appendChild(docLink);\n",
              "        }\n",
              "      </script>\n",
              "    </div>\n",
              "  </div>\n",
              "  "
            ]
          },
          "metadata": {},
          "execution_count": 69
        }
      ]
    },
    {
      "cell_type": "code",
      "source": [
        "#Graficamos las predicciones y los datos originales para realizar la comparación\n",
        "plt.plot(x, y, 'bo', label=\"y-original\")\n",
        "plt.plot(x, yfit7, label=\"y=a*x^2+b*x+c\")\n",
        "plt.xlabel('x')\n",
        "plt.ylabel('y')\n",
        "plt.legend(loc='best', fancybox=True, shadow=True)\n",
        "plt.grid(True)\n",
        "plt.show() "
      ],
      "metadata": {
        "id": "66VlBy4oIx4Y",
        "colab": {
          "base_uri": "https://localhost:8080/",
          "height": 449
        },
        "outputId": "258bb450-4399-44c2-cb70-77894e798531"
      },
      "execution_count": null,
      "outputs": [
        {
          "output_type": "display_data",
          "data": {
            "text/plain": [
              "<Figure size 640x480 with 1 Axes>"
            ],
            "image/png": "[encoded data removed]"
          },
          "metadata": {}
        }
      ]
    },
    {
      "cell_type": "code",
      "source": [
        "#Calculamos el coeficiente de determinación del modelo\n",
        "R2_7 = r2_score(y, yfit7) \n",
        "R2_7"
      ],
      "metadata": {
        "id": "yb_65jG_Ix4Y",
        "colab": {
          "base_uri": "https://localhost:8080/"
        },
        "outputId": "5e3aab60-e802-49c2-ddbd-536521204cef"
      },
      "execution_count": null,
      "outputs": [
        {
          "output_type": "execute_result",
          "data": {
            "text/plain": [
              "0.7798823223977879"
            ]
          },
          "metadata": {},
          "execution_count": 71
        }
      ]
    },
    {
      "cell_type": "code",
      "source": [
        "det.append(R2_7)\n",
        "corr.append(np.sqrt(R2_7))\n",
        "n_m.append(\"M1 2023\")"
      ],
      "metadata": {
        "id": "mYnM3mgANRzx"
      },
      "execution_count": null,
      "outputs": []
    },
    {
      "cell_type": "markdown",
      "source": [
        "###**Modelo 2**"
      ],
      "metadata": {
        "id": "n9oiQV09Ix4Y"
      }
    },
    {
      "cell_type": "code",
      "source": [
        "def func8(x, a, b, c):\n",
        "    return a*x**3 + b*x + c"
      ],
      "metadata": {
        "id": "fNpbzKjNIx4Y"
      },
      "execution_count": null,
      "outputs": []
    },
    {
      "cell_type": "code",
      "source": [
        "#Ajustamos los parámetros de la función curve_fit\n",
        "parametros8, covs= curve_fit(func8, gyc23['IVA'], gyc23['TOTAL MX'])"
      ],
      "metadata": {
        "id": "de-iSnvkIx4Z"
      },
      "execution_count": null,
      "outputs": []
    },
    {
      "cell_type": "code",
      "source": [
        "#Obtenemos los coeficientes del modelo de regresión no lineal\n",
        "parametros8"
      ],
      "metadata": {
        "id": "XJ3_GgYfIx4Z",
        "colab": {
          "base_uri": "https://localhost:8080/"
        },
        "outputId": "6f5f3f6a-6cf9-4ba5-c9be-2379abef4ee0"
      },
      "execution_count": null,
      "outputs": [
        {
          "output_type": "execute_result",
          "data": {
            "text/plain": [
              "array([1.46498330e-08, 6.28014075e+00, 1.12976636e+03])"
            ]
          },
          "metadata": {},
          "execution_count": 75
        }
      ]
    },
    {
      "cell_type": "code",
      "source": [
        "#Creamos el modelo de predicción con los parámetros obtenidos \n",
        "parametros8, _ = curve_fit(func8, gyc23['IVA'], gyc23['TOTAL MX'])\n",
        "a8, b8, c8 = parametros8[ 0 ], parametros8[ 1 ], parametros8[ 2 ]\n",
        "yfit8 = a8 * x ** 3 + b8 * x + c8"
      ],
      "metadata": {
        "id": "s1Ggb_Y4Ix4Z"
      },
      "execution_count": null,
      "outputs": []
    },
    {
      "cell_type": "code",
      "source": [
        "#Creamos el modelo de predicción con los parámetros obtenidos\n",
        "yfit8"
      ],
      "metadata": {
        "id": "b47F1nGVIx4Z",
        "colab": {
          "base_uri": "https://localhost:8080/",
          "height": 455
        },
        "outputId": "2770ce88-85cf-40ca-da8f-3eb91a608b19"
      },
      "execution_count": null,
      "outputs": [
        {
          "output_type": "execute_result",
          "data": {
            "text/plain": [
              "                                              IVA\n",
              "UUID                                             \n",
              "49536321-60A4-523E-A32F-E8BDF5C2276E  1129.766355\n",
              "20FBB63B-D550-512F-9668-EEC6F983CEB7  1129.766355\n",
              "DB8C4388-D4E0-4F0C-A09C-77C773257F44  6718.178806\n",
              "A81A63F5-D5EC-4601-803E-375AF9CC5021  6718.810287\n",
              "DCC10492-DE51-4C87-8430-5676FBF81931  9661.173524\n",
              "...                                           ...\n",
              "3E97C399-6747-4BCA-8436-ED4B0933DF33  1129.766355\n",
              "B7132758-F800-4797-B1D6-CC61AFFEE444  1129.766355\n",
              "D1E2DC1E-9FFB-46C6-82E4-B350B83CB6F7  5419.989723\n",
              "6249FE27-6FA6-4EFB-910E-3CD67A0E29A1  1129.766355\n",
              "439A9230-277E-5563-818C-7630B0E8D706  1129.766355\n",
              "\n",
              "[397 rows x 1 columns]"
            ],
            "text/html": [
              "\n",
              "  <div id=\"df-3cc86ff3-54e7-42b9-b63f-7d7290f89557\">\n",
              "    <div class=\"colab-df-container\">\n",
              "      <div>\n",
              "<style scoped>\n",
              "    .dataframe tbody tr th:only-of-type {\n",
              "        vertical-align: middle;\n",
              "    }\n",
              "\n",
              "    .dataframe tbody tr th {\n",
              "        vertical-align: top;\n",
              "    }\n",
              "\n",
              "    .dataframe thead th {\n",
              "        text-align: right;\n",
              "    }\n",
              "</style>\n",
              "<table border=\"1\" class=\"dataframe\">\n",
              "  <thead>\n",
              "    <tr style=\"text-align: right;\">\n",
              "      <th></th>\n",
              "      <th>IVA</th>\n",
              "    </tr>\n",
              "    <tr>\n",
              "      <th>UUID</th>\n",
              "      <th></th>\n",
              "    </tr>\n",
              "  </thead>\n",
              "  <tbody>\n",
              "    <tr>\n",
              "      <th>49536321-60A4-523E-A32F-E8BDF5C2276E</th>\n",
              "      <td>1129.766355</td>\n",
              "    </tr>\n",
              "    <tr>\n",
              "      <th>20FBB63B-D550-512F-9668-EEC6F983CEB7</th>\n",
              "      <td>1129.766355</td>\n",
              "    </tr>\n",
              "    <tr>\n",
              "      <th>DB8C4388-D4E0-4F0C-A09C-77C773257F44</th>\n",
              "      <td>6718.178806</td>\n",
              "    </tr>\n",
              "    <tr>\n",
              "      <th>A81A63F5-D5EC-4601-803E-375AF9CC5021</th>\n",
              "      <td>6718.810287</td>\n",
              "    </tr>\n",
              "    <tr>\n",
              "      <th>DCC10492-DE51-4C87-8430-5676FBF81931</th>\n",
              "      <td>9661.173524</td>\n",
              "    </tr>\n",
              "    <tr>\n",
              "      <th>...</th>\n",
              "      <td>...</td>\n",
              "    </tr>\n",
              "    <tr>\n",
              "      <th>3E97C399-6747-4BCA-8436-ED4B0933DF33</th>\n",
              "      <td>1129.766355</td>\n",
              "    </tr>\n",
              "    <tr>\n",
              "      <th>B7132758-F800-4797-B1D6-CC61AFFEE444</th>\n",
              "      <td>1129.766355</td>\n",
              "    </tr>\n",
              "    <tr>\n",
              "      <th>D1E2DC1E-9FFB-46C6-82E4-B350B83CB6F7</th>\n",
              "      <td>5419.989723</td>\n",
              "    </tr>\n",
              "    <tr>\n",
              "      <th>6249FE27-6FA6-4EFB-910E-3CD67A0E29A1</th>\n",
              "      <td>1129.766355</td>\n",
              "    </tr>\n",
              "    <tr>\n",
              "      <th>439A9230-277E-5563-818C-7630B0E8D706</th>\n",
              "      <td>1129.766355</td>\n",
              "    </tr>\n",
              "  </tbody>\n",
              "</table>\n",
              "<p>397 rows × 1 columns</p>\n",
              "</div>\n",
              "      <button class=\"colab-df-convert\" onclick=\"convertToInteractive('df-3cc86ff3-54e7-42b9-b63f-7d7290f89557')\"\n",
              "              title=\"Convert this dataframe to an interactive table.\"\n",
              "              style=\"display:none;\">\n",
              "        \n",
              "  <svg xmlns=\"http://www.w3.org/2000/svg\" height=\"24px\"viewBox=\"0 0 24 24\"\n",
              "       width=\"24px\">\n",
              "    <path d=\"M0 0h24v24H0V0z\" fill=\"none\"/>\n",
              "    <path d=\"M18.56 5.44l.94 2.06.94-2.06 2.06-.94-2.06-.94-.94-2.06-.94 2.06-2.06.94zm-11 1L8.5 8.5l.94-2.06 2.06-.94-2.06-.94L8.5 2.5l-.94 2.06-2.06.94zm10 10l.94 2.06.94-2.06 2.06-.94-2.06-.94-.94-2.06-.94 2.06-2.06.94z\"/><path d=\"M17.41 7.96l-1.37-1.37c-.4-.4-.92-.59-1.43-.59-.52 0-1.04.2-1.43.59L10.3 9.45l-7.72 7.72c-.78.78-.78 2.05 0 2.83L4 21.41c.39.39.9.59 1.41.59.51 0 1.02-.2 1.41-.59l7.78-7.78 2.81-2.81c.8-.78.8-2.07 0-2.86zM5.41 20L4 18.59l7.72-7.72 1.47 1.35L5.41 20z\"/>\n",
              "  </svg>\n",
              "      </button>\n",
              "      \n",
              "  <style>\n",
              "    .colab-df-container {\n",
              "      display:flex;\n",
              "      flex-wrap:wrap;\n",
              "      gap: 12px;\n",
              "    }\n",
              "\n",
              "    .colab-df-convert {\n",
              "      background-color: #E8F0FE;\n",
              "      border: none;\n",
              "      border-radius: 50%;\n",
              "      cursor: pointer;\n",
              "      display: none;\n",
              "      fill: #1967D2;\n",
              "      height: 32px;\n",
              "      padding: 0 0 0 0;\n",
              "      width: 32px;\n",
              "    }\n",
              "\n",
              "    .colab-df-convert:hover {\n",
              "      background-color: #E2EBFA;\n",
              "      box-shadow: 0px 1px 2px rgba(60, 64, 67, 0.3), 0px 1px 3px 1px rgba(60, 64, 67, 0.15);\n",
              "      fill: #174EA6;\n",
              "    }\n",
              "\n",
              "    [theme=dark] .colab-df-convert {\n",
              "      background-color: #3B4455;\n",
              "      fill: #D2E3FC;\n",
              "    }\n",
              "\n",
              "    [theme=dark] .colab-df-convert:hover {\n",
              "      background-color: #434B5C;\n",
              "      box-shadow: 0px 1px 3px 1px rgba(0, 0, 0, 0.15);\n",
              "      filter: drop-shadow(0px 1px 2px rgba(0, 0, 0, 0.3));\n",
              "      fill: #FFFFFF;\n",
              "    }\n",
              "  </style>\n",
              "\n",
              "      <script>\n",
              "        const buttonEl =\n",
              "          document.querySelector('#df-3cc86ff3-54e7-42b9-b63f-7d7290f89557 button.colab-df-convert');\n",
              "        buttonEl.style.display =\n",
              "          google.colab.kernel.accessAllowed ? 'block' : 'none';\n",
              "\n",
              "        async function convertToInteractive(key) {\n",
              "          const element = document.querySelector('#df-3cc86ff3-54e7-42b9-b63f-7d7290f89557');\n",
              "          const dataTable =\n",
              "            await google.colab.kernel.invokeFunction('convertToInteractive',\n",
              "                                                     [key], {});\n",
              "          if (!dataTable) return;\n",
              "\n",
              "          const docLinkHtml = 'Like what you see? Visit the ' +\n",
              "            '<a target=\"_blank\" href=https://colab.research.google.com/notebooks/data_table.ipynb>data table notebook</a>'\n",
              "            + ' to learn more about interactive tables.';\n",
              "          element.innerHTML = '';\n",
              "          dataTable['output_type'] = 'display_data';\n",
              "          await google.colab.output.renderOutput(dataTable, element);\n",
              "          const docLink = document.createElement('div');\n",
              "          docLink.innerHTML = docLinkHtml;\n",
              "          element.appendChild(docLink);\n",
              "        }\n",
              "      </script>\n",
              "    </div>\n",
              "  </div>\n",
              "  "
            ]
          },
          "metadata": {},
          "execution_count": 77
        }
      ]
    },
    {
      "cell_type": "code",
      "source": [
        "#Graficamos las predicciones y los datos originales para realizar la comparación\n",
        "plt.plot(x, y, 'bo', label=\"y-original\")\n",
        "plt.plot(x, yfit8, label=\"y=a*x^3+b*x+c\")\n",
        "plt.xlabel('x')\n",
        "plt.ylabel('y')\n",
        "plt.legend(loc='best', fancybox=True, shadow=True)\n",
        "plt.grid(True)\n",
        "plt.show() "
      ],
      "metadata": {
        "id": "v8lZNxkAIx4Z",
        "colab": {
          "base_uri": "https://localhost:8080/",
          "height": 449
        },
        "outputId": "1a520a5a-8d19-4a53-b741-abe6653a514b"
      },
      "execution_count": null,
      "outputs": [
        {
          "output_type": "display_data",
          "data": {
            "text/plain": [
              "<Figure size 640x480 with 1 Axes>"
            ],
            "image/png": "[encoded data removed]"
          },
          "metadata": {}
        }
      ]
    },
    {
      "cell_type": "code",
      "source": [
        "#Calculamos el coeficiente de determinación del modelo\n",
        "R2_8 = r2_score(y, yfit8) \n",
        "R2_8"
      ],
      "metadata": {
        "id": "WUxUQMx1Ix4Z",
        "colab": {
          "base_uri": "https://localhost:8080/"
        },
        "outputId": "3b1d7954-6147-4151-a546-a220bdf9a7b5"
      },
      "execution_count": null,
      "outputs": [
        {
          "output_type": "execute_result",
          "data": {
            "text/plain": [
              "0.779886706046094"
            ]
          },
          "metadata": {},
          "execution_count": 79
        }
      ]
    },
    {
      "cell_type": "code",
      "source": [
        "det.append(R2_8)\n",
        "corr.append(np.sqrt(abs(R2_8)))\n",
        "n_m.append(\"M2 2023\")"
      ],
      "metadata": {
        "id": "WKPpuw_iNVmB"
      },
      "execution_count": null,
      "outputs": []
    },
    {
      "cell_type": "markdown",
      "source": [
        "##**TABLA**"
      ],
      "metadata": {
        "id": "jGOrHxaRRQsw"
      }
    },
    {
      "cell_type": "code",
      "source": [
        "tabla = pd.DataFrame()\n",
        "tabla['Modelo y Año'] = n_m\n",
        "tabla['Coef. Determinación'] = det\n",
        "tabla"
      ],
      "metadata": {
        "id": "teGV-dwANYFK",
        "colab": {
          "base_uri": "https://localhost:8080/",
          "height": 300
        },
        "outputId": "134598d3-39d9-4855-c054-1692ba6a6338"
      },
      "execution_count": null,
      "outputs": [
        {
          "output_type": "execute_result",
          "data": {
            "text/plain": [
              "  Modelo y Año  Coef. Determinación\n",
              "0      M1 2020             0.933158\n",
              "1      M2 2020             0.951689\n",
              "2      M1 2021             0.902839\n",
              "3      M2 2021             0.902585\n",
              "4      M1 2022             0.839785\n",
              "5      M2 2022             0.839514\n",
              "6      M1 2023             0.779882\n",
              "7      M2 2023             0.779887"
            ],
            "text/html": [
              "\n",
              "  <div id=\"df-5219220c-9aea-4e06-bb43-50f5ffbe99db\">\n",
              "    <div class=\"colab-df-container\">\n",
              "      <div>\n",
              "<style scoped>\n",
              "    .dataframe tbody tr th:only-of-type {\n",
              "        vertical-align: middle;\n",
              "    }\n",
              "\n",
              "    .dataframe tbody tr th {\n",
              "        vertical-align: top;\n",
              "    }\n",
              "\n",
              "    .dataframe thead th {\n",
              "        text-align: right;\n",
              "    }\n",
              "</style>\n",
              "<table border=\"1\" class=\"dataframe\">\n",
              "  <thead>\n",
              "    <tr style=\"text-align: right;\">\n",
              "      <th></th>\n",
              "      <th>Modelo y Año</th>\n",
              "      <th>Coef. Determinación</th>\n",
              "    </tr>\n",
              "  </thead>\n",
              "  <tbody>\n",
              "    <tr>\n",
              "      <th>0</th>\n",
              "      <td>M1 2020</td>\n",
              "      <td>0.933158</td>\n",
              "    </tr>\n",
              "    <tr>\n",
              "      <th>1</th>\n",
              "      <td>M2 2020</td>\n",
              "      <td>0.951689</td>\n",
              "    </tr>\n",
              "    <tr>\n",
              "      <th>2</th>\n",
              "      <td>M1 2021</td>\n",
              "      <td>0.902839</td>\n",
              "    </tr>\n",
              "    <tr>\n",
              "      <th>3</th>\n",
              "      <td>M2 2021</td>\n",
              "      <td>0.902585</td>\n",
              "    </tr>\n",
              "    <tr>\n",
              "      <th>4</th>\n",
              "      <td>M1 2022</td>\n",
              "      <td>0.839785</td>\n",
              "    </tr>\n",
              "    <tr>\n",
              "      <th>5</th>\n",
              "      <td>M2 2022</td>\n",
              "      <td>0.839514</td>\n",
              "    </tr>\n",
              "    <tr>\n",
              "      <th>6</th>\n",
              "      <td>M1 2023</td>\n",
              "      <td>0.779882</td>\n",
              "    </tr>\n",
              "    <tr>\n",
              "      <th>7</th>\n",
              "      <td>M2 2023</td>\n",
              "      <td>0.779887</td>\n",
              "    </tr>\n",
              "  </tbody>\n",
              "</table>\n",
              "</div>\n",
              "      <button class=\"colab-df-convert\" onclick=\"convertToInteractive('df-5219220c-9aea-4e06-bb43-50f5ffbe99db')\"\n",
              "              title=\"Convert this dataframe to an interactive table.\"\n",
              "              style=\"display:none;\">\n",
              "        \n",
              "  <svg xmlns=\"http://www.w3.org/2000/svg\" height=\"24px\"viewBox=\"0 0 24 24\"\n",
              "       width=\"24px\">\n",
              "    <path d=\"M0 0h24v24H0V0z\" fill=\"none\"/>\n",
              "    <path d=\"M18.56 5.44l.94 2.06.94-2.06 2.06-.94-2.06-.94-.94-2.06-.94 2.06-2.06.94zm-11 1L8.5 8.5l.94-2.06 2.06-.94-2.06-.94L8.5 2.5l-.94 2.06-2.06.94zm10 10l.94 2.06.94-2.06 2.06-.94-2.06-.94-.94-2.06-.94 2.06-2.06.94z\"/><path d=\"M17.41 7.96l-1.37-1.37c-.4-.4-.92-.59-1.43-.59-.52 0-1.04.2-1.43.59L10.3 9.45l-7.72 7.72c-.78.78-.78 2.05 0 2.83L4 21.41c.39.39.9.59 1.41.59.51 0 1.02-.2 1.41-.59l7.78-7.78 2.81-2.81c.8-.78.8-2.07 0-2.86zM5.41 20L4 18.59l7.72-7.72 1.47 1.35L5.41 20z\"/>\n",
              "  </svg>\n",
              "      </button>\n",
              "      \n",
              "  <style>\n",
              "    .colab-df-container {\n",
              "      display:flex;\n",
              "      flex-wrap:wrap;\n",
              "      gap: 12px;\n",
              "    }\n",
              "\n",
              "    .colab-df-convert {\n",
              "      background-color: #E8F0FE;\n",
              "      border: none;\n",
              "      border-radius: 50%;\n",
              "      cursor: pointer;\n",
              "      display: none;\n",
              "      fill: #1967D2;\n",
              "      height: 32px;\n",
              "      padding: 0 0 0 0;\n",
              "      width: 32px;\n",
              "    }\n",
              "\n",
              "    .colab-df-convert:hover {\n",
              "      background-color: #E2EBFA;\n",
              "      box-shadow: 0px 1px 2px rgba(60, 64, 67, 0.3), 0px 1px 3px 1px rgba(60, 64, 67, 0.15);\n",
              "      fill: #174EA6;\n",
              "    }\n",
              "\n",
              "    [theme=dark] .colab-df-convert {\n",
              "      background-color: #3B4455;\n",
              "      fill: #D2E3FC;\n",
              "    }\n",
              "\n",
              "    [theme=dark] .colab-df-convert:hover {\n",
              "      background-color: #434B5C;\n",
              "      box-shadow: 0px 1px 3px 1px rgba(0, 0, 0, 0.15);\n",
              "      filter: drop-shadow(0px 1px 2px rgba(0, 0, 0, 0.3));\n",
              "      fill: #FFFFFF;\n",
              "    }\n",
              "  </style>\n",
              "\n",
              "      <script>\n",
              "        const buttonEl =\n",
              "          document.querySelector('#df-5219220c-9aea-4e06-bb43-50f5ffbe99db button.colab-df-convert');\n",
              "        buttonEl.style.display =\n",
              "          google.colab.kernel.accessAllowed ? 'block' : 'none';\n",
              "\n",
              "        async function convertToInteractive(key) {\n",
              "          const element = document.querySelector('#df-5219220c-9aea-4e06-bb43-50f5ffbe99db');\n",
              "          const dataTable =\n",
              "            await google.colab.kernel.invokeFunction('convertToInteractive',\n",
              "                                                     [key], {});\n",
              "          if (!dataTable) return;\n",
              "\n",
              "          const docLinkHtml = 'Like what you see? Visit the ' +\n",
              "            '<a target=\"_blank\" href=https://colab.research.google.com/notebooks/data_table.ipynb>data table notebook</a>'\n",
              "            + ' to learn more about interactive tables.';\n",
              "          element.innerHTML = '';\n",
              "          dataTable['output_type'] = 'display_data';\n",
              "          await google.colab.output.renderOutput(dataTable, element);\n",
              "          const docLink = document.createElement('div');\n",
              "          docLink.innerHTML = docLinkHtml;\n",
              "          element.appendChild(docLink);\n",
              "        }\n",
              "      </script>\n",
              "    </div>\n",
              "  </div>\n",
              "  "
            ]
          },
          "metadata": {},
          "execution_count": 82
        }
      ]
    }
  ]
}