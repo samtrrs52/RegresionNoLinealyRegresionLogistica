{
  "nbformat": 4,
  "nbformat_minor": 0,
  "metadata": {
    "colab": {
      "provenance": [],
      "include_colab_link": true
    },
    "kernelspec": {
      "name": "python3",
      "display_name": "Python 3"
    },
    "language_info": {
      "name": "python"
    }
  },
  "cells": [
    {
      "cell_type": "markdown",
      "metadata": {
        "id": "view-in-github",
        "colab_type": "text"
      },
      "source": [
        "<a href=\"https://colab.research.google.com/github/samtrrs52/RegresionNoLinealyRegresionLogistica/blob/main/Actividad_7_2.ipynb\" target=\"_parent\"><img src=\"https://colab.research.google.com/assets/colab-badge.svg\" alt=\"Open In Colab\"/></a>"
      ]
    },
    {
      "cell_type": "markdown",
      "source": [
        "# **Actividad 7.2 (Regresión Logística)**\n",
        "\n",
        "### **Integrantes**: EQUIPO 6\n",
        "* Said Arturo Flores Nieto A01703477\n",
        "* José Samuel Torres Pacheco A01707617\n",
        "* María Fernanda Hernández Elizarraga A01706592\n",
        "* Paola Plascencia Rey A01707495\n"
      ],
      "metadata": {
        "id": "DokXf9bF2kpO"
      }
    },
    {
      "cell_type": "code",
      "source": [
        "import pandas as pd\n",
        "import numpy as np\n",
        "import matplotlib.pyplot as plt\n",
        "import scipy.special as special\n",
        "from scipy.optimize import curve_fit\n",
        "import seaborn as sns\n",
        "from sklearn.metrics import r2_score\n",
        "from sklearn.model_selection import train_test_split\n",
        "from sklearn.preprocessing import StandardScaler"
      ],
      "metadata": {
        "id": "_orzxli96PLD"
      },
      "execution_count": null,
      "outputs": []
    },
    {
      "cell_type": "code",
      "execution_count": null,
      "metadata": {
        "id": "tn7DwXb657GC"
      },
      "outputs": [],
      "source": [
        "gyc20 = pd.read_excel(\"Gastos y costos 20-23.xlsx\", sheet_name = '2020', index_col = 2, header = 5)\n",
        "gyc21 = pd.read_excel(\"Gastos y costos 20-23.xlsx\", sheet_name = '2021', index_col = 2, header = 3)\n",
        "gyc22 = pd.read_excel(\"Gastos y costos 20-23.xlsx\", sheet_name = '2022', index_col = 2, header = 3)\n",
        "gyc23 = pd.read_excel(\"Gastos y costos 20-23.xlsx\", sheet_name = '2023', index_col = 2, header = 3)"
      ]
    },
    {
      "cell_type": "markdown",
      "source": [
        "#**DATOS**"
      ],
      "metadata": {
        "id": "U-xjeRSCsJPw"
      }
    },
    {
      "cell_type": "code",
      "source": [
        "print(\"\\033[1m\" + \"\\n DATOS NULOS DE GASTOS Y COSTOS 2020: \" + str(len(gyc20)) + \"\\033[0m\")\n",
        "print(len(gyc20)-gyc20.count())\n",
        "print(\"\\033[1m\" + \"\\n DATOS NULOS DE GASTOS Y COSTOS 2021: \" + str(len(gyc21)) + \"\\033[0m\")\n",
        "print(len(gyc21)-gyc21.count())\n",
        "print(\"\\033[1m\" + \"\\n DATOS NULOS DE GASTOS Y COSTOS 2022: \" + str(len(gyc22)) + \"\\033[0m\")\n",
        "print(len(gyc22)-gyc22.count())\n",
        "print(\"\\033[1m\" + \"\\n DATOS NULOS DE GASTOS Y COSTOS 2023: \" + str(len(gyc23)) + \"\\033[0m\")\n",
        "print(len(gyc23)-gyc23.count())"
      ],
      "metadata": {
        "colab": {
          "base_uri": "https://localhost:8080/"
        },
        "id": "ck-oTjV76jkq",
        "outputId": "f2f2989b-50df-4268-a39c-ac7e0bb400fc"
      },
      "execution_count": null,
      "outputs": [
        {
          "output_type": "stream",
          "name": "stdout",
          "text": [
            "\u001b[1m\n",
            " DATOS NULOS DE GASTOS Y COSTOS 2020: 3342\u001b[0m\n",
            "FECHA             0\n",
            "FOLIO           189\n",
            "RFC               0\n",
            "PROVEEDOR         0\n",
            "TIPO GASTO        0\n",
            "GASTO          2502\n",
            "DESCRIPCION       0\n",
            "TC              391\n",
            "IMPORTE          34\n",
            "IVA             268\n",
            "RET ISR           0\n",
            "RET IVA           0\n",
            "TOTAL MX          0\n",
            "TOTAL SAT         0\n",
            "TIPO              1\n",
            "STATUS            0\n",
            "POLIZA         3321\n",
            "Columna1          0\n",
            "dtype: int64\n",
            "\u001b[1m\n",
            " DATOS NULOS DE GASTOS Y COSTOS 2021: 3035\u001b[0m\n",
            "FECHA             0\n",
            "FOLIO           147\n",
            "RFC               0\n",
            "PROVEEDOR         0\n",
            "TIPO GASTO        0\n",
            "DESCRIPCION       0\n",
            "MP              654\n",
            "TC                0\n",
            "IMPORTE           0\n",
            "IVA               0\n",
            "RET ISR           0\n",
            "RET IVA           0\n",
            "TOTAL MX          0\n",
            "TOTAL SAT         0\n",
            "TIPO              0\n",
            "STATUS            0\n",
            "POLIZA         2372\n",
            "dtype: int64\n",
            "\u001b[1m\n",
            " DATOS NULOS DE GASTOS Y COSTOS 2022: 2577\u001b[0m\n",
            "Fecha             0\n",
            "Folio           102\n",
            "RFC               0\n",
            "Proveedor         0\n",
            "TIPO GASTO        0\n",
            "Descripción       0\n",
            "MP              553\n",
            "TC              636\n",
            "Importe           0\n",
            "IVA               0\n",
            "RET ISR           0\n",
            "RET IVA           0\n",
            "Otros          2577\n",
            "TOTAL MX          0\n",
            "TOTAL SAT         0\n",
            "Tipo              0\n",
            "Status            0\n",
            "Poliza          801\n",
            "dtype: int64\n",
            "\u001b[1m\n",
            " DATOS NULOS DE GASTOS Y COSTOS 2023: 397\u001b[0m\n",
            "Fecha            0\n",
            "Folio           13\n",
            "RFC              0\n",
            "Proveedor        0\n",
            "TIPO GASTO       8\n",
            "Descripción      0\n",
            "MP              71\n",
            "FP              71\n",
            "TC               0\n",
            "Importe          0\n",
            "IVA              0\n",
            "RET ISR          0\n",
            "RET IVA          0\n",
            "Otros          397\n",
            "TOTAL MX         0\n",
            "TOTAL SAT        0\n",
            "Tipo             0\n",
            "Status           0\n",
            "Poliza         115\n",
            "dtype: int64\n"
          ]
        }
      ]
    },
    {
      "cell_type": "code",
      "source": [
        "gyc20['FOLIO'] = gyc20['FOLIO'].fillna('--')\n",
        "gyc20['TC'] = gyc20['TC'].fillna('--')\n",
        "gyc20['POLIZA'] = gyc20['POLIZA'].fillna('--')\n",
        "gyc20['TIPO'] = gyc20['TIPO'].fillna('--')\n",
        "gyc20[['IMPORTE', 'IVA', 'GASTO']] = gyc20[['IMPORTE', 'IVA','GASTO']].fillna(0)\n",
        "\n",
        "gyc21 = gyc21.fillna('--')\n",
        "gyc22 = gyc22.fillna('--')\n",
        "gyc23 = gyc23.fillna('--')"
      ],
      "metadata": {
        "id": "UKmpJtzA6nI0"
      },
      "execution_count": null,
      "outputs": []
    },
    {
      "cell_type": "code",
      "source": [
        "print(\"\\033[1m\" + \"\\n DATOS NULOS DE GASTOS Y COSTOS 2020: \" + str(len(gyc20)) + \"\\033[0m\")\n",
        "print(len(gyc20)-gyc20.count())\n",
        "print(\"\\033[1m\" + \"\\n DATOS NULOS DE GASTOS Y COSTOS 2021: \" + str(len(gyc21)) + \"\\033[0m\")\n",
        "print(len(gyc21)-gyc21.count())\n",
        "print(\"\\033[1m\" + \"\\n DATOS NULOS DE GASTOS Y COSTOS 2022: \" + str(len(gyc22)) + \"\\033[0m\")\n",
        "print(len(gyc22)-gyc22.count())\n",
        "print(\"\\033[1m\" + \"\\n DATOS NULOS DE GASTOS Y COSTOS 2023: \" + str(len(gyc23)) + \"\\033[0m\")\n",
        "print(len(gyc23)-gyc23.count())"
      ],
      "metadata": {
        "colab": {
          "base_uri": "https://localhost:8080/"
        },
        "id": "pE8Yi90y6v1a",
        "outputId": "32feddb6-0ead-41fc-f034-e8ec674f5252"
      },
      "execution_count": null,
      "outputs": [
        {
          "output_type": "stream",
          "name": "stdout",
          "text": [
            "\u001b[1m\n",
            " DATOS NULOS DE GASTOS Y COSTOS 2020: 3342\u001b[0m\n",
            "FECHA          0\n",
            "FOLIO          0\n",
            "RFC            0\n",
            "PROVEEDOR      0\n",
            "TIPO GASTO     0\n",
            "GASTO          0\n",
            "DESCRIPCION    0\n",
            "TC             0\n",
            "IMPORTE        0\n",
            "IVA            0\n",
            "RET ISR        0\n",
            "RET IVA        0\n",
            "TOTAL MX       0\n",
            "TOTAL SAT      0\n",
            "TIPO           0\n",
            "STATUS         0\n",
            "POLIZA         0\n",
            "Columna1       0\n",
            "dtype: int64\n",
            "\u001b[1m\n",
            " DATOS NULOS DE GASTOS Y COSTOS 2021: 3035\u001b[0m\n",
            "FECHA          0\n",
            "FOLIO          0\n",
            "RFC            0\n",
            "PROVEEDOR      0\n",
            "TIPO GASTO     0\n",
            "DESCRIPCION    0\n",
            "MP             0\n",
            "TC             0\n",
            "IMPORTE        0\n",
            "IVA            0\n",
            "RET ISR        0\n",
            "RET IVA        0\n",
            "TOTAL MX       0\n",
            "TOTAL SAT      0\n",
            "TIPO           0\n",
            "STATUS         0\n",
            "POLIZA         0\n",
            "dtype: int64\n",
            "\u001b[1m\n",
            " DATOS NULOS DE GASTOS Y COSTOS 2022: 2577\u001b[0m\n",
            "Fecha          0\n",
            "Folio          0\n",
            "RFC            0\n",
            "Proveedor      0\n",
            "TIPO GASTO     0\n",
            "Descripción    0\n",
            "MP             0\n",
            "TC             0\n",
            "Importe        0\n",
            "IVA            0\n",
            "RET ISR        0\n",
            "RET IVA        0\n",
            "Otros          0\n",
            "TOTAL MX       0\n",
            "TOTAL SAT      0\n",
            "Tipo           0\n",
            "Status         0\n",
            "Poliza         0\n",
            "dtype: int64\n",
            "\u001b[1m\n",
            " DATOS NULOS DE GASTOS Y COSTOS 2023: 397\u001b[0m\n",
            "Fecha          0\n",
            "Folio          0\n",
            "RFC            0\n",
            "Proveedor      0\n",
            "TIPO GASTO     0\n",
            "Descripción    0\n",
            "MP             0\n",
            "FP             0\n",
            "TC             0\n",
            "Importe        0\n",
            "IVA            0\n",
            "RET ISR        0\n",
            "RET IVA        0\n",
            "Otros          0\n",
            "TOTAL MX       0\n",
            "TOTAL SAT      0\n",
            "Tipo           0\n",
            "Status         0\n",
            "Poliza         0\n",
            "dtype: int64\n"
          ]
        }
      ]
    },
    {
      "cell_type": "markdown",
      "source": [
        "#**REPLACE**"
      ],
      "metadata": {
        "id": "Nl4hjprlsP5U"
      }
    },
    {
      "cell_type": "code",
      "source": [
        "gyc20['TIPO GASTO'].unique()"
      ],
      "metadata": {
        "colab": {
          "base_uri": "https://localhost:8080/"
        },
        "id": "6LqIsJ-amJXJ",
        "outputId": "8ba1fa1c-36e4-4850-aafe-5a04efc62037"
      },
      "execution_count": null,
      "outputs": [
        {
          "output_type": "execute_result",
          "data": {
            "text/plain": [
              "array(['MAQUINARIA', 'COMISION BANCARIA', 'HONORARIOS CONTABLES',\n",
              "       'COMPRAS', 'MAQUILAS GIC', 'PAPELERIA', 'MTTO COMPUTO',\n",
              "       'ARRENDAMIENTO FINANCIERO', 'NO DEDUCIBLE', 'TELEFONO',\n",
              "       'MTTO LOCAL', 'PAQUETERIA', 'CAPACITACION', 'COMBUSTIBLE',\n",
              "       'REPARACIONES ELECTRICAS', 'ENERGIA ELECTRICA', 'DERECHOS',\n",
              "       'SEGUROS', 'CALIBRACIONES', 'TRANSPORTE', 'PEAJES', 'HOSPEDAJE',\n",
              "       'IMSS/INFONAVIT', 'COMISION VENTA', 'HONORARIOS ADMON',\n",
              "       'GERENCIA VTAS', 'VALES DESPENSA', 'UNIFORME', 'ALIMENTOS',\n",
              "       'ARRENDAMIENTO LOCAL', 'GERENCIA ADMON', 'SUSCRIPCIONES',\n",
              "       'MOBILIARIO', 'SUBCONTRATOS', 'MTTO TRANSPORTE', 'MEDICOS',\n",
              "       'PUBLICIDAD', 'FLETES', 'HONORARIOS PM', 'MENSAJERIA',\n",
              "       'ATENCION CLIENTES', 'SERV FUNERARIO '], dtype=object)"
            ]
          },
          "metadata": {},
          "execution_count": 665
        }
      ]
    },
    {
      "cell_type": "code",
      "source": [
        "gyc20['TIPO GASTO'] = gyc20['TIPO GASTO'].replace(['MAQUINARIA', 'COMISION BANCARIA', 'HONORARIOS CONTABLES',\n",
        "       'MAQUILAS GIC', 'PAPELERIA', 'MTTO COMPUTO',\n",
        "       'ARRENDAMIENTO FINANCIERO', 'NO DEDUCIBLE', 'TELEFONO',\n",
        "       'MTTO LOCAL', 'PAQUETERIA', 'CAPACITACION', 'COMBUSTIBLE',\n",
        "       'REPARACIONES ELECTRICAS', 'ENERGIA ELECTRICA', 'DERECHOS',\n",
        "       'SEGUROS', 'CALIBRACIONES', 'TRANSPORTE', 'PEAJES', 'HOSPEDAJE',\n",
        "       'IMSS/INFONAVIT', 'COMISION VENTA', 'HONORARIOS ADMON',\n",
        "       'GERENCIA VTAS', 'VALES DESPENSA', 'UNIFORME', 'ALIMENTOS',\n",
        "       'ARRENDAMIENTO LOCAL', 'GERENCIA ADMON', 'SUSCRIPCIONES',\n",
        "       'MOBILIARIO', 'SUBCONTRATOS', 'MTTO TRANSPORTE', 'MEDICOS',\n",
        "       'PUBLICIDAD', 'FLETES', 'HONORARIOS PM', 'MENSAJERIA',\n",
        "       'ATENCION CLIENTES', 'SERV FUNERARIO '], \"OTRAS COMPRAS\")"
      ],
      "metadata": {
        "id": "77x6FpgNnc_-"
      },
      "execution_count": null,
      "outputs": []
    },
    {
      "cell_type": "code",
      "source": [
        "gyc20['TIPO GASTO'].value_counts()"
      ],
      "metadata": {
        "colab": {
          "base_uri": "https://localhost:8080/"
        },
        "id": "Duq0qQZXlv4t",
        "outputId": "4d834685-7e5e-46a7-f7dd-226a8d429a47"
      },
      "execution_count": null,
      "outputs": [
        {
          "output_type": "execute_result",
          "data": {
            "text/plain": [
              "OTRAS COMPRAS    1871\n",
              "COMPRAS          1471\n",
              "Name: TIPO GASTO, dtype: int64"
            ]
          },
          "metadata": {},
          "execution_count": 667
        }
      ]
    },
    {
      "cell_type": "code",
      "source": [
        "gyc21['TIPO GASTO'].unique()"
      ],
      "metadata": {
        "colab": {
          "base_uri": "https://localhost:8080/"
        },
        "id": "nCgblm16n590",
        "outputId": "da990bf6-c37d-4ccb-eee0-7bec1b6a4b8f"
      },
      "execution_count": null,
      "outputs": [
        {
          "output_type": "execute_result",
          "data": {
            "text/plain": [
              "array(['COMISION BANCARIA', 'COMPRAS', 'ARRENDAMIENTO FINANCIERO',\n",
              "       'NO DEDUCIBLE', 'PAQUETERIA', 'MTTO COMPUTO', 'TELEFONO',\n",
              "       'ALIMENTOS', 'MTTO LOCAL', 'MONITOREO CAMARAS ADT',\n",
              "       'SUELDOS VENTAS', 'SUELDOS PRODUCCION', 'HONORARIOS CONTABLES',\n",
              "       'GASOLINA', 'FLETES', 'PAPELERIA', 'MEDICOS', 'ENERGIA ELECTRICA',\n",
              "       'SUELDOS DIRECCION', 'CAPACITACION', 'SEGUROS', 'MAQUILAS',\n",
              "       'RENTA COPIADORA', 'GERENCIA ADMON', 'SUSCRIPCIONES',\n",
              "       'SANITIZACION', 'UNIFORME', 'DERECHOS', 'IMSS/INFONAVIT',\n",
              "       'TRANSPORTE', 'PEAJES', 'VALES DESPENSA', 'GERENCIA VTAS',\n",
              "       'MTTO MAQUINARIA', 'CALIBRACIONES', 'MENSAJERIA', 'MAQUILAS GIC',\n",
              "       'MTTO TRANSPORTE', 'HONORARIOS PF', 'COMPRAS ', 'HONORARIOS PM',\n",
              "       'MAQUINARIA', 'ARRENDAMIENTO LOCAL', 'HONORARIOS JURIDICOS',\n",
              "       'COMISION MIXTA', 'HOSPEDAJE', 'PUBLICIDAD', 'FLETE', 'BOTIQUIN',\n",
              "       'RENTA OFICINA ', 'GASTOS IMPORTACION ', 'COMPRA COMPUTADORA ',\n",
              "       'HOSPEDAJE ', 'COMBUSTIBLE ', 'COMPRA TABLET ', 'MTTO OFICINA '],\n",
              "      dtype=object)"
            ]
          },
          "metadata": {},
          "execution_count": 668
        }
      ]
    },
    {
      "cell_type": "code",
      "source": [
        "gyc21['TIPO GASTO'] = gyc21['TIPO GASTO'].replace(['COMPRAS '], \"COMPRAS\")\n",
        "gyc21['TIPO GASTO'] = gyc21['TIPO GASTO'].replace(['COMISION BANCARIA', 'ARRENDAMIENTO FINANCIERO',\n",
        "       'NO DEDUCIBLE', 'PAQUETERIA', 'MTTO COMPUTO', 'TELEFONO',\n",
        "       'ALIMENTOS', 'MTTO LOCAL', 'MONITOREO CAMARAS ADT',\n",
        "       'SUELDOS VENTAS', 'SUELDOS PRODUCCION', 'HONORARIOS CONTABLES',\n",
        "       'GASOLINA', 'FLETES', 'PAPELERIA', 'MEDICOS', 'ENERGIA ELECTRICA',\n",
        "       'SUELDOS DIRECCION', 'CAPACITACION', 'SEGUROS', 'MAQUILAS',\n",
        "       'RENTA COPIADORA', 'GERENCIA ADMON', 'SUSCRIPCIONES',\n",
        "       'SANITIZACION', 'UNIFORME', 'DERECHOS', 'IMSS/INFONAVIT',\n",
        "       'TRANSPORTE', 'PEAJES', 'VALES DESPENSA', 'GERENCIA VTAS',\n",
        "       'MTTO MAQUINARIA', 'CALIBRACIONES', 'MENSAJERIA', 'MAQUILAS GIC',\n",
        "       'MTTO TRANSPORTE', 'HONORARIOS PF', 'HONORARIOS PM',\n",
        "       'MAQUINARIA', 'ARRENDAMIENTO LOCAL', 'HONORARIOS JURIDICOS',\n",
        "       'COMISION MIXTA', 'HOSPEDAJE', 'PUBLICIDAD', 'FLETE', 'BOTIQUIN',\n",
        "       'RENTA OFICINA ', 'GASTOS IMPORTACION ', 'COMPRA COMPUTADORA ',\n",
        "       'HOSPEDAJE ', 'COMBUSTIBLE ', 'COMPRA TABLET ', 'MTTO OFICINA '], \"OTRAS COMPRAS\")"
      ],
      "metadata": {
        "id": "OfjCn-b4ngFo"
      },
      "execution_count": null,
      "outputs": []
    },
    {
      "cell_type": "code",
      "source": [
        "gyc21['TIPO GASTO'].value_counts()"
      ],
      "metadata": {
        "colab": {
          "base_uri": "https://localhost:8080/"
        },
        "id": "6BZMJGVfl1xu",
        "outputId": "7154a92b-c431-4e3e-9a37-3ecefa73611d"
      },
      "execution_count": null,
      "outputs": [
        {
          "output_type": "execute_result",
          "data": {
            "text/plain": [
              "COMPRAS          1531\n",
              "OTRAS COMPRAS    1504\n",
              "Name: TIPO GASTO, dtype: int64"
            ]
          },
          "metadata": {},
          "execution_count": 670
        }
      ]
    },
    {
      "cell_type": "code",
      "source": [
        "gyc22['TIPO GASTO'].unique()"
      ],
      "metadata": {
        "colab": {
          "base_uri": "https://localhost:8080/"
        },
        "id": "_5HQ3Lk-oHHR",
        "outputId": "f73f60e1-e311-49d4-9186-9e31fc148660"
      },
      "execution_count": null,
      "outputs": [
        {
          "output_type": "execute_result",
          "data": {
            "text/plain": [
              "array(['ARRENDAMIENTO FINANCIERO', 'COMISION BANCARIA', 'COMPRAS',\n",
              "       'MTTO COMPUTO', 'ALIMENTOS', 'NO DEDUCIBLE',\n",
              "       'HONORARIOS CONTABLES', 'CAPACITACION', 'HONORARIOS JURIDICOS',\n",
              "       'COMISION MIXTA', 'GASOLINA', 'MONITOREO CAMARAS ADT',\n",
              "       'ARRENDAMIENTO LOCAL', 'MEDICOS', 'GASTOS IMPORTACION ',\n",
              "       'RENTA COPIADORA', 'MTTO MAQUINARIA', 'TELEFONO', 'DERECHOS',\n",
              "       'SUELDOS DIRECCION', 'SUSCRIPCIONES', 'SEGUROS',\n",
              "       'ENERGIA ELECTRICA', 'MTTO OFICINA ', 'GERENCIA ADMON',\n",
              "       'MTTO LOCAL', 'INSTALACION ELECTRICA', 'PAPELERIA', 'PAQUETERIA',\n",
              "       'HOSPEDAJE', 'IMSS/INFONAVIT', 'MENSAJERIA', 'MAQUINARIA',\n",
              "       'SUBCONTRATOS', 'CASETAS', 'PEAJES', 'TRANSPORTE', 'PUBLICIDAD',\n",
              "       'UNIFORMES', 'ANTICIPO COMPRA AUTO', 'MTTO TRANSPORTE',\n",
              "       'COMPRA AUTO ', 'CREDITO ', 'ANTICIPO ', 'COMPRAS ',\n",
              "       'MTTO EQUIPO COMPUTO', 'HONORARIOS PM', 'CALIBRACIONES',\n",
              "       'RENTA AUTO', 'MAQUILAS', 'SANITIZACION', 'VALES DESPENSA',\n",
              "       'FLETE', 'VARIOS'], dtype=object)"
            ]
          },
          "metadata": {},
          "execution_count": 671
        }
      ]
    },
    {
      "cell_type": "code",
      "source": [
        "gyc22['TIPO GASTO'] = gyc22['TIPO GASTO'].replace(['COMPRAS '], \"COMPRAS\")\n",
        "gyc22['TIPO GASTO'] = gyc22['TIPO GASTO'].replace(['ARRENDAMIENTO FINANCIERO', 'COMISION BANCARIA',\n",
        "       'MTTO COMPUTO', 'ALIMENTOS', 'NO DEDUCIBLE',\n",
        "       'HONORARIOS CONTABLES', 'CAPACITACION', 'HONORARIOS JURIDICOS',\n",
        "       'COMISION MIXTA', 'GASOLINA', 'MONITOREO CAMARAS ADT',\n",
        "       'ARRENDAMIENTO LOCAL', 'MEDICOS', 'GASTOS IMPORTACION ',\n",
        "       'RENTA COPIADORA', 'MTTO MAQUINARIA', 'TELEFONO', 'DERECHOS',\n",
        "       'SUELDOS DIRECCION', 'SUSCRIPCIONES', 'SEGUROS',\n",
        "       'ENERGIA ELECTRICA', 'MTTO OFICINA ', 'GERENCIA ADMON',\n",
        "       'MTTO LOCAL', 'INSTALACION ELECTRICA', 'PAPELERIA', 'PAQUETERIA',\n",
        "       'HOSPEDAJE', 'IMSS/INFONAVIT', 'MENSAJERIA', 'MAQUINARIA',\n",
        "       'SUBCONTRATOS', 'CASETAS', 'PEAJES', 'TRANSPORTE', 'PUBLICIDAD',\n",
        "       'UNIFORMES', 'ANTICIPO COMPRA AUTO', 'MTTO TRANSPORTE',\n",
        "       'COMPRA AUTO ', 'CREDITO ', 'ANTICIPO ',\n",
        "       'MTTO EQUIPO COMPUTO', 'HONORARIOS PM', 'CALIBRACIONES',\n",
        "       'RENTA AUTO', 'MAQUILAS', 'SANITIZACION', 'VALES DESPENSA',\n",
        "       'FLETE', 'VARIOS'], \"OTRAS COMPRAS\")"
      ],
      "metadata": {
        "id": "MDIKUs4lnj0P"
      },
      "execution_count": null,
      "outputs": []
    },
    {
      "cell_type": "code",
      "source": [
        "gyc22['TIPO GASTO'].value_counts()"
      ],
      "metadata": {
        "colab": {
          "base_uri": "https://localhost:8080/"
        },
        "id": "U_Y_x2CGl1mC",
        "outputId": "75101f64-4cbc-456f-fd50-bbe342d44885"
      },
      "execution_count": null,
      "outputs": [
        {
          "output_type": "execute_result",
          "data": {
            "text/plain": [
              "OTRAS COMPRAS    1363\n",
              "COMPRAS          1214\n",
              "Name: TIPO GASTO, dtype: int64"
            ]
          },
          "metadata": {},
          "execution_count": 673
        }
      ]
    },
    {
      "cell_type": "code",
      "source": [
        "gyc23['TIPO GASTO'].unique()"
      ],
      "metadata": {
        "colab": {
          "base_uri": "https://localhost:8080/"
        },
        "id": "2z33Blg8oSTx",
        "outputId": "6a1fe334-6e7b-40ee-e5f4-5c37eca29a91"
      },
      "execution_count": null,
      "outputs": [
        {
          "output_type": "execute_result",
          "data": {
            "text/plain": [
              "array(['COMPRAS', 'ARRENDAMIENTO FINANCIERO', 'COMISION BANCARIA',\n",
              "       'CAPACITACION', 'SEGUROS', 'NO DEDUCIBLE', 'PUBLICIDAD',\n",
              "       'TELEFONO', 'MTTO COMPUTO', 'COMISION MIXTA', 'HONORARIOS PM',\n",
              "       'UNIFORMES', 'MONITOREO CAMARAS ADT', 'COMPRAS ', 'MENSAJERIA',\n",
              "       'HONORARIOS CONTABLES', 'PAQUETERIA', 'ALIMENTOS',\n",
              "       'MTTO TRANSPORTE', 'VARIOS', 'GERENCIA ADMON', 'DERECHOS',\n",
              "       'RENTA COPIADORA', 'SUSCRIPCIONES', 'GASOLINA', 'MTTO LOCAL',\n",
              "       'CREDITO ', 'MAQUINARIA', 'PAPELERIA', 'IMSS/INFONAVIT',\n",
              "       'SUELDOS DIRECCION', 'MTTO MAQUINARIA', 'VALES DESPENSA',\n",
              "       'MTTO OFICINA ', 'MTT OFICINA', '--', 'RENTA AUTO', 'FLETES'],\n",
              "      dtype=object)"
            ]
          },
          "metadata": {},
          "execution_count": 674
        }
      ]
    },
    {
      "cell_type": "code",
      "source": [
        "gyc23['TIPO GASTO'] = gyc23['TIPO GASTO'].replace(['COMPRAS '], \"COMPRAS\")\n",
        "gyc23['TIPO GASTO'] = gyc23['TIPO GASTO'].replace(['ARRENDAMIENTO FINANCIERO', 'COMISION BANCARIA',\n",
        "       'CAPACITACION', 'SEGUROS', 'NO DEDUCIBLE', 'PUBLICIDAD',\n",
        "       'TELEFONO', 'MTTO COMPUTO', 'COMISION MIXTA', 'HONORARIOS PM',\n",
        "       'UNIFORMES', 'MONITOREO CAMARAS ADT', 'MENSAJERIA',\n",
        "       'HONORARIOS CONTABLES', 'PAQUETERIA', 'ALIMENTOS',\n",
        "       'MTTO TRANSPORTE', 'VARIOS', 'GERENCIA ADMON', 'DERECHOS',\n",
        "       'RENTA COPIADORA', 'SUSCRIPCIONES', 'GASOLINA', 'MTTO LOCAL',\n",
        "       'CREDITO ', 'MAQUINARIA', 'PAPELERIA', 'IMSS/INFONAVIT',\n",
        "       'SUELDOS DIRECCION', 'MTTO MAQUINARIA', 'VALES DESPENSA',\n",
        "       'MTTO OFICINA ', 'MTT OFICINA', '--', 'RENTA AUTO', 'FLETES'], \"OTRAS COMPRAS\")"
      ],
      "metadata": {
        "id": "A_khR0BmUUpF"
      },
      "execution_count": null,
      "outputs": []
    },
    {
      "cell_type": "code",
      "source": [
        "gyc23['TIPO GASTO'].value_counts()"
      ],
      "metadata": {
        "colab": {
          "base_uri": "https://localhost:8080/"
        },
        "id": "Cz1tHhsnl1b1",
        "outputId": "b4cd39be-5198-46be-9e95-adbf6d91756b"
      },
      "execution_count": null,
      "outputs": [
        {
          "output_type": "execute_result",
          "data": {
            "text/plain": [
              "COMPRAS          205\n",
              "OTRAS COMPRAS    192\n",
              "Name: TIPO GASTO, dtype: int64"
            ]
          },
          "metadata": {},
          "execution_count": 676
        }
      ]
    },
    {
      "cell_type": "code",
      "source": [
        "pres = []\n",
        "exa = []\n",
        "sen = []\n",
        "nom= []"
      ],
      "metadata": {
        "id": "obQS6NuHpyXx"
      },
      "execution_count": null,
      "outputs": []
    },
    {
      "cell_type": "markdown",
      "source": [
        "#**2020**"
      ],
      "metadata": {
        "id": "z2qadGilZENW"
      }
    },
    {
      "cell_type": "code",
      "source": [
        "#Declaramos las variables dependientes e independientes para la regresión Logística\n",
        "Vars_Indep= gyc20[['TOTAL MX']]\n",
        "Var_Dep= gyc20['TIPO GASTO']"
      ],
      "metadata": {
        "id": "Rhgn2cqdXEc_"
      },
      "execution_count": null,
      "outputs": []
    },
    {
      "cell_type": "code",
      "source": [
        "Var_Dep.describe()"
      ],
      "metadata": {
        "colab": {
          "base_uri": "https://localhost:8080/"
        },
        "id": "zP80zH2SzXiq",
        "outputId": "d5b7a1b7-71fa-47ec-eb7f-0e917176cf6b"
      },
      "execution_count": null,
      "outputs": [
        {
          "output_type": "execute_result",
          "data": {
            "text/plain": [
              "count              3342\n",
              "unique                2\n",
              "top       OTRAS COMPRAS\n",
              "freq               1871\n",
              "Name: TIPO GASTO, dtype: object"
            ]
          },
          "metadata": {},
          "execution_count": 679
        }
      ]
    },
    {
      "cell_type": "code",
      "source": [
        "#Redefinimos las variables \n",
        "X= Vars_Indep\n",
        "y= Var_Dep"
      ],
      "metadata": {
        "id": "xb6ar0DZZCgU"
      },
      "execution_count": null,
      "outputs": []
    },
    {
      "cell_type": "code",
      "source": [
        "#Dividimos el conjunto de datos en la parte de entrenamiento y prueba:\n",
        "X_train, X_test, y_train, y_test = train_test_split(X, y, test_size=0.3, random_state =21)"
      ],
      "metadata": {
        "id": "GNvZg3qHZI5Y"
      },
      "execution_count": null,
      "outputs": []
    },
    {
      "cell_type": "code",
      "source": [
        "#Se escalan todos los datos\n",
        "escalar = StandardScaler()"
      ],
      "metadata": {
        "id": "srN8sUANd07L"
      },
      "execution_count": null,
      "outputs": []
    },
    {
      "cell_type": "code",
      "source": [
        "#Para realizar el escalamiento de las variables “X” tanto de entrenamiento como de prueba, utilizaremos fit_transform\n",
        "X_train = escalar.fit_transform(X_train)\n",
        "X_test = escalar.transform(X_test)"
      ],
      "metadata": {
        "id": "mpqE9m2zd3fB"
      },
      "execution_count": null,
      "outputs": []
    },
    {
      "cell_type": "code",
      "source": [
        "#Definimos el algoritmo a utilizar\n",
        "from sklearn.linear_model import LogisticRegression\n",
        "algoritmo = LogisticRegression(class_weight='balanced')"
      ],
      "metadata": {
        "id": "FfJEi3Nfd57T"
      },
      "execution_count": null,
      "outputs": []
    },
    {
      "cell_type": "code",
      "source": [
        "#Entrenamos el modelo\n",
        "algoritmo.fit(X_train, y_train)"
      ],
      "metadata": {
        "colab": {
          "base_uri": "https://localhost:8080/"
        },
        "id": "PkWWW7udd79h",
        "outputId": "39878a5e-378c-4f8e-ea7b-b62098b8d296"
      },
      "execution_count": null,
      "outputs": [
        {
          "output_type": "execute_result",
          "data": {
            "text/plain": [
              "LogisticRegression(class_weight='balanced')"
            ],
            "text/html": [
              "<style>#sk-container-id-45 {color: black;background-color: white;}#sk-container-id-45 pre{padding: 0;}#sk-container-id-45 div.sk-toggleable {background-color: white;}#sk-container-id-45 label.sk-toggleable__label {cursor: pointer;display: block;width: 100%;margin-bottom: 0;padding: 0.3em;box-sizing: border-box;text-align: center;}#sk-container-id-45 label.sk-toggleable__label-arrow:before {content: \"▸\";float: left;margin-right: 0.25em;color: #696969;}#sk-container-id-45 label.sk-toggleable__label-arrow:hover:before {color: black;}#sk-container-id-45 div.sk-estimator:hover label.sk-toggleable__label-arrow:before {color: black;}#sk-container-id-45 div.sk-toggleable__content {max-height: 0;max-width: 0;overflow: hidden;text-align: left;background-color: #f0f8ff;}#sk-container-id-45 div.sk-toggleable__content pre {margin: 0.2em;color: black;border-radius: 0.25em;background-color: #f0f8ff;}#sk-container-id-45 input.sk-toggleable__control:checked~div.sk-toggleable__content {max-height: 200px;max-width: 100%;overflow: auto;}#sk-container-id-45 input.sk-toggleable__control:checked~label.sk-toggleable__label-arrow:before {content: \"▾\";}#sk-container-id-45 div.sk-estimator input.sk-toggleable__control:checked~label.sk-toggleable__label {background-color: #d4ebff;}#sk-container-id-45 div.sk-label input.sk-toggleable__control:checked~label.sk-toggleable__label {background-color: #d4ebff;}#sk-container-id-45 input.sk-hidden--visually {border: 0;clip: rect(1px 1px 1px 1px);clip: rect(1px, 1px, 1px, 1px);height: 1px;margin: -1px;overflow: hidden;padding: 0;position: absolute;width: 1px;}#sk-container-id-45 div.sk-estimator {font-family: monospace;background-color: #f0f8ff;border: 1px dotted black;border-radius: 0.25em;box-sizing: border-box;margin-bottom: 0.5em;}#sk-container-id-45 div.sk-estimator:hover {background-color: #d4ebff;}#sk-container-id-45 div.sk-parallel-item::after {content: \"\";width: 100%;border-bottom: 1px solid gray;flex-grow: 1;}#sk-container-id-45 div.sk-label:hover label.sk-toggleable__label {background-color: #d4ebff;}#sk-container-id-45 div.sk-serial::before {content: \"\";position: absolute;border-left: 1px solid gray;box-sizing: border-box;top: 0;bottom: 0;left: 50%;z-index: 0;}#sk-container-id-45 div.sk-serial {display: flex;flex-direction: column;align-items: center;background-color: white;padding-right: 0.2em;padding-left: 0.2em;position: relative;}#sk-container-id-45 div.sk-item {position: relative;z-index: 1;}#sk-container-id-45 div.sk-parallel {display: flex;align-items: stretch;justify-content: center;background-color: white;position: relative;}#sk-container-id-45 div.sk-item::before, #sk-container-id-45 div.sk-parallel-item::before {content: \"\";position: absolute;border-left: 1px solid gray;box-sizing: border-box;top: 0;bottom: 0;left: 50%;z-index: -1;}#sk-container-id-45 div.sk-parallel-item {display: flex;flex-direction: column;z-index: 1;position: relative;background-color: white;}#sk-container-id-45 div.sk-parallel-item:first-child::after {align-self: flex-end;width: 50%;}#sk-container-id-45 div.sk-parallel-item:last-child::after {align-self: flex-start;width: 50%;}#sk-container-id-45 div.sk-parallel-item:only-child::after {width: 0;}#sk-container-id-45 div.sk-dashed-wrapped {border: 1px dashed gray;margin: 0 0.4em 0.5em 0.4em;box-sizing: border-box;padding-bottom: 0.4em;background-color: white;}#sk-container-id-45 div.sk-label label {font-family: monospace;font-weight: bold;display: inline-block;line-height: 1.2em;}#sk-container-id-45 div.sk-label-container {text-align: center;}#sk-container-id-45 div.sk-container {/* jupyter's `normalize.less` sets `[hidden] { display: none; }` but bootstrap.min.css set `[hidden] { display: none !important; }` so we also need the `!important` here to be able to override the default hidden behavior on the sphinx rendered scikit-learn.org. See: https://github.com/scikit-learn/scikit-learn/issues/21755 */display: inline-block !important;position: relative;}#sk-container-id-45 div.sk-text-repr-fallback {display: none;}</style><div id=\"sk-container-id-45\" class=\"sk-top-container\"><div class=\"sk-text-repr-fallback\"><pre>LogisticRegression(class_weight=&#x27;balanced&#x27;)</pre><b>In a Jupyter environment, please rerun this cell to show the HTML representation or trust the notebook. <br />On GitHub, the HTML representation is unable to render, please try loading this page with nbviewer.org.</b></div><div class=\"sk-container\" hidden><div class=\"sk-item\"><div class=\"sk-estimator sk-toggleable\"><input class=\"sk-toggleable__control sk-hidden--visually\" id=\"sk-estimator-id-45\" type=\"checkbox\" checked><label for=\"sk-estimator-id-45\" class=\"sk-toggleable__label sk-toggleable__label-arrow\">LogisticRegression</label><div class=\"sk-toggleable__content\"><pre>LogisticRegression(class_weight=&#x27;balanced&#x27;)</pre></div></div></div></div></div>"
            ]
          },
          "metadata": {},
          "execution_count": 685
        }
      ]
    },
    {
      "cell_type": "code",
      "source": [
        "#Realizamos una predicción\n",
        "y_pred = algoritmo.predict(X_test) \n",
        "y_pred"
      ],
      "metadata": {
        "colab": {
          "base_uri": "https://localhost:8080/"
        },
        "id": "41qt3ZQud_HD",
        "outputId": "bd783c12-ab3c-4caf-be0d-4a6a70cc05d0"
      },
      "execution_count": null,
      "outputs": [
        {
          "output_type": "execute_result",
          "data": {
            "text/plain": [
              "array(['COMPRAS', 'COMPRAS', 'OTRAS COMPRAS', ..., 'OTRAS COMPRAS',\n",
              "       'OTRAS COMPRAS', 'OTRAS COMPRAS'], dtype=object)"
            ]
          },
          "metadata": {},
          "execution_count": 686
        }
      ]
    },
    {
      "cell_type": "code",
      "source": [
        "#Verifico la matriz de Confusión\n",
        "from sklearn.metrics import confusion_matrix\n",
        "matriz = confusion_matrix(y_test, y_pred)\n",
        "print('Matriz de Confusión:')\n",
        "print(matriz)"
      ],
      "metadata": {
        "colab": {
          "base_uri": "https://localhost:8080/"
        },
        "id": "VcCW7LH-eBNM",
        "outputId": "3c25bb3e-90a4-439f-a3bf-cf65d686d5cc"
      },
      "execution_count": null,
      "outputs": [
        {
          "output_type": "stream",
          "name": "stdout",
          "text": [
            "Matriz de Confusión:\n",
            "[[326 128]\n",
            " [412 137]]\n"
          ]
        }
      ]
    },
    {
      "cell_type": "code",
      "source": [
        "#Calculo la precisión del modelo\n",
        "from sklearn.metrics import precision_score\n",
        "\n",
        "precision = precision_score(y_test, y_pred, average=\"binary\", pos_label=\"COMPRAS\")\n",
        "print('Precisión del modelo:')\n",
        "print(precision)"
      ],
      "metadata": {
        "colab": {
          "base_uri": "https://localhost:8080/"
        },
        "id": "SFTT-Hd5eFHx",
        "outputId": "35d534ce-c525-4fbe-df87-589234f4bd48"
      },
      "execution_count": null,
      "outputs": [
        {
          "output_type": "stream",
          "name": "stdout",
          "text": [
            "Precisión del modelo:\n",
            "0.44173441734417346\n"
          ]
        }
      ]
    },
    {
      "cell_type": "code",
      "source": [
        "#Calculo la exactitud del modelo\n",
        "from sklearn.metrics import accuracy_score\n",
        "\n",
        "exactitud = accuracy_score(y_test, y_pred)\n",
        "print('Exactitud del modelo:')\n",
        "print(exactitud)"
      ],
      "metadata": {
        "colab": {
          "base_uri": "https://localhost:8080/"
        },
        "id": "mOV_gWXde3IF",
        "outputId": "72f57dce-54dd-45e5-82be-74402d7a548d"
      },
      "execution_count": null,
      "outputs": [
        {
          "output_type": "stream",
          "name": "stdout",
          "text": [
            "Exactitud del modelo:\n",
            "0.46161515453639085\n"
          ]
        }
      ]
    },
    {
      "cell_type": "code",
      "source": [
        "#Calculo la sensibilidad del modelo\n",
        "from sklearn.metrics import recall_score\n",
        "\n",
        "sensibilidad = recall_score(y_test, y_pred, average=\"binary\", pos_label=\"COMPRAS\")\n",
        "print('Sensibilidad del modelo:')\n",
        "print(sensibilidad)"
      ],
      "metadata": {
        "colab": {
          "base_uri": "https://localhost:8080/"
        },
        "id": "8NsXEDq8fPUa",
        "outputId": "f14d5b98-8d69-4442-c873-b08ae998d1c5"
      },
      "execution_count": null,
      "outputs": [
        {
          "output_type": "stream",
          "name": "stdout",
          "text": [
            "Sensibilidad del modelo:\n",
            "0.7180616740088106\n"
          ]
        }
      ]
    },
    {
      "cell_type": "code",
      "source": [
        "pres.append(precision)\n",
        "exa.append(exactitud)\n",
        "sen.append(sensibilidad)\n",
        "nom.append('2020')"
      ],
      "metadata": {
        "id": "ZHbUTGYYqD4p"
      },
      "execution_count": null,
      "outputs": []
    },
    {
      "cell_type": "markdown",
      "source": [
        "#**2021**"
      ],
      "metadata": {
        "id": "E8YiDvtYhA5S"
      }
    },
    {
      "cell_type": "code",
      "source": [
        "#Declaramos las variables dependientes e independientes para la regresión Logística\n",
        "Vars_Indep= gyc21[['TOTAL MX']]\n",
        "Var_Dep= gyc21['TIPO GASTO']"
      ],
      "metadata": {
        "id": "Q6UabXdohA5T"
      },
      "execution_count": null,
      "outputs": []
    },
    {
      "cell_type": "code",
      "source": [
        "Var_Dep.describe()"
      ],
      "metadata": {
        "colab": {
          "base_uri": "https://localhost:8080/"
        },
        "id": "LDR55Zt5zqOT",
        "outputId": "d345f080-9ab0-48de-cdeb-6fbff32ef6a9"
      },
      "execution_count": null,
      "outputs": [
        {
          "output_type": "execute_result",
          "data": {
            "text/plain": [
              "count        3035\n",
              "unique          2\n",
              "top       COMPRAS\n",
              "freq         1531\n",
              "Name: TIPO GASTO, dtype: object"
            ]
          },
          "metadata": {},
          "execution_count": 693
        }
      ]
    },
    {
      "cell_type": "code",
      "source": [
        "#Redefinimos las variables \n",
        "X= Vars_Indep\n",
        "y= Var_Dep"
      ],
      "metadata": {
        "id": "vNR-0538hA5U"
      },
      "execution_count": null,
      "outputs": []
    },
    {
      "cell_type": "code",
      "source": [
        "#Dividimos el conjunto de datos en la parte de entrenamiento y prueba:\n",
        "X_train, X_test, y_train, y_test = train_test_split(X, y, test_size=0.3, random_state =21)"
      ],
      "metadata": {
        "id": "xwn0sSCXhA5V"
      },
      "execution_count": null,
      "outputs": []
    },
    {
      "cell_type": "code",
      "source": [
        "#Se escalan todos los datos\n",
        "escalar = StandardScaler()"
      ],
      "metadata": {
        "id": "VLbJ47qBhA5V"
      },
      "execution_count": null,
      "outputs": []
    },
    {
      "cell_type": "code",
      "source": [
        "#Para realizar el escalamiento de las variables “X” tanto de entrenamiento como de prueba, utilizaremos fit_transform\n",
        "X_train = escalar.fit_transform(X_train)\n",
        "X_test = escalar.transform(X_test)"
      ],
      "metadata": {
        "id": "eJDNEIqShA5W"
      },
      "execution_count": null,
      "outputs": []
    },
    {
      "cell_type": "code",
      "source": [
        "#Definimos el algoritmo a utilizar\n",
        "from sklearn.linear_model import LogisticRegression\n",
        "algoritmo = LogisticRegression(class_weight='balanced')"
      ],
      "metadata": {
        "id": "A6wBJYGthA5W"
      },
      "execution_count": null,
      "outputs": []
    },
    {
      "cell_type": "code",
      "source": [
        "#Entrenamos el modelo\n",
        "algoritmo.fit(X_train, y_train)"
      ],
      "metadata": {
        "colab": {
          "base_uri": "https://localhost:8080/"
        },
        "outputId": "b70543c3-d40c-4864-d71c-f1ad7c5b90d3",
        "id": "Q8Z1EefjhA5W"
      },
      "execution_count": null,
      "outputs": [
        {
          "output_type": "execute_result",
          "data": {
            "text/plain": [
              "LogisticRegression(class_weight='balanced')"
            ],
            "text/html": [
              "<style>#sk-container-id-46 {color: black;background-color: white;}#sk-container-id-46 pre{padding: 0;}#sk-container-id-46 div.sk-toggleable {background-color: white;}#sk-container-id-46 label.sk-toggleable__label {cursor: pointer;display: block;width: 100%;margin-bottom: 0;padding: 0.3em;box-sizing: border-box;text-align: center;}#sk-container-id-46 label.sk-toggleable__label-arrow:before {content: \"▸\";float: left;margin-right: 0.25em;color: #696969;}#sk-container-id-46 label.sk-toggleable__label-arrow:hover:before {color: black;}#sk-container-id-46 div.sk-estimator:hover label.sk-toggleable__label-arrow:before {color: black;}#sk-container-id-46 div.sk-toggleable__content {max-height: 0;max-width: 0;overflow: hidden;text-align: left;background-color: #f0f8ff;}#sk-container-id-46 div.sk-toggleable__content pre {margin: 0.2em;color: black;border-radius: 0.25em;background-color: #f0f8ff;}#sk-container-id-46 input.sk-toggleable__control:checked~div.sk-toggleable__content {max-height: 200px;max-width: 100%;overflow: auto;}#sk-container-id-46 input.sk-toggleable__control:checked~label.sk-toggleable__label-arrow:before {content: \"▾\";}#sk-container-id-46 div.sk-estimator input.sk-toggleable__control:checked~label.sk-toggleable__label {background-color: #d4ebff;}#sk-container-id-46 div.sk-label input.sk-toggleable__control:checked~label.sk-toggleable__label {background-color: #d4ebff;}#sk-container-id-46 input.sk-hidden--visually {border: 0;clip: rect(1px 1px 1px 1px);clip: rect(1px, 1px, 1px, 1px);height: 1px;margin: -1px;overflow: hidden;padding: 0;position: absolute;width: 1px;}#sk-container-id-46 div.sk-estimator {font-family: monospace;background-color: #f0f8ff;border: 1px dotted black;border-radius: 0.25em;box-sizing: border-box;margin-bottom: 0.5em;}#sk-container-id-46 div.sk-estimator:hover {background-color: #d4ebff;}#sk-container-id-46 div.sk-parallel-item::after {content: \"\";width: 100%;border-bottom: 1px solid gray;flex-grow: 1;}#sk-container-id-46 div.sk-label:hover label.sk-toggleable__label {background-color: #d4ebff;}#sk-container-id-46 div.sk-serial::before {content: \"\";position: absolute;border-left: 1px solid gray;box-sizing: border-box;top: 0;bottom: 0;left: 50%;z-index: 0;}#sk-container-id-46 div.sk-serial {display: flex;flex-direction: column;align-items: center;background-color: white;padding-right: 0.2em;padding-left: 0.2em;position: relative;}#sk-container-id-46 div.sk-item {position: relative;z-index: 1;}#sk-container-id-46 div.sk-parallel {display: flex;align-items: stretch;justify-content: center;background-color: white;position: relative;}#sk-container-id-46 div.sk-item::before, #sk-container-id-46 div.sk-parallel-item::before {content: \"\";position: absolute;border-left: 1px solid gray;box-sizing: border-box;top: 0;bottom: 0;left: 50%;z-index: -1;}#sk-container-id-46 div.sk-parallel-item {display: flex;flex-direction: column;z-index: 1;position: relative;background-color: white;}#sk-container-id-46 div.sk-parallel-item:first-child::after {align-self: flex-end;width: 50%;}#sk-container-id-46 div.sk-parallel-item:last-child::after {align-self: flex-start;width: 50%;}#sk-container-id-46 div.sk-parallel-item:only-child::after {width: 0;}#sk-container-id-46 div.sk-dashed-wrapped {border: 1px dashed gray;margin: 0 0.4em 0.5em 0.4em;box-sizing: border-box;padding-bottom: 0.4em;background-color: white;}#sk-container-id-46 div.sk-label label {font-family: monospace;font-weight: bold;display: inline-block;line-height: 1.2em;}#sk-container-id-46 div.sk-label-container {text-align: center;}#sk-container-id-46 div.sk-container {/* jupyter's `normalize.less` sets `[hidden] { display: none; }` but bootstrap.min.css set `[hidden] { display: none !important; }` so we also need the `!important` here to be able to override the default hidden behavior on the sphinx rendered scikit-learn.org. See: https://github.com/scikit-learn/scikit-learn/issues/21755 */display: inline-block !important;position: relative;}#sk-container-id-46 div.sk-text-repr-fallback {display: none;}</style><div id=\"sk-container-id-46\" class=\"sk-top-container\"><div class=\"sk-text-repr-fallback\"><pre>LogisticRegression(class_weight=&#x27;balanced&#x27;)</pre><b>In a Jupyter environment, please rerun this cell to show the HTML representation or trust the notebook. <br />On GitHub, the HTML representation is unable to render, please try loading this page with nbviewer.org.</b></div><div class=\"sk-container\" hidden><div class=\"sk-item\"><div class=\"sk-estimator sk-toggleable\"><input class=\"sk-toggleable__control sk-hidden--visually\" id=\"sk-estimator-id-46\" type=\"checkbox\" checked><label for=\"sk-estimator-id-46\" class=\"sk-toggleable__label sk-toggleable__label-arrow\">LogisticRegression</label><div class=\"sk-toggleable__content\"><pre>LogisticRegression(class_weight=&#x27;balanced&#x27;)</pre></div></div></div></div></div>"
            ]
          },
          "metadata": {},
          "execution_count": 699
        }
      ]
    },
    {
      "cell_type": "code",
      "source": [
        "#Realizamos una predicción\n",
        "y_pred = algoritmo.predict(X_test) \n",
        "y_pred"
      ],
      "metadata": {
        "colab": {
          "base_uri": "https://localhost:8080/"
        },
        "outputId": "75aaa79f-3f8c-433e-ae04-f77851be094b",
        "id": "0WnzgskChA5X"
      },
      "execution_count": null,
      "outputs": [
        {
          "output_type": "execute_result",
          "data": {
            "text/plain": [
              "array(['COMPRAS', 'OTRAS COMPRAS', 'OTRAS COMPRAS', 'COMPRAS', 'COMPRAS',\n",
              "       'COMPRAS', 'COMPRAS', 'COMPRAS', 'COMPRAS', 'COMPRAS', 'COMPRAS',\n",
              "       'COMPRAS', 'COMPRAS', 'COMPRAS', 'COMPRAS', 'OTRAS COMPRAS',\n",
              "       'COMPRAS', 'COMPRAS', 'COMPRAS', 'COMPRAS', 'COMPRAS',\n",
              "       'OTRAS COMPRAS', 'COMPRAS', 'COMPRAS', 'OTRAS COMPRAS', 'COMPRAS',\n",
              "       'COMPRAS', 'COMPRAS', 'COMPRAS', 'OTRAS COMPRAS', 'COMPRAS',\n",
              "       'OTRAS COMPRAS', 'COMPRAS', 'COMPRAS', 'COMPRAS', 'COMPRAS',\n",
              "       'COMPRAS', 'OTRAS COMPRAS', 'COMPRAS', 'COMPRAS', 'OTRAS COMPRAS',\n",
              "       'COMPRAS', 'OTRAS COMPRAS', 'OTRAS COMPRAS', 'COMPRAS', 'COMPRAS',\n",
              "       'COMPRAS', 'COMPRAS', 'COMPRAS', 'COMPRAS', 'COMPRAS', 'COMPRAS',\n",
              "       'COMPRAS', 'COMPRAS', 'COMPRAS', 'COMPRAS', 'COMPRAS', 'COMPRAS',\n",
              "       'COMPRAS', 'COMPRAS', 'COMPRAS', 'COMPRAS', 'COMPRAS',\n",
              "       'OTRAS COMPRAS', 'COMPRAS', 'COMPRAS', 'OTRAS COMPRAS', 'COMPRAS',\n",
              "       'COMPRAS', 'COMPRAS', 'COMPRAS', 'OTRAS COMPRAS', 'COMPRAS',\n",
              "       'OTRAS COMPRAS', 'OTRAS COMPRAS', 'COMPRAS', 'COMPRAS',\n",
              "       'OTRAS COMPRAS', 'COMPRAS', 'COMPRAS', 'COMPRAS', 'COMPRAS',\n",
              "       'OTRAS COMPRAS', 'COMPRAS', 'COMPRAS', 'COMPRAS', 'OTRAS COMPRAS',\n",
              "       'OTRAS COMPRAS', 'COMPRAS', 'OTRAS COMPRAS', 'COMPRAS', 'COMPRAS',\n",
              "       'OTRAS COMPRAS', 'OTRAS COMPRAS', 'COMPRAS', 'COMPRAS', 'COMPRAS',\n",
              "       'COMPRAS', 'COMPRAS', 'COMPRAS', 'COMPRAS', 'COMPRAS', 'COMPRAS',\n",
              "       'COMPRAS', 'OTRAS COMPRAS', 'COMPRAS', 'COMPRAS', 'OTRAS COMPRAS',\n",
              "       'COMPRAS', 'COMPRAS', 'OTRAS COMPRAS', 'OTRAS COMPRAS', 'COMPRAS',\n",
              "       'COMPRAS', 'OTRAS COMPRAS', 'COMPRAS', 'OTRAS COMPRAS', 'COMPRAS',\n",
              "       'COMPRAS', 'COMPRAS', 'OTRAS COMPRAS', 'COMPRAS', 'COMPRAS',\n",
              "       'COMPRAS', 'COMPRAS', 'OTRAS COMPRAS', 'COMPRAS', 'OTRAS COMPRAS',\n",
              "       'OTRAS COMPRAS', 'COMPRAS', 'OTRAS COMPRAS', 'OTRAS COMPRAS',\n",
              "       'COMPRAS', 'COMPRAS', 'COMPRAS', 'COMPRAS', 'COMPRAS', 'COMPRAS',\n",
              "       'COMPRAS', 'COMPRAS', 'COMPRAS', 'COMPRAS', 'COMPRAS', 'COMPRAS',\n",
              "       'OTRAS COMPRAS', 'COMPRAS', 'COMPRAS', 'COMPRAS', 'COMPRAS',\n",
              "       'COMPRAS', 'COMPRAS', 'COMPRAS', 'COMPRAS', 'COMPRAS',\n",
              "       'OTRAS COMPRAS', 'COMPRAS', 'COMPRAS', 'COMPRAS', 'COMPRAS',\n",
              "       'COMPRAS', 'COMPRAS', 'OTRAS COMPRAS', 'OTRAS COMPRAS', 'COMPRAS',\n",
              "       'OTRAS COMPRAS', 'COMPRAS', 'COMPRAS', 'COMPRAS', 'COMPRAS',\n",
              "       'OTRAS COMPRAS', 'COMPRAS', 'COMPRAS', 'OTRAS COMPRAS', 'COMPRAS',\n",
              "       'OTRAS COMPRAS', 'COMPRAS', 'COMPRAS', 'OTRAS COMPRAS', 'COMPRAS',\n",
              "       'COMPRAS', 'OTRAS COMPRAS', 'COMPRAS', 'OTRAS COMPRAS',\n",
              "       'OTRAS COMPRAS', 'COMPRAS', 'COMPRAS', 'COMPRAS', 'COMPRAS',\n",
              "       'OTRAS COMPRAS', 'COMPRAS', 'COMPRAS', 'OTRAS COMPRAS', 'COMPRAS',\n",
              "       'COMPRAS', 'OTRAS COMPRAS', 'COMPRAS', 'COMPRAS', 'COMPRAS',\n",
              "       'COMPRAS', 'COMPRAS', 'OTRAS COMPRAS', 'COMPRAS', 'COMPRAS',\n",
              "       'COMPRAS', 'OTRAS COMPRAS', 'OTRAS COMPRAS', 'COMPRAS',\n",
              "       'OTRAS COMPRAS', 'COMPRAS', 'OTRAS COMPRAS', 'COMPRAS',\n",
              "       'OTRAS COMPRAS', 'OTRAS COMPRAS', 'COMPRAS', 'OTRAS COMPRAS',\n",
              "       'COMPRAS', 'COMPRAS', 'COMPRAS', 'COMPRAS', 'OTRAS COMPRAS',\n",
              "       'COMPRAS', 'COMPRAS', 'COMPRAS', 'OTRAS COMPRAS', 'COMPRAS',\n",
              "       'OTRAS COMPRAS', 'COMPRAS', 'COMPRAS', 'COMPRAS', 'OTRAS COMPRAS',\n",
              "       'OTRAS COMPRAS', 'COMPRAS', 'COMPRAS', 'OTRAS COMPRAS', 'COMPRAS',\n",
              "       'OTRAS COMPRAS', 'OTRAS COMPRAS', 'COMPRAS', 'COMPRAS', 'COMPRAS',\n",
              "       'COMPRAS', 'COMPRAS', 'COMPRAS', 'COMPRAS', 'COMPRAS', 'COMPRAS',\n",
              "       'COMPRAS', 'OTRAS COMPRAS', 'COMPRAS', 'COMPRAS', 'COMPRAS',\n",
              "       'OTRAS COMPRAS', 'COMPRAS', 'OTRAS COMPRAS', 'OTRAS COMPRAS',\n",
              "       'OTRAS COMPRAS', 'OTRAS COMPRAS', 'COMPRAS', 'COMPRAS',\n",
              "       'OTRAS COMPRAS', 'COMPRAS', 'COMPRAS', 'COMPRAS', 'COMPRAS',\n",
              "       'COMPRAS', 'OTRAS COMPRAS', 'COMPRAS', 'COMPRAS', 'COMPRAS',\n",
              "       'COMPRAS', 'OTRAS COMPRAS', 'COMPRAS', 'OTRAS COMPRAS', 'COMPRAS',\n",
              "       'COMPRAS', 'OTRAS COMPRAS', 'COMPRAS', 'OTRAS COMPRAS', 'COMPRAS',\n",
              "       'COMPRAS', 'COMPRAS', 'OTRAS COMPRAS', 'COMPRAS', 'COMPRAS',\n",
              "       'COMPRAS', 'OTRAS COMPRAS', 'COMPRAS', 'COMPRAS', 'COMPRAS',\n",
              "       'COMPRAS', 'COMPRAS', 'COMPRAS', 'COMPRAS', 'COMPRAS', 'COMPRAS',\n",
              "       'OTRAS COMPRAS', 'OTRAS COMPRAS', 'COMPRAS', 'COMPRAS', 'COMPRAS',\n",
              "       'COMPRAS', 'COMPRAS', 'COMPRAS', 'COMPRAS', 'COMPRAS', 'COMPRAS',\n",
              "       'COMPRAS', 'COMPRAS', 'COMPRAS', 'COMPRAS', 'COMPRAS', 'COMPRAS',\n",
              "       'COMPRAS', 'COMPRAS', 'OTRAS COMPRAS', 'OTRAS COMPRAS', 'COMPRAS',\n",
              "       'COMPRAS', 'COMPRAS', 'COMPRAS', 'OTRAS COMPRAS', 'COMPRAS',\n",
              "       'COMPRAS', 'COMPRAS', 'COMPRAS', 'COMPRAS', 'OTRAS COMPRAS',\n",
              "       'OTRAS COMPRAS', 'COMPRAS', 'OTRAS COMPRAS', 'OTRAS COMPRAS',\n",
              "       'OTRAS COMPRAS', 'COMPRAS', 'OTRAS COMPRAS', 'OTRAS COMPRAS',\n",
              "       'COMPRAS', 'COMPRAS', 'OTRAS COMPRAS', 'COMPRAS', 'COMPRAS',\n",
              "       'OTRAS COMPRAS', 'COMPRAS', 'OTRAS COMPRAS', 'COMPRAS', 'COMPRAS',\n",
              "       'COMPRAS', 'OTRAS COMPRAS', 'COMPRAS', 'COMPRAS', 'COMPRAS',\n",
              "       'COMPRAS', 'OTRAS COMPRAS', 'COMPRAS', 'COMPRAS', 'COMPRAS',\n",
              "       'COMPRAS', 'COMPRAS', 'COMPRAS', 'COMPRAS', 'OTRAS COMPRAS',\n",
              "       'COMPRAS', 'COMPRAS', 'OTRAS COMPRAS', 'COMPRAS', 'COMPRAS',\n",
              "       'OTRAS COMPRAS', 'OTRAS COMPRAS', 'COMPRAS', 'OTRAS COMPRAS',\n",
              "       'COMPRAS', 'COMPRAS', 'COMPRAS', 'COMPRAS', 'OTRAS COMPRAS',\n",
              "       'OTRAS COMPRAS', 'COMPRAS', 'OTRAS COMPRAS', 'OTRAS COMPRAS',\n",
              "       'COMPRAS', 'COMPRAS', 'COMPRAS', 'COMPRAS', 'COMPRAS', 'COMPRAS',\n",
              "       'COMPRAS', 'COMPRAS', 'COMPRAS', 'COMPRAS', 'COMPRAS', 'COMPRAS',\n",
              "       'COMPRAS', 'COMPRAS', 'OTRAS COMPRAS', 'COMPRAS', 'OTRAS COMPRAS',\n",
              "       'COMPRAS', 'COMPRAS', 'COMPRAS', 'OTRAS COMPRAS', 'OTRAS COMPRAS',\n",
              "       'COMPRAS', 'COMPRAS', 'COMPRAS', 'COMPRAS', 'OTRAS COMPRAS',\n",
              "       'COMPRAS', 'COMPRAS', 'COMPRAS', 'COMPRAS', 'COMPRAS',\n",
              "       'OTRAS COMPRAS', 'COMPRAS', 'OTRAS COMPRAS', 'COMPRAS',\n",
              "       'OTRAS COMPRAS', 'COMPRAS', 'COMPRAS', 'COMPRAS', 'OTRAS COMPRAS',\n",
              "       'COMPRAS', 'COMPRAS', 'COMPRAS', 'COMPRAS', 'COMPRAS', 'COMPRAS',\n",
              "       'COMPRAS', 'COMPRAS', 'COMPRAS', 'COMPRAS', 'COMPRAS', 'COMPRAS',\n",
              "       'COMPRAS', 'COMPRAS', 'COMPRAS', 'COMPRAS', 'COMPRAS',\n",
              "       'OTRAS COMPRAS', 'OTRAS COMPRAS', 'COMPRAS', 'OTRAS COMPRAS',\n",
              "       'COMPRAS', 'COMPRAS', 'COMPRAS', 'OTRAS COMPRAS', 'COMPRAS',\n",
              "       'COMPRAS', 'COMPRAS', 'COMPRAS', 'COMPRAS', 'COMPRAS', 'COMPRAS',\n",
              "       'COMPRAS', 'COMPRAS', 'COMPRAS', 'OTRAS COMPRAS', 'COMPRAS',\n",
              "       'OTRAS COMPRAS', 'COMPRAS', 'COMPRAS', 'COMPRAS', 'OTRAS COMPRAS',\n",
              "       'OTRAS COMPRAS', 'COMPRAS', 'COMPRAS', 'COMPRAS', 'COMPRAS',\n",
              "       'OTRAS COMPRAS', 'COMPRAS', 'COMPRAS', 'COMPRAS', 'COMPRAS',\n",
              "       'COMPRAS', 'OTRAS COMPRAS', 'COMPRAS', 'OTRAS COMPRAS', 'COMPRAS',\n",
              "       'COMPRAS', 'OTRAS COMPRAS', 'COMPRAS', 'COMPRAS', 'COMPRAS',\n",
              "       'COMPRAS', 'COMPRAS', 'OTRAS COMPRAS', 'COMPRAS', 'COMPRAS',\n",
              "       'COMPRAS', 'OTRAS COMPRAS', 'COMPRAS', 'COMPRAS', 'COMPRAS',\n",
              "       'COMPRAS', 'COMPRAS', 'COMPRAS', 'OTRAS COMPRAS', 'OTRAS COMPRAS',\n",
              "       'COMPRAS', 'OTRAS COMPRAS', 'COMPRAS', 'COMPRAS', 'COMPRAS',\n",
              "       'OTRAS COMPRAS', 'COMPRAS', 'OTRAS COMPRAS', 'COMPRAS', 'COMPRAS',\n",
              "       'COMPRAS', 'COMPRAS', 'COMPRAS', 'COMPRAS', 'COMPRAS',\n",
              "       'OTRAS COMPRAS', 'COMPRAS', 'COMPRAS', 'OTRAS COMPRAS',\n",
              "       'OTRAS COMPRAS', 'COMPRAS', 'COMPRAS', 'COMPRAS', 'COMPRAS',\n",
              "       'OTRAS COMPRAS', 'OTRAS COMPRAS', 'COMPRAS', 'COMPRAS',\n",
              "       'OTRAS COMPRAS', 'COMPRAS', 'OTRAS COMPRAS', 'COMPRAS', 'COMPRAS',\n",
              "       'COMPRAS', 'COMPRAS', 'COMPRAS', 'COMPRAS', 'COMPRAS', 'COMPRAS',\n",
              "       'COMPRAS', 'COMPRAS', 'COMPRAS', 'COMPRAS', 'OTRAS COMPRAS',\n",
              "       'COMPRAS', 'COMPRAS', 'COMPRAS', 'OTRAS COMPRAS', 'COMPRAS',\n",
              "       'COMPRAS', 'COMPRAS', 'OTRAS COMPRAS', 'OTRAS COMPRAS', 'COMPRAS',\n",
              "       'COMPRAS', 'COMPRAS', 'OTRAS COMPRAS', 'COMPRAS', 'COMPRAS',\n",
              "       'COMPRAS', 'OTRAS COMPRAS', 'OTRAS COMPRAS', 'COMPRAS',\n",
              "       'OTRAS COMPRAS', 'OTRAS COMPRAS', 'COMPRAS', 'COMPRAS', 'COMPRAS',\n",
              "       'COMPRAS', 'COMPRAS', 'COMPRAS', 'COMPRAS', 'COMPRAS',\n",
              "       'OTRAS COMPRAS', 'COMPRAS', 'COMPRAS', 'COMPRAS', 'COMPRAS',\n",
              "       'COMPRAS', 'COMPRAS', 'OTRAS COMPRAS', 'COMPRAS', 'COMPRAS',\n",
              "       'COMPRAS', 'OTRAS COMPRAS', 'COMPRAS', 'OTRAS COMPRAS', 'COMPRAS',\n",
              "       'OTRAS COMPRAS', 'COMPRAS', 'OTRAS COMPRAS', 'COMPRAS', 'COMPRAS',\n",
              "       'COMPRAS', 'OTRAS COMPRAS', 'COMPRAS', 'COMPRAS', 'OTRAS COMPRAS',\n",
              "       'COMPRAS', 'OTRAS COMPRAS', 'COMPRAS', 'COMPRAS', 'OTRAS COMPRAS',\n",
              "       'COMPRAS', 'COMPRAS', 'COMPRAS', 'COMPRAS', 'OTRAS COMPRAS',\n",
              "       'COMPRAS', 'COMPRAS', 'COMPRAS', 'OTRAS COMPRAS', 'COMPRAS',\n",
              "       'COMPRAS', 'COMPRAS', 'OTRAS COMPRAS', 'COMPRAS', 'OTRAS COMPRAS',\n",
              "       'COMPRAS', 'COMPRAS', 'COMPRAS', 'OTRAS COMPRAS', 'OTRAS COMPRAS',\n",
              "       'COMPRAS', 'OTRAS COMPRAS', 'COMPRAS', 'COMPRAS', 'COMPRAS',\n",
              "       'COMPRAS', 'COMPRAS', 'COMPRAS', 'COMPRAS', 'COMPRAS',\n",
              "       'OTRAS COMPRAS', 'COMPRAS', 'COMPRAS', 'COMPRAS', 'COMPRAS',\n",
              "       'COMPRAS', 'OTRAS COMPRAS', 'COMPRAS', 'COMPRAS', 'COMPRAS',\n",
              "       'OTRAS COMPRAS', 'OTRAS COMPRAS', 'COMPRAS', 'OTRAS COMPRAS',\n",
              "       'OTRAS COMPRAS', 'COMPRAS', 'COMPRAS', 'COMPRAS', 'COMPRAS',\n",
              "       'OTRAS COMPRAS', 'COMPRAS', 'COMPRAS', 'OTRAS COMPRAS', 'COMPRAS',\n",
              "       'COMPRAS', 'COMPRAS', 'COMPRAS', 'COMPRAS', 'COMPRAS', 'COMPRAS',\n",
              "       'COMPRAS', 'COMPRAS', 'OTRAS COMPRAS', 'OTRAS COMPRAS', 'COMPRAS',\n",
              "       'OTRAS COMPRAS', 'OTRAS COMPRAS', 'COMPRAS', 'COMPRAS', 'COMPRAS',\n",
              "       'OTRAS COMPRAS', 'COMPRAS', 'COMPRAS', 'OTRAS COMPRAS',\n",
              "       'OTRAS COMPRAS', 'COMPRAS', 'OTRAS COMPRAS', 'COMPRAS', 'COMPRAS',\n",
              "       'COMPRAS', 'OTRAS COMPRAS', 'OTRAS COMPRAS', 'OTRAS COMPRAS',\n",
              "       'COMPRAS', 'COMPRAS', 'COMPRAS', 'COMPRAS', 'COMPRAS',\n",
              "       'OTRAS COMPRAS', 'OTRAS COMPRAS', 'COMPRAS', 'COMPRAS',\n",
              "       'OTRAS COMPRAS', 'COMPRAS', 'COMPRAS', 'OTRAS COMPRAS', 'COMPRAS',\n",
              "       'COMPRAS', 'COMPRAS', 'COMPRAS', 'COMPRAS', 'OTRAS COMPRAS',\n",
              "       'COMPRAS', 'COMPRAS', 'COMPRAS', 'COMPRAS', 'COMPRAS', 'COMPRAS',\n",
              "       'COMPRAS', 'COMPRAS', 'COMPRAS', 'COMPRAS', 'OTRAS COMPRAS',\n",
              "       'COMPRAS', 'COMPRAS', 'COMPRAS', 'COMPRAS', 'COMPRAS', 'COMPRAS',\n",
              "       'COMPRAS', 'OTRAS COMPRAS', 'COMPRAS', 'COMPRAS', 'COMPRAS',\n",
              "       'COMPRAS', 'COMPRAS', 'COMPRAS', 'OTRAS COMPRAS', 'COMPRAS',\n",
              "       'OTRAS COMPRAS', 'COMPRAS', 'OTRAS COMPRAS', 'OTRAS COMPRAS',\n",
              "       'COMPRAS', 'COMPRAS', 'COMPRAS', 'OTRAS COMPRAS', 'COMPRAS',\n",
              "       'OTRAS COMPRAS', 'COMPRAS', 'COMPRAS', 'COMPRAS', 'OTRAS COMPRAS',\n",
              "       'COMPRAS', 'COMPRAS', 'COMPRAS', 'COMPRAS', 'COMPRAS', 'COMPRAS',\n",
              "       'OTRAS COMPRAS', 'COMPRAS', 'OTRAS COMPRAS', 'COMPRAS', 'COMPRAS',\n",
              "       'COMPRAS', 'OTRAS COMPRAS', 'OTRAS COMPRAS', 'OTRAS COMPRAS',\n",
              "       'COMPRAS', 'COMPRAS', 'COMPRAS', 'COMPRAS', 'COMPRAS', 'COMPRAS',\n",
              "       'OTRAS COMPRAS', 'COMPRAS', 'COMPRAS', 'COMPRAS', 'COMPRAS',\n",
              "       'COMPRAS', 'COMPRAS', 'COMPRAS', 'COMPRAS', 'COMPRAS',\n",
              "       'OTRAS COMPRAS', 'COMPRAS', 'COMPRAS', 'OTRAS COMPRAS', 'COMPRAS',\n",
              "       'OTRAS COMPRAS', 'COMPRAS', 'COMPRAS', 'COMPRAS', 'COMPRAS',\n",
              "       'COMPRAS', 'COMPRAS', 'OTRAS COMPRAS', 'COMPRAS', 'OTRAS COMPRAS',\n",
              "       'COMPRAS', 'COMPRAS', 'OTRAS COMPRAS', 'COMPRAS', 'OTRAS COMPRAS',\n",
              "       'COMPRAS', 'COMPRAS', 'COMPRAS', 'COMPRAS', 'COMPRAS', 'COMPRAS',\n",
              "       'COMPRAS', 'OTRAS COMPRAS', 'OTRAS COMPRAS', 'COMPRAS', 'COMPRAS',\n",
              "       'COMPRAS', 'COMPRAS', 'COMPRAS', 'OTRAS COMPRAS', 'COMPRAS',\n",
              "       'COMPRAS', 'OTRAS COMPRAS', 'COMPRAS', 'COMPRAS', 'COMPRAS',\n",
              "       'COMPRAS', 'COMPRAS', 'OTRAS COMPRAS', 'COMPRAS', 'OTRAS COMPRAS',\n",
              "       'OTRAS COMPRAS', 'COMPRAS', 'OTRAS COMPRAS', 'COMPRAS', 'COMPRAS',\n",
              "       'COMPRAS', 'OTRAS COMPRAS', 'COMPRAS', 'COMPRAS', 'COMPRAS',\n",
              "       'COMPRAS', 'COMPRAS', 'COMPRAS', 'COMPRAS', 'COMPRAS',\n",
              "       'OTRAS COMPRAS', 'COMPRAS', 'OTRAS COMPRAS', 'COMPRAS', 'COMPRAS',\n",
              "       'OTRAS COMPRAS', 'OTRAS COMPRAS', 'COMPRAS', 'OTRAS COMPRAS',\n",
              "       'COMPRAS', 'COMPRAS', 'COMPRAS', 'OTRAS COMPRAS', 'COMPRAS',\n",
              "       'COMPRAS', 'COMPRAS', 'COMPRAS', 'COMPRAS', 'COMPRAS', 'COMPRAS',\n",
              "       'COMPRAS', 'COMPRAS', 'COMPRAS', 'OTRAS COMPRAS', 'OTRAS COMPRAS',\n",
              "       'COMPRAS', 'COMPRAS', 'COMPRAS', 'OTRAS COMPRAS', 'COMPRAS',\n",
              "       'COMPRAS', 'COMPRAS', 'COMPRAS', 'COMPRAS', 'COMPRAS', 'COMPRAS',\n",
              "       'COMPRAS', 'OTRAS COMPRAS', 'COMPRAS', 'COMPRAS', 'OTRAS COMPRAS',\n",
              "       'COMPRAS', 'OTRAS COMPRAS', 'COMPRAS', 'COMPRAS', 'COMPRAS',\n",
              "       'COMPRAS', 'COMPRAS', 'COMPRAS', 'COMPRAS', 'OTRAS COMPRAS',\n",
              "       'OTRAS COMPRAS', 'COMPRAS', 'OTRAS COMPRAS', 'OTRAS COMPRAS',\n",
              "       'COMPRAS', 'COMPRAS', 'COMPRAS', 'OTRAS COMPRAS', 'COMPRAS',\n",
              "       'COMPRAS', 'COMPRAS', 'COMPRAS', 'COMPRAS', 'OTRAS COMPRAS',\n",
              "       'COMPRAS', 'COMPRAS', 'COMPRAS', 'COMPRAS', 'OTRAS COMPRAS',\n",
              "       'COMPRAS', 'COMPRAS', 'COMPRAS', 'COMPRAS', 'COMPRAS', 'COMPRAS',\n",
              "       'OTRAS COMPRAS'], dtype=object)"
            ]
          },
          "metadata": {},
          "execution_count": 700
        }
      ]
    },
    {
      "cell_type": "code",
      "source": [
        "#Verifico la matriz de Confusión\n",
        "from sklearn.metrics import confusion_matrix\n",
        "matriz = confusion_matrix(y_test, y_pred)\n",
        "print('Matriz de Confusión:')\n",
        "print(matriz)"
      ],
      "metadata": {
        "colab": {
          "base_uri": "https://localhost:8080/"
        },
        "outputId": "dc00b67b-b1f1-42a5-f8c2-1d475f3c157e",
        "id": "ED25CjBihA5X"
      },
      "execution_count": null,
      "outputs": [
        {
          "output_type": "stream",
          "name": "stdout",
          "text": [
            "Matriz de Confusión:\n",
            "[[329 124]\n",
            " [340 118]]\n"
          ]
        }
      ]
    },
    {
      "cell_type": "code",
      "source": [
        "#Calculo la precisión del modelo\n",
        "from sklearn.metrics import precision_score\n",
        "\n",
        "precision = precision_score(y_test, y_pred, average=\"binary\", pos_label=\"COMPRAS\")\n",
        "print('Precisión del modelo:')\n",
        "print(precision)"
      ],
      "metadata": {
        "colab": {
          "base_uri": "https://localhost:8080/"
        },
        "outputId": "cbb2cbab-024e-4ce1-fe15-5e583b419766",
        "id": "L4r2vc88hA5Y"
      },
      "execution_count": null,
      "outputs": [
        {
          "output_type": "stream",
          "name": "stdout",
          "text": [
            "Precisión del modelo:\n",
            "0.49177877428998507\n"
          ]
        }
      ]
    },
    {
      "cell_type": "code",
      "source": [
        "#Calculo la exactitud del modelo\n",
        "from sklearn.metrics import accuracy_score\n",
        "\n",
        "exactitud = accuracy_score(y_test, y_pred)\n",
        "print('Exactitud del modelo:')\n",
        "print(exactitud)"
      ],
      "metadata": {
        "colab": {
          "base_uri": "https://localhost:8080/"
        },
        "outputId": "04fa65ba-abaa-485d-dbaf-ff1d27c160e5",
        "id": "Get_N1Z8hA5Y"
      },
      "execution_count": null,
      "outputs": [
        {
          "output_type": "stream",
          "name": "stdout",
          "text": [
            "Exactitud del modelo:\n",
            "0.49066959385290887\n"
          ]
        }
      ]
    },
    {
      "cell_type": "code",
      "source": [
        "#Calculo la sensibilidad del modelo\n",
        "from sklearn.metrics import recall_score\n",
        "\n",
        "sensibilidad = recall_score(y_test, y_pred, average=\"binary\", pos_label=\"COMPRAS\")\n",
        "print('Sensibilidad del modelo:')\n",
        "print(sensibilidad)"
      ],
      "metadata": {
        "colab": {
          "base_uri": "https://localhost:8080/"
        },
        "outputId": "217e78f3-a039-4186-a001-58e178346d53",
        "id": "0cAH5uSphA5Y"
      },
      "execution_count": null,
      "outputs": [
        {
          "output_type": "stream",
          "name": "stdout",
          "text": [
            "Sensibilidad del modelo:\n",
            "0.7262693156732892\n"
          ]
        }
      ]
    },
    {
      "cell_type": "code",
      "source": [
        "pres.append(precision)\n",
        "exa.append(exactitud)\n",
        "sen.append(sensibilidad)\n",
        "nom.append('2021')"
      ],
      "metadata": {
        "id": "TDIvHnp1qqc9"
      },
      "execution_count": null,
      "outputs": []
    },
    {
      "cell_type": "markdown",
      "source": [
        "#**2022**"
      ],
      "metadata": {
        "id": "AZVSSug7jCtr"
      }
    },
    {
      "cell_type": "code",
      "source": [
        "#Declaramos las variables dependientes e independientes para la regresión Logística\n",
        "Vars_Indep= gyc22[['TOTAL MX']]\n",
        "Var_Dep= gyc22['TIPO GASTO']"
      ],
      "metadata": {
        "id": "EKsPWIxsjCt2"
      },
      "execution_count": null,
      "outputs": []
    },
    {
      "cell_type": "code",
      "source": [
        "Var_Dep.describe()"
      ],
      "metadata": {
        "colab": {
          "base_uri": "https://localhost:8080/"
        },
        "id": "A6GybqvdztMm",
        "outputId": "fd244f5f-673b-45bb-c99d-5a89082d2d81"
      },
      "execution_count": null,
      "outputs": [
        {
          "output_type": "execute_result",
          "data": {
            "text/plain": [
              "count              2577\n",
              "unique                2\n",
              "top       OTRAS COMPRAS\n",
              "freq               1363\n",
              "Name: TIPO GASTO, dtype: object"
            ]
          },
          "metadata": {},
          "execution_count": 707
        }
      ]
    },
    {
      "cell_type": "code",
      "source": [
        "#Redefinimos las variables \n",
        "X= Vars_Indep\n",
        "y= Var_Dep"
      ],
      "metadata": {
        "id": "A0hNABWwjCt3"
      },
      "execution_count": null,
      "outputs": []
    },
    {
      "cell_type": "code",
      "source": [
        "#Dividimos el conjunto de datos en la parte de entrenamiento y prueba:\n",
        "X_train, X_test, y_train, y_test = train_test_split(X, y, test_size=0.3, random_state =21)"
      ],
      "metadata": {
        "id": "8tjwczArjCt3"
      },
      "execution_count": null,
      "outputs": []
    },
    {
      "cell_type": "code",
      "source": [
        "#Se escalan todos los datos\n",
        "escalar = StandardScaler()"
      ],
      "metadata": {
        "id": "YLKWZXbMjCt3"
      },
      "execution_count": null,
      "outputs": []
    },
    {
      "cell_type": "code",
      "source": [
        "#Para realizar el escalamiento de las variables “X” tanto de entrenamiento como de prueba, utilizaremos fit_transform\n",
        "X_train = escalar.fit_transform(X_train)\n",
        "X_test = escalar.transform(X_test)"
      ],
      "metadata": {
        "id": "f1r94nqGjCt3"
      },
      "execution_count": null,
      "outputs": []
    },
    {
      "cell_type": "code",
      "source": [
        "#Definimos el algoritmo a utilizar\n",
        "from sklearn.linear_model import LogisticRegression\n",
        "algoritmo = LogisticRegression(class_weight='balanced')"
      ],
      "metadata": {
        "id": "tcycF_NNjCt4"
      },
      "execution_count": null,
      "outputs": []
    },
    {
      "cell_type": "code",
      "source": [
        "#Entrenamos el modelo\n",
        "algoritmo.fit(X_train, y_train)"
      ],
      "metadata": {
        "colab": {
          "base_uri": "https://localhost:8080/",
          "height": 74
        },
        "outputId": "bea47c1c-2cd6-43af-ed88-0afe1f69cd79",
        "id": "UZH0sJLsjCt4"
      },
      "execution_count": null,
      "outputs": [
        {
          "output_type": "execute_result",
          "data": {
            "text/plain": [
              "LogisticRegression(class_weight='balanced')"
            ],
            "text/html": [
              "<style>#sk-container-id-47 {color: black;background-color: white;}#sk-container-id-47 pre{padding: 0;}#sk-container-id-47 div.sk-toggleable {background-color: white;}#sk-container-id-47 label.sk-toggleable__label {cursor: pointer;display: block;width: 100%;margin-bottom: 0;padding: 0.3em;box-sizing: border-box;text-align: center;}#sk-container-id-47 label.sk-toggleable__label-arrow:before {content: \"▸\";float: left;margin-right: 0.25em;color: #696969;}#sk-container-id-47 label.sk-toggleable__label-arrow:hover:before {color: black;}#sk-container-id-47 div.sk-estimator:hover label.sk-toggleable__label-arrow:before {color: black;}#sk-container-id-47 div.sk-toggleable__content {max-height: 0;max-width: 0;overflow: hidden;text-align: left;background-color: #f0f8ff;}#sk-container-id-47 div.sk-toggleable__content pre {margin: 0.2em;color: black;border-radius: 0.25em;background-color: #f0f8ff;}#sk-container-id-47 input.sk-toggleable__control:checked~div.sk-toggleable__content {max-height: 200px;max-width: 100%;overflow: auto;}#sk-container-id-47 input.sk-toggleable__control:checked~label.sk-toggleable__label-arrow:before {content: \"▾\";}#sk-container-id-47 div.sk-estimator input.sk-toggleable__control:checked~label.sk-toggleable__label {background-color: #d4ebff;}#sk-container-id-47 div.sk-label input.sk-toggleable__control:checked~label.sk-toggleable__label {background-color: #d4ebff;}#sk-container-id-47 input.sk-hidden--visually {border: 0;clip: rect(1px 1px 1px 1px);clip: rect(1px, 1px, 1px, 1px);height: 1px;margin: -1px;overflow: hidden;padding: 0;position: absolute;width: 1px;}#sk-container-id-47 div.sk-estimator {font-family: monospace;background-color: #f0f8ff;border: 1px dotted black;border-radius: 0.25em;box-sizing: border-box;margin-bottom: 0.5em;}#sk-container-id-47 div.sk-estimator:hover {background-color: #d4ebff;}#sk-container-id-47 div.sk-parallel-item::after {content: \"\";width: 100%;border-bottom: 1px solid gray;flex-grow: 1;}#sk-container-id-47 div.sk-label:hover label.sk-toggleable__label {background-color: #d4ebff;}#sk-container-id-47 div.sk-serial::before {content: \"\";position: absolute;border-left: 1px solid gray;box-sizing: border-box;top: 0;bottom: 0;left: 50%;z-index: 0;}#sk-container-id-47 div.sk-serial {display: flex;flex-direction: column;align-items: center;background-color: white;padding-right: 0.2em;padding-left: 0.2em;position: relative;}#sk-container-id-47 div.sk-item {position: relative;z-index: 1;}#sk-container-id-47 div.sk-parallel {display: flex;align-items: stretch;justify-content: center;background-color: white;position: relative;}#sk-container-id-47 div.sk-item::before, #sk-container-id-47 div.sk-parallel-item::before {content: \"\";position: absolute;border-left: 1px solid gray;box-sizing: border-box;top: 0;bottom: 0;left: 50%;z-index: -1;}#sk-container-id-47 div.sk-parallel-item {display: flex;flex-direction: column;z-index: 1;position: relative;background-color: white;}#sk-container-id-47 div.sk-parallel-item:first-child::after {align-self: flex-end;width: 50%;}#sk-container-id-47 div.sk-parallel-item:last-child::after {align-self: flex-start;width: 50%;}#sk-container-id-47 div.sk-parallel-item:only-child::after {width: 0;}#sk-container-id-47 div.sk-dashed-wrapped {border: 1px dashed gray;margin: 0 0.4em 0.5em 0.4em;box-sizing: border-box;padding-bottom: 0.4em;background-color: white;}#sk-container-id-47 div.sk-label label {font-family: monospace;font-weight: bold;display: inline-block;line-height: 1.2em;}#sk-container-id-47 div.sk-label-container {text-align: center;}#sk-container-id-47 div.sk-container {/* jupyter's `normalize.less` sets `[hidden] { display: none; }` but bootstrap.min.css set `[hidden] { display: none !important; }` so we also need the `!important` here to be able to override the default hidden behavior on the sphinx rendered scikit-learn.org. See: https://github.com/scikit-learn/scikit-learn/issues/21755 */display: inline-block !important;position: relative;}#sk-container-id-47 div.sk-text-repr-fallback {display: none;}</style><div id=\"sk-container-id-47\" class=\"sk-top-container\"><div class=\"sk-text-repr-fallback\"><pre>LogisticRegression(class_weight=&#x27;balanced&#x27;)</pre><b>In a Jupyter environment, please rerun this cell to show the HTML representation or trust the notebook. <br />On GitHub, the HTML representation is unable to render, please try loading this page with nbviewer.org.</b></div><div class=\"sk-container\" hidden><div class=\"sk-item\"><div class=\"sk-estimator sk-toggleable\"><input class=\"sk-toggleable__control sk-hidden--visually\" id=\"sk-estimator-id-47\" type=\"checkbox\" checked><label for=\"sk-estimator-id-47\" class=\"sk-toggleable__label sk-toggleable__label-arrow\">LogisticRegression</label><div class=\"sk-toggleable__content\"><pre>LogisticRegression(class_weight=&#x27;balanced&#x27;)</pre></div></div></div></div></div>"
            ]
          },
          "metadata": {},
          "execution_count": 713
        }
      ]
    },
    {
      "cell_type": "code",
      "source": [
        "#Realizamos una predicción\n",
        "y_pred = algoritmo.predict(X_test) \n",
        "y_pred"
      ],
      "metadata": {
        "colab": {
          "base_uri": "https://localhost:8080/"
        },
        "outputId": "a9a2a556-0443-4715-cdae-f286554bb006",
        "id": "4BD0nXgijCt4"
      },
      "execution_count": null,
      "outputs": [
        {
          "output_type": "execute_result",
          "data": {
            "text/plain": [
              "array(['COMPRAS', 'OTRAS COMPRAS', 'OTRAS COMPRAS', 'COMPRAS', 'COMPRAS',\n",
              "       'COMPRAS', 'COMPRAS', 'OTRAS COMPRAS', 'COMPRAS', 'COMPRAS',\n",
              "       'OTRAS COMPRAS', 'COMPRAS', 'COMPRAS', 'COMPRAS', 'OTRAS COMPRAS',\n",
              "       'OTRAS COMPRAS', 'OTRAS COMPRAS', 'OTRAS COMPRAS', 'COMPRAS',\n",
              "       'COMPRAS', 'COMPRAS', 'COMPRAS', 'COMPRAS', 'OTRAS COMPRAS',\n",
              "       'COMPRAS', 'COMPRAS', 'COMPRAS', 'OTRAS COMPRAS', 'COMPRAS',\n",
              "       'COMPRAS', 'COMPRAS', 'OTRAS COMPRAS', 'OTRAS COMPRAS', 'COMPRAS',\n",
              "       'COMPRAS', 'COMPRAS', 'COMPRAS', 'COMPRAS', 'COMPRAS', 'COMPRAS',\n",
              "       'OTRAS COMPRAS', 'OTRAS COMPRAS', 'COMPRAS', 'COMPRAS', 'COMPRAS',\n",
              "       'OTRAS COMPRAS', 'COMPRAS', 'COMPRAS', 'COMPRAS', 'OTRAS COMPRAS',\n",
              "       'COMPRAS', 'COMPRAS', 'COMPRAS', 'COMPRAS', 'COMPRAS',\n",
              "       'OTRAS COMPRAS', 'COMPRAS', 'COMPRAS', 'OTRAS COMPRAS', 'COMPRAS',\n",
              "       'COMPRAS', 'COMPRAS', 'COMPRAS', 'COMPRAS', 'COMPRAS', 'COMPRAS',\n",
              "       'OTRAS COMPRAS', 'COMPRAS', 'COMPRAS', 'COMPRAS', 'COMPRAS',\n",
              "       'COMPRAS', 'OTRAS COMPRAS', 'OTRAS COMPRAS', 'COMPRAS', 'COMPRAS',\n",
              "       'COMPRAS', 'COMPRAS', 'OTRAS COMPRAS', 'COMPRAS', 'COMPRAS',\n",
              "       'COMPRAS', 'COMPRAS', 'COMPRAS', 'COMPRAS', 'COMPRAS', 'COMPRAS',\n",
              "       'OTRAS COMPRAS', 'COMPRAS', 'COMPRAS', 'COMPRAS', 'COMPRAS',\n",
              "       'OTRAS COMPRAS', 'OTRAS COMPRAS', 'OTRAS COMPRAS', 'COMPRAS',\n",
              "       'OTRAS COMPRAS', 'OTRAS COMPRAS', 'COMPRAS', 'OTRAS COMPRAS',\n",
              "       'COMPRAS', 'COMPRAS', 'COMPRAS', 'COMPRAS', 'OTRAS COMPRAS',\n",
              "       'COMPRAS', 'COMPRAS', 'COMPRAS', 'COMPRAS', 'COMPRAS',\n",
              "       'OTRAS COMPRAS', 'COMPRAS', 'COMPRAS', 'OTRAS COMPRAS', 'COMPRAS',\n",
              "       'COMPRAS', 'COMPRAS', 'OTRAS COMPRAS', 'OTRAS COMPRAS', 'COMPRAS',\n",
              "       'OTRAS COMPRAS', 'OTRAS COMPRAS', 'COMPRAS', 'COMPRAS', 'COMPRAS',\n",
              "       'COMPRAS', 'COMPRAS', 'COMPRAS', 'COMPRAS', 'COMPRAS', 'COMPRAS',\n",
              "       'OTRAS COMPRAS', 'OTRAS COMPRAS', 'COMPRAS', 'OTRAS COMPRAS',\n",
              "       'OTRAS COMPRAS', 'OTRAS COMPRAS', 'COMPRAS', 'OTRAS COMPRAS',\n",
              "       'COMPRAS', 'COMPRAS', 'OTRAS COMPRAS', 'OTRAS COMPRAS', 'COMPRAS',\n",
              "       'OTRAS COMPRAS', 'COMPRAS', 'OTRAS COMPRAS', 'COMPRAS', 'COMPRAS',\n",
              "       'COMPRAS', 'OTRAS COMPRAS', 'COMPRAS', 'OTRAS COMPRAS', 'COMPRAS',\n",
              "       'COMPRAS', 'OTRAS COMPRAS', 'COMPRAS', 'OTRAS COMPRAS', 'COMPRAS',\n",
              "       'OTRAS COMPRAS', 'OTRAS COMPRAS', 'COMPRAS', 'COMPRAS', 'COMPRAS',\n",
              "       'COMPRAS', 'COMPRAS', 'COMPRAS', 'OTRAS COMPRAS', 'OTRAS COMPRAS',\n",
              "       'COMPRAS', 'COMPRAS', 'OTRAS COMPRAS', 'COMPRAS', 'COMPRAS',\n",
              "       'COMPRAS', 'OTRAS COMPRAS', 'COMPRAS', 'OTRAS COMPRAS', 'COMPRAS',\n",
              "       'COMPRAS', 'COMPRAS', 'COMPRAS', 'OTRAS COMPRAS', 'COMPRAS',\n",
              "       'COMPRAS', 'COMPRAS', 'COMPRAS', 'OTRAS COMPRAS', 'OTRAS COMPRAS',\n",
              "       'COMPRAS', 'COMPRAS', 'COMPRAS', 'COMPRAS', 'COMPRAS', 'COMPRAS',\n",
              "       'COMPRAS', 'COMPRAS', 'OTRAS COMPRAS', 'COMPRAS', 'COMPRAS',\n",
              "       'OTRAS COMPRAS', 'COMPRAS', 'COMPRAS', 'COMPRAS', 'COMPRAS',\n",
              "       'OTRAS COMPRAS', 'OTRAS COMPRAS', 'COMPRAS', 'COMPRAS', 'COMPRAS',\n",
              "       'COMPRAS', 'OTRAS COMPRAS', 'COMPRAS', 'COMPRAS', 'OTRAS COMPRAS',\n",
              "       'COMPRAS', 'COMPRAS', 'COMPRAS', 'COMPRAS', 'COMPRAS', 'COMPRAS',\n",
              "       'COMPRAS', 'OTRAS COMPRAS', 'COMPRAS', 'COMPRAS', 'COMPRAS',\n",
              "       'COMPRAS', 'OTRAS COMPRAS', 'COMPRAS', 'OTRAS COMPRAS', 'COMPRAS',\n",
              "       'OTRAS COMPRAS', 'OTRAS COMPRAS', 'OTRAS COMPRAS', 'COMPRAS',\n",
              "       'COMPRAS', 'OTRAS COMPRAS', 'OTRAS COMPRAS', 'COMPRAS', 'COMPRAS',\n",
              "       'COMPRAS', 'COMPRAS', 'COMPRAS', 'OTRAS COMPRAS', 'COMPRAS',\n",
              "       'COMPRAS', 'OTRAS COMPRAS', 'OTRAS COMPRAS', 'COMPRAS',\n",
              "       'OTRAS COMPRAS', 'COMPRAS', 'OTRAS COMPRAS', 'COMPRAS', 'COMPRAS',\n",
              "       'COMPRAS', 'COMPRAS', 'COMPRAS', 'COMPRAS', 'COMPRAS', 'COMPRAS',\n",
              "       'COMPRAS', 'COMPRAS', 'COMPRAS', 'COMPRAS', 'COMPRAS', 'COMPRAS',\n",
              "       'COMPRAS', 'COMPRAS', 'OTRAS COMPRAS', 'COMPRAS', 'OTRAS COMPRAS',\n",
              "       'COMPRAS', 'COMPRAS', 'COMPRAS', 'COMPRAS', 'COMPRAS', 'COMPRAS',\n",
              "       'COMPRAS', 'COMPRAS', 'COMPRAS', 'COMPRAS', 'COMPRAS', 'COMPRAS',\n",
              "       'OTRAS COMPRAS', 'COMPRAS', 'COMPRAS', 'COMPRAS', 'COMPRAS',\n",
              "       'COMPRAS', 'COMPRAS', 'OTRAS COMPRAS', 'OTRAS COMPRAS', 'COMPRAS',\n",
              "       'OTRAS COMPRAS', 'COMPRAS', 'OTRAS COMPRAS', 'COMPRAS', 'COMPRAS',\n",
              "       'COMPRAS', 'COMPRAS', 'COMPRAS', 'COMPRAS', 'COMPRAS', 'COMPRAS',\n",
              "       'COMPRAS', 'COMPRAS', 'COMPRAS', 'COMPRAS', 'COMPRAS', 'COMPRAS',\n",
              "       'OTRAS COMPRAS', 'COMPRAS', 'OTRAS COMPRAS', 'COMPRAS', 'COMPRAS',\n",
              "       'COMPRAS', 'COMPRAS', 'OTRAS COMPRAS', 'OTRAS COMPRAS',\n",
              "       'OTRAS COMPRAS', 'COMPRAS', 'OTRAS COMPRAS', 'COMPRAS', 'COMPRAS',\n",
              "       'OTRAS COMPRAS', 'OTRAS COMPRAS', 'COMPRAS', 'COMPRAS', 'COMPRAS',\n",
              "       'COMPRAS', 'OTRAS COMPRAS', 'COMPRAS', 'COMPRAS', 'OTRAS COMPRAS',\n",
              "       'OTRAS COMPRAS', 'OTRAS COMPRAS', 'COMPRAS', 'COMPRAS', 'COMPRAS',\n",
              "       'COMPRAS', 'OTRAS COMPRAS', 'COMPRAS', 'OTRAS COMPRAS',\n",
              "       'OTRAS COMPRAS', 'OTRAS COMPRAS', 'COMPRAS', 'COMPRAS',\n",
              "       'OTRAS COMPRAS', 'OTRAS COMPRAS', 'COMPRAS', 'COMPRAS',\n",
              "       'OTRAS COMPRAS', 'COMPRAS', 'COMPRAS', 'OTRAS COMPRAS', 'COMPRAS',\n",
              "       'COMPRAS', 'COMPRAS', 'OTRAS COMPRAS', 'COMPRAS', 'OTRAS COMPRAS',\n",
              "       'COMPRAS', 'COMPRAS', 'COMPRAS', 'COMPRAS', 'OTRAS COMPRAS',\n",
              "       'OTRAS COMPRAS', 'COMPRAS', 'COMPRAS', 'COMPRAS', 'COMPRAS',\n",
              "       'COMPRAS', 'COMPRAS', 'COMPRAS', 'COMPRAS', 'COMPRAS',\n",
              "       'OTRAS COMPRAS', 'OTRAS COMPRAS', 'COMPRAS', 'COMPRAS',\n",
              "       'OTRAS COMPRAS', 'OTRAS COMPRAS', 'OTRAS COMPRAS', 'COMPRAS',\n",
              "       'COMPRAS', 'OTRAS COMPRAS', 'OTRAS COMPRAS', 'COMPRAS', 'COMPRAS',\n",
              "       'OTRAS COMPRAS', 'OTRAS COMPRAS', 'COMPRAS', 'COMPRAS',\n",
              "       'OTRAS COMPRAS', 'OTRAS COMPRAS', 'COMPRAS', 'COMPRAS', 'COMPRAS',\n",
              "       'COMPRAS', 'COMPRAS', 'OTRAS COMPRAS', 'COMPRAS', 'COMPRAS',\n",
              "       'COMPRAS', 'OTRAS COMPRAS', 'COMPRAS', 'COMPRAS', 'COMPRAS',\n",
              "       'OTRAS COMPRAS', 'COMPRAS', 'COMPRAS', 'COMPRAS', 'COMPRAS',\n",
              "       'COMPRAS', 'OTRAS COMPRAS', 'COMPRAS', 'COMPRAS', 'COMPRAS',\n",
              "       'COMPRAS', 'COMPRAS', 'OTRAS COMPRAS', 'COMPRAS', 'COMPRAS',\n",
              "       'OTRAS COMPRAS', 'COMPRAS', 'COMPRAS', 'OTRAS COMPRAS', 'COMPRAS',\n",
              "       'OTRAS COMPRAS', 'COMPRAS', 'COMPRAS', 'COMPRAS', 'COMPRAS',\n",
              "       'COMPRAS', 'OTRAS COMPRAS', 'COMPRAS', 'COMPRAS', 'COMPRAS',\n",
              "       'OTRAS COMPRAS', 'COMPRAS', 'COMPRAS', 'OTRAS COMPRAS', 'COMPRAS',\n",
              "       'COMPRAS', 'COMPRAS', 'OTRAS COMPRAS', 'OTRAS COMPRAS', 'COMPRAS',\n",
              "       'COMPRAS', 'COMPRAS', 'COMPRAS', 'COMPRAS', 'COMPRAS', 'COMPRAS',\n",
              "       'COMPRAS', 'COMPRAS', 'COMPRAS', 'OTRAS COMPRAS', 'COMPRAS',\n",
              "       'COMPRAS', 'COMPRAS', 'COMPRAS', 'COMPRAS', 'COMPRAS', 'COMPRAS',\n",
              "       'COMPRAS', 'OTRAS COMPRAS', 'COMPRAS', 'COMPRAS', 'OTRAS COMPRAS',\n",
              "       'COMPRAS', 'COMPRAS', 'COMPRAS', 'COMPRAS', 'COMPRAS', 'COMPRAS',\n",
              "       'COMPRAS', 'COMPRAS', 'OTRAS COMPRAS', 'COMPRAS', 'COMPRAS',\n",
              "       'OTRAS COMPRAS', 'COMPRAS', 'COMPRAS', 'COMPRAS', 'COMPRAS',\n",
              "       'COMPRAS', 'OTRAS COMPRAS', 'OTRAS COMPRAS', 'COMPRAS', 'COMPRAS',\n",
              "       'COMPRAS', 'COMPRAS', 'COMPRAS', 'COMPRAS', 'COMPRAS', 'COMPRAS',\n",
              "       'OTRAS COMPRAS', 'COMPRAS', 'COMPRAS', 'COMPRAS', 'COMPRAS',\n",
              "       'COMPRAS', 'COMPRAS', 'COMPRAS', 'COMPRAS', 'COMPRAS', 'COMPRAS',\n",
              "       'COMPRAS', 'COMPRAS', 'COMPRAS', 'COMPRAS', 'COMPRAS',\n",
              "       'OTRAS COMPRAS', 'OTRAS COMPRAS', 'COMPRAS', 'COMPRAS',\n",
              "       'OTRAS COMPRAS', 'COMPRAS', 'COMPRAS', 'COMPRAS', 'COMPRAS',\n",
              "       'COMPRAS', 'COMPRAS', 'COMPRAS', 'COMPRAS', 'COMPRAS', 'COMPRAS',\n",
              "       'COMPRAS', 'OTRAS COMPRAS', 'COMPRAS', 'COMPRAS', 'OTRAS COMPRAS',\n",
              "       'COMPRAS', 'OTRAS COMPRAS', 'OTRAS COMPRAS', 'COMPRAS', 'COMPRAS',\n",
              "       'COMPRAS', 'COMPRAS', 'COMPRAS', 'COMPRAS', 'COMPRAS', 'COMPRAS',\n",
              "       'COMPRAS', 'COMPRAS', 'COMPRAS', 'COMPRAS', 'OTRAS COMPRAS',\n",
              "       'COMPRAS', 'OTRAS COMPRAS', 'COMPRAS', 'COMPRAS', 'COMPRAS',\n",
              "       'COMPRAS', 'COMPRAS', 'COMPRAS', 'COMPRAS', 'COMPRAS',\n",
              "       'OTRAS COMPRAS', 'OTRAS COMPRAS', 'COMPRAS', 'COMPRAS', 'COMPRAS',\n",
              "       'OTRAS COMPRAS', 'OTRAS COMPRAS', 'OTRAS COMPRAS', 'COMPRAS',\n",
              "       'COMPRAS', 'COMPRAS', 'COMPRAS', 'COMPRAS', 'COMPRAS', 'COMPRAS',\n",
              "       'COMPRAS', 'OTRAS COMPRAS', 'COMPRAS', 'COMPRAS', 'COMPRAS',\n",
              "       'COMPRAS', 'COMPRAS', 'COMPRAS', 'COMPRAS', 'OTRAS COMPRAS',\n",
              "       'OTRAS COMPRAS', 'COMPRAS', 'OTRAS COMPRAS', 'OTRAS COMPRAS',\n",
              "       'COMPRAS', 'OTRAS COMPRAS', 'OTRAS COMPRAS', 'COMPRAS',\n",
              "       'OTRAS COMPRAS', 'COMPRAS', 'COMPRAS', 'COMPRAS', 'COMPRAS',\n",
              "       'COMPRAS', 'COMPRAS', 'OTRAS COMPRAS', 'COMPRAS', 'COMPRAS',\n",
              "       'COMPRAS', 'COMPRAS', 'COMPRAS', 'OTRAS COMPRAS', 'COMPRAS',\n",
              "       'OTRAS COMPRAS', 'OTRAS COMPRAS', 'OTRAS COMPRAS', 'COMPRAS',\n",
              "       'COMPRAS', 'COMPRAS', 'COMPRAS', 'COMPRAS', 'COMPRAS', 'COMPRAS',\n",
              "       'COMPRAS', 'OTRAS COMPRAS', 'OTRAS COMPRAS', 'OTRAS COMPRAS',\n",
              "       'COMPRAS', 'COMPRAS', 'COMPRAS', 'COMPRAS', 'COMPRAS', 'COMPRAS',\n",
              "       'COMPRAS', 'COMPRAS', 'OTRAS COMPRAS', 'OTRAS COMPRAS', 'COMPRAS',\n",
              "       'COMPRAS', 'COMPRAS', 'COMPRAS', 'COMPRAS', 'OTRAS COMPRAS',\n",
              "       'COMPRAS', 'COMPRAS', 'COMPRAS', 'COMPRAS', 'COMPRAS', 'COMPRAS',\n",
              "       'COMPRAS', 'COMPRAS', 'COMPRAS', 'COMPRAS', 'OTRAS COMPRAS',\n",
              "       'OTRAS COMPRAS', 'COMPRAS', 'COMPRAS', 'COMPRAS', 'COMPRAS',\n",
              "       'COMPRAS', 'OTRAS COMPRAS', 'COMPRAS', 'COMPRAS', 'COMPRAS',\n",
              "       'COMPRAS', 'COMPRAS', 'COMPRAS', 'COMPRAS', 'COMPRAS',\n",
              "       'OTRAS COMPRAS', 'COMPRAS', 'COMPRAS', 'COMPRAS', 'COMPRAS',\n",
              "       'COMPRAS', 'COMPRAS', 'COMPRAS', 'COMPRAS', 'COMPRAS',\n",
              "       'OTRAS COMPRAS', 'COMPRAS', 'OTRAS COMPRAS', 'OTRAS COMPRAS',\n",
              "       'COMPRAS', 'COMPRAS', 'COMPRAS', 'COMPRAS', 'OTRAS COMPRAS',\n",
              "       'COMPRAS', 'COMPRAS', 'COMPRAS', 'COMPRAS', 'COMPRAS', 'COMPRAS',\n",
              "       'COMPRAS', 'COMPRAS', 'COMPRAS', 'COMPRAS', 'COMPRAS', 'COMPRAS',\n",
              "       'COMPRAS', 'COMPRAS', 'OTRAS COMPRAS', 'COMPRAS', 'COMPRAS',\n",
              "       'OTRAS COMPRAS', 'OTRAS COMPRAS', 'COMPRAS', 'COMPRAS', 'COMPRAS',\n",
              "       'OTRAS COMPRAS', 'COMPRAS', 'COMPRAS', 'COMPRAS', 'COMPRAS',\n",
              "       'COMPRAS', 'COMPRAS', 'COMPRAS', 'OTRAS COMPRAS', 'COMPRAS',\n",
              "       'COMPRAS', 'COMPRAS', 'COMPRAS', 'OTRAS COMPRAS', 'OTRAS COMPRAS',\n",
              "       'OTRAS COMPRAS', 'COMPRAS', 'COMPRAS', 'COMPRAS', 'COMPRAS',\n",
              "       'COMPRAS', 'COMPRAS', 'OTRAS COMPRAS', 'COMPRAS', 'COMPRAS',\n",
              "       'COMPRAS', 'OTRAS COMPRAS', 'COMPRAS', 'COMPRAS', 'COMPRAS',\n",
              "       'COMPRAS', 'COMPRAS', 'OTRAS COMPRAS', 'COMPRAS', 'COMPRAS',\n",
              "       'COMPRAS', 'COMPRAS', 'COMPRAS', 'OTRAS COMPRAS', 'OTRAS COMPRAS',\n",
              "       'OTRAS COMPRAS', 'COMPRAS', 'OTRAS COMPRAS', 'OTRAS COMPRAS',\n",
              "       'COMPRAS', 'COMPRAS', 'OTRAS COMPRAS', 'OTRAS COMPRAS', 'COMPRAS',\n",
              "       'OTRAS COMPRAS', 'COMPRAS', 'COMPRAS', 'COMPRAS', 'COMPRAS',\n",
              "       'COMPRAS', 'COMPRAS', 'COMPRAS', 'COMPRAS', 'COMPRAS', 'COMPRAS',\n",
              "       'OTRAS COMPRAS', 'COMPRAS', 'OTRAS COMPRAS', 'COMPRAS', 'COMPRAS',\n",
              "       'COMPRAS', 'COMPRAS', 'COMPRAS', 'COMPRAS', 'OTRAS COMPRAS'],\n",
              "      dtype=object)"
            ]
          },
          "metadata": {},
          "execution_count": 714
        }
      ]
    },
    {
      "cell_type": "code",
      "source": [
        "#Verifico la matriz de Confusión\n",
        "from sklearn.metrics import confusion_matrix\n",
        "matriz = confusion_matrix(y_test, y_pred)\n",
        "print('Matriz de Confusión:')\n",
        "print(matriz)"
      ],
      "metadata": {
        "colab": {
          "base_uri": "https://localhost:8080/"
        },
        "outputId": "df4c713d-02bf-43ea-e71d-6e95e35d2592",
        "id": "QT-4oxsFjCt5"
      },
      "execution_count": null,
      "outputs": [
        {
          "output_type": "stream",
          "name": "stdout",
          "text": [
            "Matriz de Confusión:\n",
            "[[264 101]\n",
            " [305 104]]\n"
          ]
        }
      ]
    },
    {
      "cell_type": "code",
      "source": [
        "#Calculo la precisión del modelo\n",
        "from sklearn.metrics import precision_score\n",
        "\n",
        "precision = precision_score(y_test, y_pred, average=\"binary\", pos_label=\"COMPRAS\")\n",
        "print('Precisión del modelo:')\n",
        "print(precision)"
      ],
      "metadata": {
        "colab": {
          "base_uri": "https://localhost:8080/"
        },
        "outputId": "eb15688d-4d95-4ff6-c4db-2be924cca62a",
        "id": "3oEXlXK6jCt5"
      },
      "execution_count": null,
      "outputs": [
        {
          "output_type": "stream",
          "name": "stdout",
          "text": [
            "Precisión del modelo:\n",
            "0.46397188049209137\n"
          ]
        }
      ]
    },
    {
      "cell_type": "code",
      "source": [
        "#Calculo la exactitud del modelo\n",
        "from sklearn.metrics import accuracy_score\n",
        "\n",
        "exactitud = accuracy_score(y_test, y_pred)\n",
        "print('Exactitud del modelo:')\n",
        "print(exactitud)"
      ],
      "metadata": {
        "colab": {
          "base_uri": "https://localhost:8080/"
        },
        "outputId": "412af547-4a0c-46fc-f296-afe70d9bc0db",
        "id": "UOUHNj3ijCt5"
      },
      "execution_count": null,
      "outputs": [
        {
          "output_type": "stream",
          "name": "stdout",
          "text": [
            "Exactitud del modelo:\n",
            "0.4754521963824289\n"
          ]
        }
      ]
    },
    {
      "cell_type": "code",
      "source": [
        "#Calculo la sensibilidad del modelo\n",
        "from sklearn.metrics import recall_score\n",
        "\n",
        "sensibilidad = recall_score(y_test, y_pred, average=\"binary\", pos_label=\"COMPRAS\")\n",
        "print('Sensibilidad del modelo:')\n",
        "print(sensibilidad)"
      ],
      "metadata": {
        "colab": {
          "base_uri": "https://localhost:8080/"
        },
        "outputId": "f55847db-29bd-4e7e-ea68-3ea1b2e23367",
        "id": "gPAtfdHGjCt5"
      },
      "execution_count": null,
      "outputs": [
        {
          "output_type": "stream",
          "name": "stdout",
          "text": [
            "Sensibilidad del modelo:\n",
            "0.7232876712328767\n"
          ]
        }
      ]
    },
    {
      "cell_type": "code",
      "source": [
        "pres.append(precision)\n",
        "exa.append(exactitud)\n",
        "sen.append(sensibilidad)\n",
        "nom.append('2022')"
      ],
      "metadata": {
        "id": "ABegm79Fqs4O"
      },
      "execution_count": null,
      "outputs": []
    },
    {
      "cell_type": "markdown",
      "source": [
        "#**2023**"
      ],
      "metadata": {
        "id": "OAYwKQfxjCt6"
      }
    },
    {
      "cell_type": "code",
      "source": [
        "#Declaramos las variables dependientes e independientes para la regresión Logística\n",
        "Vars_Indep= gyc23[['TOTAL MX']]\n",
        "Var_Dep= gyc23['TIPO GASTO']"
      ],
      "metadata": {
        "id": "tq6RctWQjCt6"
      },
      "execution_count": null,
      "outputs": []
    },
    {
      "cell_type": "code",
      "source": [
        "Var_Dep.describe()"
      ],
      "metadata": {
        "colab": {
          "base_uri": "https://localhost:8080/"
        },
        "id": "BZI6X2UqzvLz",
        "outputId": "046a145c-8a8f-4a7d-d9bf-401a62aaa94a"
      },
      "execution_count": null,
      "outputs": [
        {
          "output_type": "execute_result",
          "data": {
            "text/plain": [
              "count         397\n",
              "unique          2\n",
              "top       COMPRAS\n",
              "freq          205\n",
              "Name: TIPO GASTO, dtype: object"
            ]
          },
          "metadata": {},
          "execution_count": 721
        }
      ]
    },
    {
      "cell_type": "code",
      "source": [
        "#Redefinimos las variables \n",
        "X= Vars_Indep\n",
        "y= Var_Dep"
      ],
      "metadata": {
        "id": "8Pb-48zFjCt6"
      },
      "execution_count": null,
      "outputs": []
    },
    {
      "cell_type": "code",
      "source": [
        "#Dividimos el conjunto de datos en la parte de entrenamiento y prueba:\n",
        "X_train, X_test, y_train, y_test = train_test_split(X, y, test_size=0.3, random_state =21)"
      ],
      "metadata": {
        "id": "8JP1-3NMjCt6"
      },
      "execution_count": null,
      "outputs": []
    },
    {
      "cell_type": "code",
      "source": [
        "#Se escalan todos los datos\n",
        "escalar = StandardScaler()"
      ],
      "metadata": {
        "id": "n6Q9Uab7jCt6"
      },
      "execution_count": null,
      "outputs": []
    },
    {
      "cell_type": "code",
      "source": [
        "#Para realizar el escalamiento de las variables “X” tanto de entrenamiento como de prueba, utilizaremos fit_transform\n",
        "X_train = escalar.fit_transform(X_train)\n",
        "X_test = escalar.transform(X_test)"
      ],
      "metadata": {
        "id": "8Z8d-R0EjCt7"
      },
      "execution_count": null,
      "outputs": []
    },
    {
      "cell_type": "code",
      "source": [
        "#Definimos el algoritmo a utilizar\n",
        "from sklearn.linear_model import LogisticRegression\n",
        "algoritmo = LogisticRegression(class_weight='balanced')"
      ],
      "metadata": {
        "id": "_noZdhTgjCt7"
      },
      "execution_count": null,
      "outputs": []
    },
    {
      "cell_type": "code",
      "source": [
        "#Entrenamos el modelo\n",
        "algoritmo.fit(X_train, y_train)"
      ],
      "metadata": {
        "colab": {
          "base_uri": "https://localhost:8080/"
        },
        "outputId": "adf39f90-68df-42bb-f6bc-0d00e6694823",
        "id": "5VtR6-R7jCt7"
      },
      "execution_count": null,
      "outputs": [
        {
          "output_type": "execute_result",
          "data": {
            "text/plain": [
              "LogisticRegression(class_weight='balanced')"
            ],
            "text/html": [
              "<style>#sk-container-id-48 {color: black;background-color: white;}#sk-container-id-48 pre{padding: 0;}#sk-container-id-48 div.sk-toggleable {background-color: white;}#sk-container-id-48 label.sk-toggleable__label {cursor: pointer;display: block;width: 100%;margin-bottom: 0;padding: 0.3em;box-sizing: border-box;text-align: center;}#sk-container-id-48 label.sk-toggleable__label-arrow:before {content: \"▸\";float: left;margin-right: 0.25em;color: #696969;}#sk-container-id-48 label.sk-toggleable__label-arrow:hover:before {color: black;}#sk-container-id-48 div.sk-estimator:hover label.sk-toggleable__label-arrow:before {color: black;}#sk-container-id-48 div.sk-toggleable__content {max-height: 0;max-width: 0;overflow: hidden;text-align: left;background-color: #f0f8ff;}#sk-container-id-48 div.sk-toggleable__content pre {margin: 0.2em;color: black;border-radius: 0.25em;background-color: #f0f8ff;}#sk-container-id-48 input.sk-toggleable__control:checked~div.sk-toggleable__content {max-height: 200px;max-width: 100%;overflow: auto;}#sk-container-id-48 input.sk-toggleable__control:checked~label.sk-toggleable__label-arrow:before {content: \"▾\";}#sk-container-id-48 div.sk-estimator input.sk-toggleable__control:checked~label.sk-toggleable__label {background-color: #d4ebff;}#sk-container-id-48 div.sk-label input.sk-toggleable__control:checked~label.sk-toggleable__label {background-color: #d4ebff;}#sk-container-id-48 input.sk-hidden--visually {border: 0;clip: rect(1px 1px 1px 1px);clip: rect(1px, 1px, 1px, 1px);height: 1px;margin: -1px;overflow: hidden;padding: 0;position: absolute;width: 1px;}#sk-container-id-48 div.sk-estimator {font-family: monospace;background-color: #f0f8ff;border: 1px dotted black;border-radius: 0.25em;box-sizing: border-box;margin-bottom: 0.5em;}#sk-container-id-48 div.sk-estimator:hover {background-color: #d4ebff;}#sk-container-id-48 div.sk-parallel-item::after {content: \"\";width: 100%;border-bottom: 1px solid gray;flex-grow: 1;}#sk-container-id-48 div.sk-label:hover label.sk-toggleable__label {background-color: #d4ebff;}#sk-container-id-48 div.sk-serial::before {content: \"\";position: absolute;border-left: 1px solid gray;box-sizing: border-box;top: 0;bottom: 0;left: 50%;z-index: 0;}#sk-container-id-48 div.sk-serial {display: flex;flex-direction: column;align-items: center;background-color: white;padding-right: 0.2em;padding-left: 0.2em;position: relative;}#sk-container-id-48 div.sk-item {position: relative;z-index: 1;}#sk-container-id-48 div.sk-parallel {display: flex;align-items: stretch;justify-content: center;background-color: white;position: relative;}#sk-container-id-48 div.sk-item::before, #sk-container-id-48 div.sk-parallel-item::before {content: \"\";position: absolute;border-left: 1px solid gray;box-sizing: border-box;top: 0;bottom: 0;left: 50%;z-index: -1;}#sk-container-id-48 div.sk-parallel-item {display: flex;flex-direction: column;z-index: 1;position: relative;background-color: white;}#sk-container-id-48 div.sk-parallel-item:first-child::after {align-self: flex-end;width: 50%;}#sk-container-id-48 div.sk-parallel-item:last-child::after {align-self: flex-start;width: 50%;}#sk-container-id-48 div.sk-parallel-item:only-child::after {width: 0;}#sk-container-id-48 div.sk-dashed-wrapped {border: 1px dashed gray;margin: 0 0.4em 0.5em 0.4em;box-sizing: border-box;padding-bottom: 0.4em;background-color: white;}#sk-container-id-48 div.sk-label label {font-family: monospace;font-weight: bold;display: inline-block;line-height: 1.2em;}#sk-container-id-48 div.sk-label-container {text-align: center;}#sk-container-id-48 div.sk-container {/* jupyter's `normalize.less` sets `[hidden] { display: none; }` but bootstrap.min.css set `[hidden] { display: none !important; }` so we also need the `!important` here to be able to override the default hidden behavior on the sphinx rendered scikit-learn.org. See: https://github.com/scikit-learn/scikit-learn/issues/21755 */display: inline-block !important;position: relative;}#sk-container-id-48 div.sk-text-repr-fallback {display: none;}</style><div id=\"sk-container-id-48\" class=\"sk-top-container\"><div class=\"sk-text-repr-fallback\"><pre>LogisticRegression(class_weight=&#x27;balanced&#x27;)</pre><b>In a Jupyter environment, please rerun this cell to show the HTML representation or trust the notebook. <br />On GitHub, the HTML representation is unable to render, please try loading this page with nbviewer.org.</b></div><div class=\"sk-container\" hidden><div class=\"sk-item\"><div class=\"sk-estimator sk-toggleable\"><input class=\"sk-toggleable__control sk-hidden--visually\" id=\"sk-estimator-id-48\" type=\"checkbox\" checked><label for=\"sk-estimator-id-48\" class=\"sk-toggleable__label sk-toggleable__label-arrow\">LogisticRegression</label><div class=\"sk-toggleable__content\"><pre>LogisticRegression(class_weight=&#x27;balanced&#x27;)</pre></div></div></div></div></div>"
            ]
          },
          "metadata": {},
          "execution_count": 727
        }
      ]
    },
    {
      "cell_type": "code",
      "source": [
        "#Realizamos una predicción\n",
        "y_pred = algoritmo.predict(X_test) \n",
        "y_pred"
      ],
      "metadata": {
        "colab": {
          "base_uri": "https://localhost:8080/"
        },
        "outputId": "ec8a227a-dbc7-4720-cf07-e94c6c588df5",
        "id": "FkIH-eDnjCt8"
      },
      "execution_count": null,
      "outputs": [
        {
          "output_type": "execute_result",
          "data": {
            "text/plain": [
              "array(['OTRAS COMPRAS', 'OTRAS COMPRAS', 'COMPRAS', 'OTRAS COMPRAS',\n",
              "       'OTRAS COMPRAS', 'OTRAS COMPRAS', 'OTRAS COMPRAS', 'COMPRAS',\n",
              "       'COMPRAS', 'OTRAS COMPRAS', 'OTRAS COMPRAS', 'COMPRAS',\n",
              "       'OTRAS COMPRAS', 'OTRAS COMPRAS', 'COMPRAS', 'OTRAS COMPRAS',\n",
              "       'OTRAS COMPRAS', 'OTRAS COMPRAS', 'OTRAS COMPRAS', 'COMPRAS',\n",
              "       'COMPRAS', 'OTRAS COMPRAS', 'OTRAS COMPRAS', 'OTRAS COMPRAS',\n",
              "       'COMPRAS', 'COMPRAS', 'COMPRAS', 'COMPRAS', 'OTRAS COMPRAS',\n",
              "       'OTRAS COMPRAS', 'OTRAS COMPRAS', 'COMPRAS', 'OTRAS COMPRAS',\n",
              "       'COMPRAS', 'OTRAS COMPRAS', 'OTRAS COMPRAS', 'OTRAS COMPRAS',\n",
              "       'OTRAS COMPRAS', 'COMPRAS', 'OTRAS COMPRAS', 'OTRAS COMPRAS',\n",
              "       'COMPRAS', 'OTRAS COMPRAS', 'OTRAS COMPRAS', 'OTRAS COMPRAS',\n",
              "       'COMPRAS', 'OTRAS COMPRAS', 'OTRAS COMPRAS', 'OTRAS COMPRAS',\n",
              "       'OTRAS COMPRAS', 'OTRAS COMPRAS', 'COMPRAS', 'OTRAS COMPRAS',\n",
              "       'OTRAS COMPRAS', 'COMPRAS', 'OTRAS COMPRAS', 'OTRAS COMPRAS',\n",
              "       'OTRAS COMPRAS', 'OTRAS COMPRAS', 'OTRAS COMPRAS', 'OTRAS COMPRAS',\n",
              "       'OTRAS COMPRAS', 'OTRAS COMPRAS', 'OTRAS COMPRAS', 'OTRAS COMPRAS',\n",
              "       'COMPRAS', 'OTRAS COMPRAS', 'OTRAS COMPRAS', 'OTRAS COMPRAS',\n",
              "       'OTRAS COMPRAS', 'OTRAS COMPRAS', 'OTRAS COMPRAS', 'OTRAS COMPRAS',\n",
              "       'OTRAS COMPRAS', 'OTRAS COMPRAS', 'OTRAS COMPRAS', 'COMPRAS',\n",
              "       'OTRAS COMPRAS', 'OTRAS COMPRAS', 'COMPRAS', 'OTRAS COMPRAS',\n",
              "       'OTRAS COMPRAS', 'OTRAS COMPRAS', 'COMPRAS', 'OTRAS COMPRAS',\n",
              "       'OTRAS COMPRAS', 'OTRAS COMPRAS', 'OTRAS COMPRAS', 'OTRAS COMPRAS',\n",
              "       'COMPRAS', 'OTRAS COMPRAS', 'OTRAS COMPRAS', 'OTRAS COMPRAS',\n",
              "       'COMPRAS', 'OTRAS COMPRAS', 'COMPRAS', 'COMPRAS', 'OTRAS COMPRAS',\n",
              "       'OTRAS COMPRAS', 'OTRAS COMPRAS', 'OTRAS COMPRAS', 'COMPRAS',\n",
              "       'OTRAS COMPRAS', 'COMPRAS', 'OTRAS COMPRAS', 'OTRAS COMPRAS',\n",
              "       'OTRAS COMPRAS', 'OTRAS COMPRAS', 'OTRAS COMPRAS', 'COMPRAS',\n",
              "       'COMPRAS', 'COMPRAS', 'OTRAS COMPRAS', 'OTRAS COMPRAS',\n",
              "       'OTRAS COMPRAS', 'OTRAS COMPRAS', 'OTRAS COMPRAS', 'OTRAS COMPRAS',\n",
              "       'COMPRAS', 'OTRAS COMPRAS'], dtype=object)"
            ]
          },
          "metadata": {},
          "execution_count": 728
        }
      ]
    },
    {
      "cell_type": "code",
      "source": [
        "#Verifico la matriz de Confusión\n",
        "from sklearn.metrics import confusion_matrix\n",
        "matriz = confusion_matrix(y_test, y_pred)\n",
        "print('Matriz de Confusión:')\n",
        "print(matriz)"
      ],
      "metadata": {
        "colab": {
          "base_uri": "https://localhost:8080/"
        },
        "outputId": "636aa00c-09fd-4158-8c3f-ce9c469aa041",
        "id": "-le7zgBYjCt8"
      },
      "execution_count": null,
      "outputs": [
        {
          "output_type": "stream",
          "name": "stdout",
          "text": [
            "Matriz de Confusión:\n",
            "[[16 38]\n",
            " [16 50]]\n"
          ]
        }
      ]
    },
    {
      "cell_type": "code",
      "source": [
        "#Calculo la precisión del modelo\n",
        "from sklearn.metrics import precision_score\n",
        "\n",
        "precision = precision_score(y_test, y_pred, average=\"binary\", pos_label=\"COMPRAS\")\n",
        "print('Precisión del modelo:')\n",
        "print(precision)"
      ],
      "metadata": {
        "colab": {
          "base_uri": "https://localhost:8080/"
        },
        "outputId": "38ac0a5f-f121-43ae-e89e-05d7371bc655",
        "id": "SVq6fcdOjCt8"
      },
      "execution_count": null,
      "outputs": [
        {
          "output_type": "stream",
          "name": "stdout",
          "text": [
            "Precisión del modelo:\n",
            "0.5\n"
          ]
        }
      ]
    },
    {
      "cell_type": "code",
      "source": [
        "#Calculo la exactitud del modelo\n",
        "from sklearn.metrics import accuracy_score\n",
        "\n",
        "exactitud = accuracy_score(y_test, y_pred)\n",
        "print('Exactitud del modelo:')\n",
        "print(exactitud)"
      ],
      "metadata": {
        "colab": {
          "base_uri": "https://localhost:8080/"
        },
        "outputId": "924d92e5-bd99-40b4-ea73-de0b789a1839",
        "id": "iM7t_RmBjCt9"
      },
      "execution_count": null,
      "outputs": [
        {
          "output_type": "stream",
          "name": "stdout",
          "text": [
            "Exactitud del modelo:\n",
            "0.55\n"
          ]
        }
      ]
    },
    {
      "cell_type": "code",
      "source": [
        "#Calculo la sensibilidad del modelo\n",
        "from sklearn.metrics import recall_score\n",
        "\n",
        "sensibilidad = recall_score(y_test, y_pred, average=\"binary\", pos_label=\"COMPRAS\")\n",
        "print('Sensibilidad del modelo:')\n",
        "print(sensibilidad)"
      ],
      "metadata": {
        "colab": {
          "base_uri": "https://localhost:8080/"
        },
        "outputId": "faf41ffe-adf2-471b-8480-f83e1f3f64a7",
        "id": "cwD6beznjCt9"
      },
      "execution_count": null,
      "outputs": [
        {
          "output_type": "stream",
          "name": "stdout",
          "text": [
            "Sensibilidad del modelo:\n",
            "0.2962962962962963\n"
          ]
        }
      ]
    },
    {
      "cell_type": "code",
      "source": [
        "pres.append(precision)\n",
        "exa.append(exactitud)\n",
        "sen.append(sensibilidad)\n",
        "nom.append('2023')"
      ],
      "metadata": {
        "id": "Lr-qgocqqu5b"
      },
      "execution_count": null,
      "outputs": []
    },
    {
      "cell_type": "markdown",
      "source": [
        "#**TABLA**"
      ],
      "metadata": {
        "id": "WcYqWNWxrmU4"
      }
    },
    {
      "cell_type": "code",
      "source": [
        "tabla = pd.DataFrame()\n",
        "tabla['Año'] = nom\n",
        "tabla['Precision'] = pres\n",
        "tabla['Exactitud'] = exa\n",
        "tabla['Sensibilidad'] = sen\n",
        "tabla"
      ],
      "metadata": {
        "colab": {
          "base_uri": "https://localhost:8080/"
        },
        "id": "s6C-tWKbqzw4",
        "outputId": "2db9e88c-b720-40c2-a60d-49d0ebbc0f4e"
      },
      "execution_count": null,
      "outputs": [
        {
          "output_type": "execute_result",
          "data": {
            "text/plain": [
              "    Año  Precision  Exactitud  Sensibilidad\n",
              "0  2020   0.441734   0.461615      0.718062\n",
              "1  2021   0.491779   0.490670      0.726269\n",
              "2  2022   0.463972   0.475452      0.723288\n",
              "3  2023   0.500000   0.550000      0.296296"
            ],
            "text/html": [
              "\n",
              "  <div id=\"df-7c16668e-4bbe-44eb-a554-f297588633b6\">\n",
              "    <div class=\"colab-df-container\">\n",
              "      <div>\n",
              "<style scoped>\n",
              "    .dataframe tbody tr th:only-of-type {\n",
              "        vertical-align: middle;\n",
              "    }\n",
              "\n",
              "    .dataframe tbody tr th {\n",
              "        vertical-align: top;\n",
              "    }\n",
              "\n",
              "    .dataframe thead th {\n",
              "        text-align: right;\n",
              "    }\n",
              "</style>\n",
              "<table border=\"1\" class=\"dataframe\">\n",
              "  <thead>\n",
              "    <tr style=\"text-align: right;\">\n",
              "      <th></th>\n",
              "      <th>Año</th>\n",
              "      <th>Precision</th>\n",
              "      <th>Exactitud</th>\n",
              "      <th>Sensibilidad</th>\n",
              "    </tr>\n",
              "  </thead>\n",
              "  <tbody>\n",
              "    <tr>\n",
              "      <th>0</th>\n",
              "      <td>2020</td>\n",
              "      <td>0.441734</td>\n",
              "      <td>0.461615</td>\n",
              "      <td>0.718062</td>\n",
              "    </tr>\n",
              "    <tr>\n",
              "      <th>1</th>\n",
              "      <td>2021</td>\n",
              "      <td>0.491779</td>\n",
              "      <td>0.490670</td>\n",
              "      <td>0.726269</td>\n",
              "    </tr>\n",
              "    <tr>\n",
              "      <th>2</th>\n",
              "      <td>2022</td>\n",
              "      <td>0.463972</td>\n",
              "      <td>0.475452</td>\n",
              "      <td>0.723288</td>\n",
              "    </tr>\n",
              "    <tr>\n",
              "      <th>3</th>\n",
              "      <td>2023</td>\n",
              "      <td>0.500000</td>\n",
              "      <td>0.550000</td>\n",
              "      <td>0.296296</td>\n",
              "    </tr>\n",
              "  </tbody>\n",
              "</table>\n",
              "</div>\n",
              "      <button class=\"colab-df-convert\" onclick=\"convertToInteractive('df-7c16668e-4bbe-44eb-a554-f297588633b6')\"\n",
              "              title=\"Convert this dataframe to an interactive table.\"\n",
              "              style=\"display:none;\">\n",
              "        \n",
              "  <svg xmlns=\"http://www.w3.org/2000/svg\" height=\"24px\"viewBox=\"0 0 24 24\"\n",
              "       width=\"24px\">\n",
              "    <path d=\"M0 0h24v24H0V0z\" fill=\"none\"/>\n",
              "    <path d=\"M18.56 5.44l.94 2.06.94-2.06 2.06-.94-2.06-.94-.94-2.06-.94 2.06-2.06.94zm-11 1L8.5 8.5l.94-2.06 2.06-.94-2.06-.94L8.5 2.5l-.94 2.06-2.06.94zm10 10l.94 2.06.94-2.06 2.06-.94-2.06-.94-.94-2.06-.94 2.06-2.06.94z\"/><path d=\"M17.41 7.96l-1.37-1.37c-.4-.4-.92-.59-1.43-.59-.52 0-1.04.2-1.43.59L10.3 9.45l-7.72 7.72c-.78.78-.78 2.05 0 2.83L4 21.41c.39.39.9.59 1.41.59.51 0 1.02-.2 1.41-.59l7.78-7.78 2.81-2.81c.8-.78.8-2.07 0-2.86zM5.41 20L4 18.59l7.72-7.72 1.47 1.35L5.41 20z\"/>\n",
              "  </svg>\n",
              "      </button>\n",
              "      \n",
              "  <style>\n",
              "    .colab-df-container {\n",
              "      display:flex;\n",
              "      flex-wrap:wrap;\n",
              "      gap: 12px;\n",
              "    }\n",
              "\n",
              "    .colab-df-convert {\n",
              "      background-color: #E8F0FE;\n",
              "      border: none;\n",
              "      border-radius: 50%;\n",
              "      cursor: pointer;\n",
              "      display: none;\n",
              "      fill: #1967D2;\n",
              "      height: 32px;\n",
              "      padding: 0 0 0 0;\n",
              "      width: 32px;\n",
              "    }\n",
              "\n",
              "    .colab-df-convert:hover {\n",
              "      background-color: #E2EBFA;\n",
              "      box-shadow: 0px 1px 2px rgba(60, 64, 67, 0.3), 0px 1px 3px 1px rgba(60, 64, 67, 0.15);\n",
              "      fill: #174EA6;\n",
              "    }\n",
              "\n",
              "    [theme=dark] .colab-df-convert {\n",
              "      background-color: #3B4455;\n",
              "      fill: #D2E3FC;\n",
              "    }\n",
              "\n",
              "    [theme=dark] .colab-df-convert:hover {\n",
              "      background-color: #434B5C;\n",
              "      box-shadow: 0px 1px 3px 1px rgba(0, 0, 0, 0.15);\n",
              "      filter: drop-shadow(0px 1px 2px rgba(0, 0, 0, 0.3));\n",
              "      fill: #FFFFFF;\n",
              "    }\n",
              "  </style>\n",
              "\n",
              "      <script>\n",
              "        const buttonEl =\n",
              "          document.querySelector('#df-7c16668e-4bbe-44eb-a554-f297588633b6 button.colab-df-convert');\n",
              "        buttonEl.style.display =\n",
              "          google.colab.kernel.accessAllowed ? 'block' : 'none';\n",
              "\n",
              "        async function convertToInteractive(key) {\n",
              "          const element = document.querySelector('#df-7c16668e-4bbe-44eb-a554-f297588633b6');\n",
              "          const dataTable =\n",
              "            await google.colab.kernel.invokeFunction('convertToInteractive',\n",
              "                                                     [key], {});\n",
              "          if (!dataTable) return;\n",
              "\n",
              "          const docLinkHtml = 'Like what you see? Visit the ' +\n",
              "            '<a target=\"_blank\" href=https://colab.research.google.com/notebooks/data_table.ipynb>data table notebook</a>'\n",
              "            + ' to learn more about interactive tables.';\n",
              "          element.innerHTML = '';\n",
              "          dataTable['output_type'] = 'display_data';\n",
              "          await google.colab.output.renderOutput(dataTable, element);\n",
              "          const docLink = document.createElement('div');\n",
              "          docLink.innerHTML = docLinkHtml;\n",
              "          element.appendChild(docLink);\n",
              "        }\n",
              "      </script>\n",
              "    </div>\n",
              "  </div>\n",
              "  "
            ]
          },
          "metadata": {},
          "execution_count": 734
        }
      ]
    }
  ]
}